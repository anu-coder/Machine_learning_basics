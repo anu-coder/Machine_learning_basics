{
 "cells": [
  {
   "cell_type": "code",
   "execution_count": 42,
   "metadata": {},
   "outputs": [],
   "source": [
    "import pandas as pd\n",
    "import numpy as np\n",
    "import matplotlib.pyplot as plt"
   ]
  },
  {
   "cell_type": "markdown",
   "metadata": {},
   "source": [
    "# Pandes basic 1"
   ]
  },
  {
   "cell_type": "markdown",
   "metadata": {},
   "source": [
    "### Lets see the files we have "
   ]
  },
  {
   "cell_type": "code",
   "execution_count": 7,
   "metadata": {},
   "outputs": [
    {
     "data": {
      "text/plain": [
       "['311-service-requests.csv',\n",
       " 'bikes.csv',\n",
       " 'popularity-contest',\n",
       " 'README.md',\n",
       " 'weather_2012.csv',\n",
       " 'weather_2012.sqlite']"
      ]
     },
     "execution_count": 7,
     "metadata": {},
     "output_type": "execute_result"
    }
   ],
   "source": [
    "import os\n",
    "os.listdir('../data/')"
   ]
  },
  {
   "cell_type": "code",
   "execution_count": 11,
   "metadata": {},
   "outputs": [],
   "source": [
    "f = '../data/bikes.csv'\n",
    "broken_df = pd.read_csv(f, encoding = 'ISO-8859-1')"
   ]
  },
  {
   "cell_type": "code",
   "execution_count": 12,
   "metadata": {},
   "outputs": [
    {
     "data": {
      "text/html": [
       "<div>\n",
       "<style scoped>\n",
       "    .dataframe tbody tr th:only-of-type {\n",
       "        vertical-align: middle;\n",
       "    }\n",
       "\n",
       "    .dataframe tbody tr th {\n",
       "        vertical-align: top;\n",
       "    }\n",
       "\n",
       "    .dataframe thead th {\n",
       "        text-align: right;\n",
       "    }\n",
       "</style>\n",
       "<table border=\"1\" class=\"dataframe\">\n",
       "  <thead>\n",
       "    <tr style=\"text-align: right;\">\n",
       "      <th></th>\n",
       "      <th>Date;Berri 1;Brébeuf (données non disponibles);Côte-Sainte-Catherine;Maisonneuve 1;Maisonneuve 2;du Parc;Pierre-Dupuy;Rachel1;St-Urbain (données non disponibles)</th>\n",
       "    </tr>\n",
       "  </thead>\n",
       "  <tbody>\n",
       "    <tr>\n",
       "      <td>0</td>\n",
       "      <td>01/01/2012;35;;0;38;51;26;10;16;</td>\n",
       "    </tr>\n",
       "    <tr>\n",
       "      <td>1</td>\n",
       "      <td>02/01/2012;83;;1;68;153;53;6;43;</td>\n",
       "    </tr>\n",
       "    <tr>\n",
       "      <td>2</td>\n",
       "      <td>03/01/2012;135;;2;104;248;89;3;58;</td>\n",
       "    </tr>\n",
       "    <tr>\n",
       "      <td>3</td>\n",
       "      <td>04/01/2012;144;;1;116;318;111;8;61;</td>\n",
       "    </tr>\n",
       "    <tr>\n",
       "      <td>4</td>\n",
       "      <td>05/01/2012;197;;2;124;330;97;13;95;</td>\n",
       "    </tr>\n",
       "  </tbody>\n",
       "</table>\n",
       "</div>"
      ],
      "text/plain": [
       "  Date;Berri 1;Brébeuf (données non disponibles);Côte-Sainte-Catherine;Maisonneuve 1;Maisonneuve 2;du Parc;Pierre-Dupuy;Rachel1;St-Urbain (données non disponibles)\n",
       "0                   01/01/2012;35;;0;38;51;26;10;16;                                                                                                               \n",
       "1                   02/01/2012;83;;1;68;153;53;6;43;                                                                                                               \n",
       "2                 03/01/2012;135;;2;104;248;89;3;58;                                                                                                               \n",
       "3                04/01/2012;144;;1;116;318;111;8;61;                                                                                                               \n",
       "4                05/01/2012;197;;2;124;330;97;13;95;                                                                                                               "
      ]
     },
     "execution_count": 12,
     "metadata": {},
     "output_type": "execute_result"
    }
   ],
   "source": [
    "broken_df.head()"
   ]
  },
  {
   "cell_type": "markdown",
   "metadata": {},
   "source": [
    "### Facts to remeber while reading a csv file\n",
    "\n",
    "* If you know that any column is a date then use the list of such columns as parse_dates = ['col1', 'col2'], datfirst = True/False (not necessary)\n",
    "\n",
    "* If you want to directly read as string then use : converters= {colname: 'datatype'}"
   ]
  },
  {
   "cell_type": "code",
   "execution_count": 17,
   "metadata": {},
   "outputs": [],
   "source": [
    "fixed_df = pd.read_csv(f, sep=';', encoding = 'latin1', parse_dates = ['Date'], dayfirst = True)"
   ]
  },
  {
   "cell_type": "code",
   "execution_count": 18,
   "metadata": {},
   "outputs": [
    {
     "data": {
      "text/html": [
       "<div>\n",
       "<style scoped>\n",
       "    .dataframe tbody tr th:only-of-type {\n",
       "        vertical-align: middle;\n",
       "    }\n",
       "\n",
       "    .dataframe tbody tr th {\n",
       "        vertical-align: top;\n",
       "    }\n",
       "\n",
       "    .dataframe thead th {\n",
       "        text-align: right;\n",
       "    }\n",
       "</style>\n",
       "<table border=\"1\" class=\"dataframe\">\n",
       "  <thead>\n",
       "    <tr style=\"text-align: right;\">\n",
       "      <th></th>\n",
       "      <th>Date</th>\n",
       "      <th>Berri 1</th>\n",
       "      <th>Brébeuf (données non disponibles)</th>\n",
       "      <th>Côte-Sainte-Catherine</th>\n",
       "      <th>Maisonneuve 1</th>\n",
       "      <th>Maisonneuve 2</th>\n",
       "      <th>du Parc</th>\n",
       "      <th>Pierre-Dupuy</th>\n",
       "      <th>Rachel1</th>\n",
       "      <th>St-Urbain (données non disponibles)</th>\n",
       "    </tr>\n",
       "  </thead>\n",
       "  <tbody>\n",
       "    <tr>\n",
       "      <td>0</td>\n",
       "      <td>2012-01-01</td>\n",
       "      <td>35</td>\n",
       "      <td>NaN</td>\n",
       "      <td>0</td>\n",
       "      <td>38</td>\n",
       "      <td>51</td>\n",
       "      <td>26</td>\n",
       "      <td>10</td>\n",
       "      <td>16</td>\n",
       "      <td>NaN</td>\n",
       "    </tr>\n",
       "    <tr>\n",
       "      <td>1</td>\n",
       "      <td>2012-01-02</td>\n",
       "      <td>83</td>\n",
       "      <td>NaN</td>\n",
       "      <td>1</td>\n",
       "      <td>68</td>\n",
       "      <td>153</td>\n",
       "      <td>53</td>\n",
       "      <td>6</td>\n",
       "      <td>43</td>\n",
       "      <td>NaN</td>\n",
       "    </tr>\n",
       "    <tr>\n",
       "      <td>2</td>\n",
       "      <td>2012-01-03</td>\n",
       "      <td>135</td>\n",
       "      <td>NaN</td>\n",
       "      <td>2</td>\n",
       "      <td>104</td>\n",
       "      <td>248</td>\n",
       "      <td>89</td>\n",
       "      <td>3</td>\n",
       "      <td>58</td>\n",
       "      <td>NaN</td>\n",
       "    </tr>\n",
       "    <tr>\n",
       "      <td>3</td>\n",
       "      <td>2012-01-04</td>\n",
       "      <td>144</td>\n",
       "      <td>NaN</td>\n",
       "      <td>1</td>\n",
       "      <td>116</td>\n",
       "      <td>318</td>\n",
       "      <td>111</td>\n",
       "      <td>8</td>\n",
       "      <td>61</td>\n",
       "      <td>NaN</td>\n",
       "    </tr>\n",
       "    <tr>\n",
       "      <td>4</td>\n",
       "      <td>2012-01-05</td>\n",
       "      <td>197</td>\n",
       "      <td>NaN</td>\n",
       "      <td>2</td>\n",
       "      <td>124</td>\n",
       "      <td>330</td>\n",
       "      <td>97</td>\n",
       "      <td>13</td>\n",
       "      <td>95</td>\n",
       "      <td>NaN</td>\n",
       "    </tr>\n",
       "  </tbody>\n",
       "</table>\n",
       "</div>"
      ],
      "text/plain": [
       "        Date  Berri 1  Brébeuf (données non disponibles)  \\\n",
       "0 2012-01-01       35                                NaN   \n",
       "1 2012-01-02       83                                NaN   \n",
       "2 2012-01-03      135                                NaN   \n",
       "3 2012-01-04      144                                NaN   \n",
       "4 2012-01-05      197                                NaN   \n",
       "\n",
       "   Côte-Sainte-Catherine  Maisonneuve 1  Maisonneuve 2  du Parc  Pierre-Dupuy  \\\n",
       "0                      0             38             51       26            10   \n",
       "1                      1             68            153       53             6   \n",
       "2                      2            104            248       89             3   \n",
       "3                      1            116            318      111             8   \n",
       "4                      2            124            330       97            13   \n",
       "\n",
       "   Rachel1  St-Urbain (données non disponibles)  \n",
       "0       16                                  NaN  \n",
       "1       43                                  NaN  \n",
       "2       58                                  NaN  \n",
       "3       61                                  NaN  \n",
       "4       95                                  NaN  "
      ]
     },
     "execution_count": 18,
     "metadata": {},
     "output_type": "execute_result"
    }
   ],
   "source": [
    "fixed_df.head()"
   ]
  },
  {
   "cell_type": "code",
   "execution_count": 19,
   "metadata": {},
   "outputs": [
    {
     "data": {
      "text/plain": [
       "Index(['Date', 'Berri 1', 'Brébeuf (données non disponibles)',\n",
       "       'Côte-Sainte-Catherine', 'Maisonneuve 1', 'Maisonneuve 2', 'du Parc',\n",
       "       'Pierre-Dupuy', 'Rachel1', 'St-Urbain (données non disponibles)'],\n",
       "      dtype='object')"
      ]
     },
     "execution_count": 19,
     "metadata": {},
     "output_type": "execute_result"
    }
   ],
   "source": [
    "fixed_df.columns"
   ]
  },
  {
   "cell_type": "markdown",
   "metadata": {},
   "source": [
    "###  When is a datatype shown as object!"
   ]
  },
  {
   "cell_type": "markdown",
   "metadata": {},
   "source": [
    "* date is read as object(str) by default if not changed while reading the file. \n",
    "* any column as numbers are read as integer or float by default, if you need to read it as string/ object then use converters"
   ]
  },
  {
   "cell_type": "code",
   "execution_count": 20,
   "metadata": {},
   "outputs": [
    {
     "data": {
      "text/plain": [
       "Date                                   datetime64[ns]\n",
       "Berri 1                                         int64\n",
       "Brébeuf (données non disponibles)             float64\n",
       "Côte-Sainte-Catherine                           int64\n",
       "Maisonneuve 1                                   int64\n",
       "Maisonneuve 2                                   int64\n",
       "du Parc                                         int64\n",
       "Pierre-Dupuy                                    int64\n",
       "Rachel1                                         int64\n",
       "St-Urbain (données non disponibles)           float64\n",
       "dtype: object"
      ]
     },
     "execution_count": 20,
     "metadata": {},
     "output_type": "execute_result"
    }
   ],
   "source": [
    "fixed_df.dtypes"
   ]
  },
  {
   "cell_type": "markdown",
   "metadata": {},
   "source": [
    "###  Selecting a column\n",
    "* If there is a space in a column name then dot operator cannot be used to select it"
   ]
  },
  {
   "cell_type": "code",
   "execution_count": 21,
   "metadata": {},
   "outputs": [
    {
     "data": {
      "text/plain": [
       "0        35\n",
       "1        83\n",
       "2       135\n",
       "3       144\n",
       "4       197\n",
       "       ... \n",
       "305    2405\n",
       "306    1582\n",
       "307     844\n",
       "308     966\n",
       "309    2247\n",
       "Name: Berri 1, Length: 310, dtype: int64"
      ]
     },
     "execution_count": 21,
     "metadata": {},
     "output_type": "execute_result"
    }
   ],
   "source": [
    "fixed_df['Berri 1']"
   ]
  },
  {
   "cell_type": "code",
   "execution_count": 23,
   "metadata": {},
   "outputs": [
    {
     "data": {
      "text/plain": [
       "['Date',\n",
       " 'Berri 1',\n",
       " 'Brébeuf (données non disponibles)',\n",
       " 'Côte-Sainte-Catherine',\n",
       " 'Maisonneuve 1',\n",
       " 'Maisonneuve 2',\n",
       " 'du Parc',\n",
       " 'Pierre-Dupuy',\n",
       " 'Rachel1',\n",
       " 'St-Urbain (données non disponibles)']"
      ]
     },
     "execution_count": 23,
     "metadata": {},
     "output_type": "execute_result"
    }
   ],
   "source": [
    "cols = list(fixed_df.columns)\n",
    "cols"
   ]
  },
  {
   "cell_type": "markdown",
   "metadata": {},
   "source": [
    "### Lets write a function to clean the black spaces in general\n",
    " \n",
    "#### Can you also clean non english columns? (check later)"
   ]
  },
  {
   "cell_type": "code",
   "execution_count": 24,
   "metadata": {},
   "outputs": [],
   "source": [
    "def clean_colnames(cols):\n",
    "    cols = cols.strip()\n",
    "    cols = cols.replace(' ', '_')\n",
    "    \n",
    "    return cols"
   ]
  },
  {
   "cell_type": "code",
   "execution_count": 26,
   "metadata": {},
   "outputs": [
    {
     "data": {
      "text/plain": [
       "['Date',\n",
       " 'Berri_1',\n",
       " 'Brébeuf_(données_non_disponibles)',\n",
       " 'Côte-Sainte-Catherine',\n",
       " 'Maisonneuve_1',\n",
       " 'Maisonneuve_2',\n",
       " 'du_Parc',\n",
       " 'Pierre-Dupuy',\n",
       " 'Rachel1',\n",
       " 'St-Urbain_(données_non_disponibles)']"
      ]
     },
     "execution_count": 26,
     "metadata": {},
     "output_type": "execute_result"
    }
   ],
   "source": [
    "clean_cols = [clean_colnames(cols) for cols in cols]\n",
    "clean_cols"
   ]
  },
  {
   "cell_type": "markdown",
   "metadata": {},
   "source": [
    "#### how else to use a function in a list : Use \"map()\"\n",
    "\n",
    "* Map is not iterable so convert it into iterable using list()"
   ]
  },
  {
   "cell_type": "code",
   "execution_count": 29,
   "metadata": {},
   "outputs": [
    {
     "data": {
      "text/plain": [
       "['Date',\n",
       " 'Berri_1',\n",
       " 'Brébeuf_(données_non_disponibles)',\n",
       " 'Côte-Sainte-Catherine',\n",
       " 'Maisonneuve_1',\n",
       " 'Maisonneuve_2',\n",
       " 'du_Parc',\n",
       " 'Pierre-Dupuy',\n",
       " 'Rachel1',\n",
       " 'St-Urbain_(données_non_disponibles)']"
      ]
     },
     "execution_count": 29,
     "metadata": {},
     "output_type": "execute_result"
    }
   ],
   "source": [
    "clean_cols1 = list(map(clean_colnames, cols))\n",
    "clean_cols1"
   ]
  },
  {
   "cell_type": "code",
   "execution_count": 30,
   "metadata": {},
   "outputs": [],
   "source": [
    "fixed_df.columns = clean_cols"
   ]
  },
  {
   "cell_type": "code",
   "execution_count": 31,
   "metadata": {},
   "outputs": [
    {
     "data": {
      "text/html": [
       "<div>\n",
       "<style scoped>\n",
       "    .dataframe tbody tr th:only-of-type {\n",
       "        vertical-align: middle;\n",
       "    }\n",
       "\n",
       "    .dataframe tbody tr th {\n",
       "        vertical-align: top;\n",
       "    }\n",
       "\n",
       "    .dataframe thead th {\n",
       "        text-align: right;\n",
       "    }\n",
       "</style>\n",
       "<table border=\"1\" class=\"dataframe\">\n",
       "  <thead>\n",
       "    <tr style=\"text-align: right;\">\n",
       "      <th></th>\n",
       "      <th>Date</th>\n",
       "      <th>Berri_1</th>\n",
       "      <th>Brébeuf_(données_non_disponibles)</th>\n",
       "      <th>Côte-Sainte-Catherine</th>\n",
       "      <th>Maisonneuve_1</th>\n",
       "      <th>Maisonneuve_2</th>\n",
       "      <th>du_Parc</th>\n",
       "      <th>Pierre-Dupuy</th>\n",
       "      <th>Rachel1</th>\n",
       "      <th>St-Urbain_(données_non_disponibles)</th>\n",
       "    </tr>\n",
       "  </thead>\n",
       "  <tbody>\n",
       "    <tr>\n",
       "      <td>0</td>\n",
       "      <td>2012-01-01</td>\n",
       "      <td>35</td>\n",
       "      <td>NaN</td>\n",
       "      <td>0</td>\n",
       "      <td>38</td>\n",
       "      <td>51</td>\n",
       "      <td>26</td>\n",
       "      <td>10</td>\n",
       "      <td>16</td>\n",
       "      <td>NaN</td>\n",
       "    </tr>\n",
       "    <tr>\n",
       "      <td>1</td>\n",
       "      <td>2012-01-02</td>\n",
       "      <td>83</td>\n",
       "      <td>NaN</td>\n",
       "      <td>1</td>\n",
       "      <td>68</td>\n",
       "      <td>153</td>\n",
       "      <td>53</td>\n",
       "      <td>6</td>\n",
       "      <td>43</td>\n",
       "      <td>NaN</td>\n",
       "    </tr>\n",
       "    <tr>\n",
       "      <td>2</td>\n",
       "      <td>2012-01-03</td>\n",
       "      <td>135</td>\n",
       "      <td>NaN</td>\n",
       "      <td>2</td>\n",
       "      <td>104</td>\n",
       "      <td>248</td>\n",
       "      <td>89</td>\n",
       "      <td>3</td>\n",
       "      <td>58</td>\n",
       "      <td>NaN</td>\n",
       "    </tr>\n",
       "    <tr>\n",
       "      <td>3</td>\n",
       "      <td>2012-01-04</td>\n",
       "      <td>144</td>\n",
       "      <td>NaN</td>\n",
       "      <td>1</td>\n",
       "      <td>116</td>\n",
       "      <td>318</td>\n",
       "      <td>111</td>\n",
       "      <td>8</td>\n",
       "      <td>61</td>\n",
       "      <td>NaN</td>\n",
       "    </tr>\n",
       "    <tr>\n",
       "      <td>4</td>\n",
       "      <td>2012-01-05</td>\n",
       "      <td>197</td>\n",
       "      <td>NaN</td>\n",
       "      <td>2</td>\n",
       "      <td>124</td>\n",
       "      <td>330</td>\n",
       "      <td>97</td>\n",
       "      <td>13</td>\n",
       "      <td>95</td>\n",
       "      <td>NaN</td>\n",
       "    </tr>\n",
       "  </tbody>\n",
       "</table>\n",
       "</div>"
      ],
      "text/plain": [
       "        Date  Berri_1  Brébeuf_(données_non_disponibles)  \\\n",
       "0 2012-01-01       35                                NaN   \n",
       "1 2012-01-02       83                                NaN   \n",
       "2 2012-01-03      135                                NaN   \n",
       "3 2012-01-04      144                                NaN   \n",
       "4 2012-01-05      197                                NaN   \n",
       "\n",
       "   Côte-Sainte-Catherine  Maisonneuve_1  Maisonneuve_2  du_Parc  Pierre-Dupuy  \\\n",
       "0                      0             38             51       26            10   \n",
       "1                      1             68            153       53             6   \n",
       "2                      2            104            248       89             3   \n",
       "3                      1            116            318      111             8   \n",
       "4                      2            124            330       97            13   \n",
       "\n",
       "   Rachel1  St-Urbain_(données_non_disponibles)  \n",
       "0       16                                  NaN  \n",
       "1       43                                  NaN  \n",
       "2       58                                  NaN  \n",
       "3       61                                  NaN  \n",
       "4       95                                  NaN  "
      ]
     },
     "execution_count": 31,
     "metadata": {},
     "output_type": "execute_result"
    }
   ],
   "source": [
    "fixed_df.head()"
   ]
  },
  {
   "cell_type": "code",
   "execution_count": 33,
   "metadata": {},
   "outputs": [
    {
     "data": {
      "text/plain": [
       "Date                                   datetime64[ns]\n",
       "Berri_1                                         int64\n",
       "Brébeuf_(données_non_disponibles)             float64\n",
       "Côte-Sainte-Catherine                           int64\n",
       "Maisonneuve_1                                   int64\n",
       "Maisonneuve_2                                   int64\n",
       "du_Parc                                         int64\n",
       "Pierre-Dupuy                                    int64\n",
       "Rachel1                                         int64\n",
       "St-Urbain_(données_non_disponibles)           float64\n",
       "dtype: object"
      ]
     },
     "execution_count": 33,
     "metadata": {},
     "output_type": "execute_result"
    }
   ],
   "source": [
    "fixed_df.dtypes"
   ]
  },
  {
   "cell_type": "markdown",
   "metadata": {},
   "source": [
    "### Plotting a column"
   ]
  },
  {
   "cell_type": "code",
   "execution_count": 35,
   "metadata": {},
   "outputs": [
    {
     "data": {
      "text/plain": [
       "<matplotlib.axes._subplots.AxesSubplot at 0x188f7982b88>"
      ]
     },
     "execution_count": 35,
     "metadata": {},
     "output_type": "execute_result"
    },
    {
     "data": {
      "image/png": "[encoded data removed]",
      "text/plain": [
       "<Figure size 432x288 with 1 Axes>"
      ]
     },
     "metadata": {
      "needs_background": "light"
     },
     "output_type": "display_data"
    }
   ],
   "source": [
    "fixed_df.Berri_1.plot()"
   ]
  },
  {
   "cell_type": "code",
   "execution_count": 36,
   "metadata": {},
   "outputs": [
    {
     "data": {
      "text/plain": [
       "<matplotlib.axes._subplots.AxesSubplot at 0x18881167f48>"
      ]
     },
     "execution_count": 36,
     "metadata": {},
     "output_type": "execute_result"
    },
    {
     "data": {
      "image/png": "[encoded data removed]",
      "text/plain": [
       "<Figure size 432x288 with 1 Axes>"
      ]
     },
     "metadata": {
      "needs_background": "light"
     },
     "output_type": "display_data"
    }
   ],
   "source": [
    "fixed_df.Berri_1.plot(kind = 'hist', color = 'red')"
   ]
  },
  {
   "cell_type": "code",
   "execution_count": 37,
   "metadata": {},
   "outputs": [
    {
     "data": {
      "text/plain": [
       "<matplotlib.axes._subplots.AxesSubplot at 0x18881177208>"
      ]
     },
     "execution_count": 37,
     "metadata": {},
     "output_type": "execute_result"
    },
    {
     "data": {
      "image/png": "[encoded data removed]",
      "text/plain": [
       "<Figure size 432x288 with 1 Axes>"
      ]
     },
     "metadata": {
      "needs_background": "light"
     },
     "output_type": "display_data"
    }
   ],
   "source": [
    "fixed_df.Berri_1.plot(kind = 'box', color = 'orange')"
   ]
  },
  {
   "cell_type": "markdown",
   "metadata": {},
   "source": [
    "### Since the entire dataset is not homogenous in datatypes so one cannot plot the entire dataset\n",
    "\n",
    "__But the date column can be changed into index__"
   ]
  },
  {
   "cell_type": "code",
   "execution_count": 39,
   "metadata": {},
   "outputs": [],
   "source": [
    "fixed_df.set_index('Date', inplace = True)"
   ]
  },
  {
   "cell_type": "code",
   "execution_count": 40,
   "metadata": {},
   "outputs": [
    {
     "data": {
      "text/html": [
       "<div>\n",
       "<style scoped>\n",
       "    .dataframe tbody tr th:only-of-type {\n",
       "        vertical-align: middle;\n",
       "    }\n",
       "\n",
       "    .dataframe tbody tr th {\n",
       "        vertical-align: top;\n",
       "    }\n",
       "\n",
       "    .dataframe thead th {\n",
       "        text-align: right;\n",
       "    }\n",
       "</style>\n",
       "<table border=\"1\" class=\"dataframe\">\n",
       "  <thead>\n",
       "    <tr style=\"text-align: right;\">\n",
       "      <th></th>\n",
       "      <th>Berri_1</th>\n",
       "      <th>Brébeuf_(données_non_disponibles)</th>\n",
       "      <th>Côte-Sainte-Catherine</th>\n",
       "      <th>Maisonneuve_1</th>\n",
       "      <th>Maisonneuve_2</th>\n",
       "      <th>du_Parc</th>\n",
       "      <th>Pierre-Dupuy</th>\n",
       "      <th>Rachel1</th>\n",
       "      <th>St-Urbain_(données_non_disponibles)</th>\n",
       "    </tr>\n",
       "    <tr>\n",
       "      <th>Date</th>\n",
       "      <th></th>\n",
       "      <th></th>\n",
       "      <th></th>\n",
       "      <th></th>\n",
       "      <th></th>\n",
       "      <th></th>\n",
       "      <th></th>\n",
       "      <th></th>\n",
       "      <th></th>\n",
       "    </tr>\n",
       "  </thead>\n",
       "  <tbody>\n",
       "    <tr>\n",
       "      <td>2012-01-01</td>\n",
       "      <td>35</td>\n",
       "      <td>NaN</td>\n",
       "      <td>0</td>\n",
       "      <td>38</td>\n",
       "      <td>51</td>\n",
       "      <td>26</td>\n",
       "      <td>10</td>\n",
       "      <td>16</td>\n",
       "      <td>NaN</td>\n",
       "    </tr>\n",
       "    <tr>\n",
       "      <td>2012-01-02</td>\n",
       "      <td>83</td>\n",
       "      <td>NaN</td>\n",
       "      <td>1</td>\n",
       "      <td>68</td>\n",
       "      <td>153</td>\n",
       "      <td>53</td>\n",
       "      <td>6</td>\n",
       "      <td>43</td>\n",
       "      <td>NaN</td>\n",
       "    </tr>\n",
       "    <tr>\n",
       "      <td>2012-01-03</td>\n",
       "      <td>135</td>\n",
       "      <td>NaN</td>\n",
       "      <td>2</td>\n",
       "      <td>104</td>\n",
       "      <td>248</td>\n",
       "      <td>89</td>\n",
       "      <td>3</td>\n",
       "      <td>58</td>\n",
       "      <td>NaN</td>\n",
       "    </tr>\n",
       "    <tr>\n",
       "      <td>2012-01-04</td>\n",
       "      <td>144</td>\n",
       "      <td>NaN</td>\n",
       "      <td>1</td>\n",
       "      <td>116</td>\n",
       "      <td>318</td>\n",
       "      <td>111</td>\n",
       "      <td>8</td>\n",
       "      <td>61</td>\n",
       "      <td>NaN</td>\n",
       "    </tr>\n",
       "    <tr>\n",
       "      <td>2012-01-05</td>\n",
       "      <td>197</td>\n",
       "      <td>NaN</td>\n",
       "      <td>2</td>\n",
       "      <td>124</td>\n",
       "      <td>330</td>\n",
       "      <td>97</td>\n",
       "      <td>13</td>\n",
       "      <td>95</td>\n",
       "      <td>NaN</td>\n",
       "    </tr>\n",
       "  </tbody>\n",
       "</table>\n",
       "</div>"
      ],
      "text/plain": [
       "            Berri_1  Brébeuf_(données_non_disponibles)  Côte-Sainte-Catherine  \\\n",
       "Date                                                                            \n",
       "2012-01-01       35                                NaN                      0   \n",
       "2012-01-02       83                                NaN                      1   \n",
       "2012-01-03      135                                NaN                      2   \n",
       "2012-01-04      144                                NaN                      1   \n",
       "2012-01-05      197                                NaN                      2   \n",
       "\n",
       "            Maisonneuve_1  Maisonneuve_2  du_Parc  Pierre-Dupuy  Rachel1  \\\n",
       "Date                                                                       \n",
       "2012-01-01             38             51       26            10       16   \n",
       "2012-01-02             68            153       53             6       43   \n",
       "2012-01-03            104            248       89             3       58   \n",
       "2012-01-04            116            318      111             8       61   \n",
       "2012-01-05            124            330       97            13       95   \n",
       "\n",
       "            St-Urbain_(données_non_disponibles)  \n",
       "Date                                             \n",
       "2012-01-01                                  NaN  \n",
       "2012-01-02                                  NaN  \n",
       "2012-01-03                                  NaN  \n",
       "2012-01-04                                  NaN  \n",
       "2012-01-05                                  NaN  "
      ]
     },
     "execution_count": 40,
     "metadata": {},
     "output_type": "execute_result"
    }
   ],
   "source": [
    "fixed_df.head()"
   ]
  },
  {
   "cell_type": "markdown",
   "metadata": {},
   "source": [
    "### Lets create our own data"
   ]
  },
  {
   "cell_type": "code",
   "execution_count": 49,
   "metadata": {},
   "outputs": [],
   "source": [
    "years = np.arange(1901, 2001, 1, dtype = int)\n",
    "years = np.repeat(years, 4)\n",
    "months = np.array(['Q1','Q2','Q3','Q4']* 100)"
   ]
  },
  {
   "cell_type": "code",
   "execution_count": 50,
   "metadata": {},
   "outputs": [
    {
     "data": {
      "text/plain": [
       "array([1901, 1901, 1901, 1901, 1902, 1902, 1902, 1902, 1903, 1903, 1903,\n",
       "       1903, 1904, 1904, 1904, 1904, 1905, 1905, 1905, 1905, 1906, 1906,\n",
       "       1906, 1906, 1907, 1907, 1907, 1907, 1908, 1908, 1908, 1908, 1909,\n",
       "       1909, 1909, 1909, 1910, 1910, 1910, 1910, 1911, 1911, 1911, 1911,\n",
       "       1912, 1912, 1912, 1912, 1913, 1913, 1913, 1913, 1914, 1914, 1914,\n",
       "       1914, 1915, 1915, 1915, 1915, 1916, 1916, 1916, 1916, 1917, 1917,\n",
       "       1917, 1917, 1918, 1918, 1918, 1918, 1919, 1919, 1919, 1919, 1920,\n",
       "       1920, 1920, 1920, 1921, 1921, 1921, 1921, 1922, 1922, 1922, 1922,\n",
       "       1923, 1923, 1923, 1923, 1924, 1924, 1924, 1924, 1925, 1925, 1925,\n",
       "       1925, 1926, 1926, 1926, 1926, 1927, 1927, 1927, 1927, 1928, 1928,\n",
       "       1928, 1928, 1929, 1929, 1929, 1929, 1930, 1930, 1930, 1930, 1931,\n",
       "       1931, 1931, 1931, 1932, 1932, 1932, 1932, 1933, 1933, 1933, 1933,\n",
       "       1934, 1934, 1934, 1934, 1935, 1935, 1935, 1935, 1936, 1936, 1936,\n",
       "       1936, 1937, 1937, 1937, 1937, 1938, 1938, 1938, 1938, 1939, 1939,\n",
       "       1939, 1939, 1940, 1940, 1940, 1940, 1941, 1941, 1941, 1941, 1942,\n",
       "       1942, 1942, 1942, 1943, 1943, 1943, 1943, 1944, 1944, 1944, 1944,\n",
       "       1945, 1945, 1945, 1945, 1946, 1946, 1946, 1946, 1947, 1947, 1947,\n",
       "       1947, 1948, 1948, 1948, 1948, 1949, 1949, 1949, 1949, 1950, 1950,\n",
       "       1950, 1950, 1951, 1951, 1951, 1951, 1952, 1952, 1952, 1952, 1953,\n",
       "       1953, 1953, 1953, 1954, 1954, 1954, 1954, 1955, 1955, 1955, 1955,\n",
       "       1956, 1956, 1956, 1956, 1957, 1957, 1957, 1957, 1958, 1958, 1958,\n",
       "       1958, 1959, 1959, 1959, 1959, 1960, 1960, 1960, 1960, 1961, 1961,\n",
       "       1961, 1961, 1962, 1962, 1962, 1962, 1963, 1963, 1963, 1963, 1964,\n",
       "       1964, 1964, 1964, 1965, 1965, 1965, 1965, 1966, 1966, 1966, 1966,\n",
       "       1967, 1967, 1967, 1967, 1968, 1968, 1968, 1968, 1969, 1969, 1969,\n",
       "       1969, 1970, 1970, 1970, 1970, 1971, 1971, 1971, 1971, 1972, 1972,\n",
       "       1972, 1972, 1973, 1973, 1973, 1973, 1974, 1974, 1974, 1974, 1975,\n",
       "       1975, 1975, 1975, 1976, 1976, 1976, 1976, 1977, 1977, 1977, 1977,\n",
       "       1978, 1978, 1978, 1978, 1979, 1979, 1979, 1979, 1980, 1980, 1980,\n",
       "       1980, 1981, 1981, 1981, 1981, 1982, 1982, 1982, 1982, 1983, 1983,\n",
       "       1983, 1983, 1984, 1984, 1984, 1984, 1985, 1985, 1985, 1985, 1986,\n",
       "       1986, 1986, 1986, 1987, 1987, 1987, 1987, 1988, 1988, 1988, 1988,\n",
       "       1989, 1989, 1989, 1989, 1990, 1990, 1990, 1990, 1991, 1991, 1991,\n",
       "       1991, 1992, 1992, 1992, 1992, 1993, 1993, 1993, 1993, 1994, 1994,\n",
       "       1994, 1994, 1995, 1995, 1995, 1995, 1996, 1996, 1996, 1996, 1997,\n",
       "       1997, 1997, 1997, 1998, 1998, 1998, 1998, 1999, 1999, 1999, 1999,\n",
       "       2000, 2000, 2000, 2000])"
      ]
     },
     "execution_count": 50,
     "metadata": {},
     "output_type": "execute_result"
    }
   ],
   "source": [
    "years"
   ]
  },
  {
   "cell_type": "code",
   "execution_count": 47,
   "metadata": {},
   "outputs": [
    {
     "data": {
      "text/plain": [
       "array(['Q1', 'Q2', 'Q3', 'Q4', 'Q1', 'Q2', 'Q3', 'Q4', 'Q1', 'Q2', 'Q3',\n",
       "       'Q4', 'Q1', 'Q2', 'Q3', 'Q4', 'Q1', 'Q2', 'Q3', 'Q4', 'Q1', 'Q2',\n",
       "       'Q3', 'Q4', 'Q1', 'Q2', 'Q3', 'Q4', 'Q1', 'Q2', 'Q3', 'Q4', 'Q1',\n",
       "       'Q2', 'Q3', 'Q4', 'Q1', 'Q2', 'Q3', 'Q4', 'Q1', 'Q2', 'Q3', 'Q4',\n",
       "       'Q1', 'Q2', 'Q3', 'Q4', 'Q1', 'Q2', 'Q3', 'Q4', 'Q1', 'Q2', 'Q3',\n",
       "       'Q4', 'Q1', 'Q2', 'Q3', 'Q4', 'Q1', 'Q2', 'Q3', 'Q4', 'Q1', 'Q2',\n",
       "       'Q3', 'Q4', 'Q1', 'Q2', 'Q3', 'Q4', 'Q1', 'Q2', 'Q3', 'Q4', 'Q1',\n",
       "       'Q2', 'Q3', 'Q4', 'Q1', 'Q2', 'Q3', 'Q4', 'Q1', 'Q2', 'Q3', 'Q4',\n",
       "       'Q1', 'Q2', 'Q3', 'Q4', 'Q1', 'Q2', 'Q3', 'Q4', 'Q1', 'Q2', 'Q3',\n",
       "       'Q4', 'Q1', 'Q2', 'Q3', 'Q4', 'Q1', 'Q2', 'Q3', 'Q4', 'Q1', 'Q2',\n",
       "       'Q3', 'Q4', 'Q1', 'Q2', 'Q3', 'Q4', 'Q1', 'Q2', 'Q3', 'Q4', 'Q1',\n",
       "       'Q2', 'Q3', 'Q4', 'Q1', 'Q2', 'Q3', 'Q4', 'Q1', 'Q2', 'Q3', 'Q4',\n",
       "       'Q1', 'Q2', 'Q3', 'Q4', 'Q1', 'Q2', 'Q3', 'Q4', 'Q1', 'Q2', 'Q3',\n",
       "       'Q4', 'Q1', 'Q2', 'Q3', 'Q4', 'Q1', 'Q2', 'Q3', 'Q4', 'Q1', 'Q2',\n",
       "       'Q3', 'Q4', 'Q1', 'Q2', 'Q3', 'Q4', 'Q1', 'Q2', 'Q3', 'Q4', 'Q1',\n",
       "       'Q2', 'Q3', 'Q4', 'Q1', 'Q2', 'Q3', 'Q4', 'Q1', 'Q2', 'Q3', 'Q4',\n",
       "       'Q1', 'Q2', 'Q3', 'Q4', 'Q1', 'Q2', 'Q3', 'Q4', 'Q1', 'Q2', 'Q3',\n",
       "       'Q4', 'Q1', 'Q2', 'Q3', 'Q4', 'Q1', 'Q2', 'Q3', 'Q4', 'Q1', 'Q2',\n",
       "       'Q3', 'Q4', 'Q1', 'Q2', 'Q3', 'Q4', 'Q1', 'Q2', 'Q3', 'Q4', 'Q1',\n",
       "       'Q2', 'Q3', 'Q4', 'Q1', 'Q2', 'Q3', 'Q4', 'Q1', 'Q2', 'Q3', 'Q4',\n",
       "       'Q1', 'Q2', 'Q3', 'Q4', 'Q1', 'Q2', 'Q3', 'Q4', 'Q1', 'Q2', 'Q3',\n",
       "       'Q4', 'Q1', 'Q2', 'Q3', 'Q4', 'Q1', 'Q2', 'Q3', 'Q4', 'Q1', 'Q2',\n",
       "       'Q3', 'Q4', 'Q1', 'Q2', 'Q3', 'Q4', 'Q1', 'Q2', 'Q3', 'Q4', 'Q1',\n",
       "       'Q2', 'Q3', 'Q4', 'Q1', 'Q2', 'Q3', 'Q4', 'Q1', 'Q2', 'Q3', 'Q4',\n",
       "       'Q1', 'Q2', 'Q3', 'Q4', 'Q1', 'Q2', 'Q3', 'Q4', 'Q1', 'Q2', 'Q3',\n",
       "       'Q4', 'Q1', 'Q2', 'Q3', 'Q4', 'Q1', 'Q2', 'Q3', 'Q4', 'Q1', 'Q2',\n",
       "       'Q3', 'Q4', 'Q1', 'Q2', 'Q3', 'Q4', 'Q1', 'Q2', 'Q3', 'Q4', 'Q1',\n",
       "       'Q2', 'Q3', 'Q4', 'Q1', 'Q2', 'Q3', 'Q4', 'Q1', 'Q2', 'Q3', 'Q4',\n",
       "       'Q1', 'Q2', 'Q3', 'Q4', 'Q1', 'Q2', 'Q3', 'Q4', 'Q1', 'Q2', 'Q3',\n",
       "       'Q4', 'Q1', 'Q2', 'Q3', 'Q4', 'Q1', 'Q2', 'Q3', 'Q4', 'Q1', 'Q2',\n",
       "       'Q3', 'Q4', 'Q1', 'Q2', 'Q3', 'Q4', 'Q1', 'Q2', 'Q3', 'Q4', 'Q1',\n",
       "       'Q2', 'Q3', 'Q4', 'Q1', 'Q2', 'Q3', 'Q4', 'Q1', 'Q2', 'Q3', 'Q4',\n",
       "       'Q1', 'Q2', 'Q3', 'Q4', 'Q1', 'Q2', 'Q3', 'Q4', 'Q1', 'Q2', 'Q3',\n",
       "       'Q4', 'Q1', 'Q2', 'Q3', 'Q4', 'Q1', 'Q2', 'Q3', 'Q4', 'Q1', 'Q2',\n",
       "       'Q3', 'Q4', 'Q1', 'Q2', 'Q3', 'Q4', 'Q1', 'Q2', 'Q3', 'Q4', 'Q1',\n",
       "       'Q2', 'Q3', 'Q4', 'Q1', 'Q2', 'Q3', 'Q4', 'Q1', 'Q2', 'Q3', 'Q4',\n",
       "       'Q1', 'Q2', 'Q3', 'Q4'], dtype='<U2')"
      ]
     },
     "execution_count": 47,
     "metadata": {},
     "output_type": "execute_result"
    }
   ],
   "source": [
    "months"
   ]
  },
  {
   "cell_type": "code",
   "execution_count": 48,
   "metadata": {},
   "outputs": [
    {
     "data": {
      "text/plain": [
       "array([ 2.47783682e+00, -1.09669330e+00, -1.74309977e-01,  2.08919495e-01,\n",
       "       -7.88521277e-01, -6.51714515e-01, -7.87107083e-01,  3.39342039e-01,\n",
       "       -3.90019033e-01, -5.68263199e-01,  4.12711517e-01, -1.14472133e+00,\n",
       "        6.20747302e-02, -1.02393291e+00,  1.18718077e+00, -9.52332497e-01,\n",
       "       -6.09834308e-02, -1.27557236e-01,  1.26047968e-01,  1.27593295e+00,\n",
       "        1.02147044e+00,  1.91840795e+00,  7.16122448e-01,  1.15287020e+00,\n",
       "       -1.27459044e+00, -1.09274882e+00,  2.66560860e-01, -1.11078219e+00,\n",
       "        1.07866451e+00, -1.16612886e+00, -1.56446404e+00, -5.53675954e-01,\n",
       "        1.54896823e-01, -6.83207833e-01,  9.68389409e-03, -9.89734672e-01,\n",
       "       -8.60097237e-01, -1.71011201e+00,  2.80486871e-01,  2.41896346e-01,\n",
       "       -5.28399420e-01,  6.22475347e-01,  6.77281871e-01, -8.26151502e-01,\n",
       "       -7.76941221e-01,  5.29562205e-01,  1.86629239e-01,  3.39930203e-01,\n",
       "        1.15707472e+00, -2.73866264e-01,  7.24253757e-01, -1.20897539e-01,\n",
       "       -5.12709534e-01, -4.14788746e-01,  2.16599482e-02, -2.45072001e-01,\n",
       "        3.66074289e-01, -2.57501954e-01, -2.13770157e-01,  1.16219506e+00,\n",
       "       -1.21650357e+00, -6.11090869e-01, -3.54637627e-01,  9.43178583e-01,\n",
       "       -1.30776505e+00, -2.53440022e+00, -1.26095472e+00,  8.61505100e-01,\n",
       "       -1.02320005e+00,  8.17618540e-01, -5.18063224e-01,  1.47257604e+00,\n",
       "       -2.60344801e+00,  7.40411612e-01,  5.83204547e-01, -3.33978320e-01,\n",
       "       -5.09637496e-01, -2.47444393e-01,  1.04270510e+00,  8.52100381e-01,\n",
       "       -1.27452363e+00, -1.32768552e+00, -5.37613433e-02,  1.02092174e+00,\n",
       "        2.40884816e+00,  4.21835937e-01,  7.12246440e-01,  6.22787980e-01,\n",
       "       -5.30471727e-01, -1.54453976e-01, -4.12742120e-01,  5.26474435e-01,\n",
       "        1.64423456e-01,  5.54743665e-02,  1.07084881e+00,  1.65282304e-01,\n",
       "       -5.87096636e-01, -1.65038941e+00, -7.14111997e-01,  9.62227567e-01,\n",
       "        2.13210277e+00, -1.68994600e-01, -1.08022176e+00,  4.01862103e-01,\n",
       "       -6.55592152e-01, -1.65784176e+00,  1.53605029e+00,  6.14129629e-01,\n",
       "        1.67364242e+00,  5.08307344e-01,  2.40559379e-01, -1.30512746e+00,\n",
       "       -2.58279741e-01, -2.36675940e-01,  2.13368080e-01, -1.89278937e-01,\n",
       "        1.44853811e+00,  2.32911799e-01,  8.01474370e-01,  7.82281457e-01,\n",
       "        7.99338185e-01,  4.47372361e-01,  1.75481905e-01, -1.04042410e+00,\n",
       "        6.88704491e-01,  5.61488567e-01, -2.02385405e-01, -4.95879969e-01,\n",
       "        8.10812742e-01, -1.40118487e+00,  3.99677871e-01,  3.82033060e-01,\n",
       "       -1.21890764e-01,  3.03750702e-01,  1.40248838e+00,  8.31076057e-01,\n",
       "       -2.53729954e+00,  1.07752901e+00, -2.16701711e+00, -2.84323594e-01,\n",
       "       -3.11094213e-01,  2.50791446e-01, -4.88591929e-01,  4.74439395e-01,\n",
       "       -6.26128161e-01,  2.01166075e-01, -1.17953056e+00, -2.72544833e-01,\n",
       "       -4.90496196e-01,  7.07260234e-01,  1.08569302e+00, -2.36896337e+00,\n",
       "        2.37896906e-01,  6.80971597e-01,  2.44002907e-01,  8.56352855e-01,\n",
       "       -8.93476715e-01, -3.88693164e-02,  1.47325921e+00,  5.30715106e-01,\n",
       "        2.54532018e+00,  7.29843717e-01,  1.83883524e+00,  1.12210034e+00,\n",
       "        2.78496068e-01, -1.70778817e+00,  4.59270067e-01,  6.64086616e-01,\n",
       "       -2.96128542e-01, -7.11353692e-01,  8.08900927e-02,  1.09854545e+00,\n",
       "       -3.15150251e-01,  2.71063970e+00,  1.27952600e+00,  2.01556643e+00,\n",
       "        1.49654385e+00, -4.14367227e-01, -5.22298634e-01,  1.28031760e+00,\n",
       "        1.29081825e+00, -1.16375588e-01, -1.61056880e-01, -1.60786378e-01,\n",
       "       -4.83146345e-01,  1.28019293e+00,  1.03180445e+00,  2.05473418e-01,\n",
       "        8.89230638e-01,  1.36671903e+00,  8.75507683e-01, -3.72534765e-01,\n",
       "        1.20127624e+00, -2.61760551e-03, -9.78843306e-02, -9.87033505e-01,\n",
       "        3.49014283e-01,  9.19235992e-01,  1.51791399e+00, -8.77891546e-02,\n",
       "       -1.41663620e+00,  1.39432154e+00, -2.21127185e+00,  4.90288301e-01,\n",
       "        2.75312854e+00,  1.99099910e+00, -2.83851240e-01, -9.23679020e-01,\n",
       "        1.41814860e+00,  7.12197547e-01, -8.33848779e-01,  1.18422903e+00,\n",
       "        5.45700362e-01, -8.94109699e-01,  5.94088034e-01,  1.61865581e+00,\n",
       "        1.15341483e+00, -1.72485364e+00,  2.76783177e+00, -6.38392175e-01,\n",
       "        8.79062533e-01, -6.56656851e-01, -5.42041120e-02,  7.82884988e-01,\n",
       "       -6.89439911e-01,  2.44416822e-01, -8.05952770e-01, -1.01255419e-01,\n",
       "       -1.41044547e+00, -5.56330117e-01,  5.17283385e-01,  1.17189046e-01,\n",
       "        5.41034286e-01, -1.55405102e+00,  9.93970338e-01, -4.18568322e-01,\n",
       "        4.77435126e-01, -3.90836052e-01,  3.31845353e-01,  4.27947279e-01,\n",
       "        4.09489940e-01, -5.34693457e-01, -3.75917158e-01, -1.11602470e+00,\n",
       "       -3.03242165e-02, -5.37690321e-01,  8.68591350e-01,  9.47038908e-01,\n",
       "        1.21593139e+00, -3.27184949e-01,  5.64369717e-01,  4.57730492e-01,\n",
       "        3.19630949e-01, -8.57295430e-03, -1.44205593e+00, -2.82354666e-01,\n",
       "       -6.92627008e-01, -1.91008860e+00, -1.47935358e+00, -8.28151540e-01,\n",
       "        1.52493381e+00,  1.63579177e+00,  5.99834681e-01,  1.56332025e+00,\n",
       "       -1.27716492e+00, -1.17310571e-01, -2.42510232e-01,  6.67501187e-01,\n",
       "       -7.32538963e-01,  1.62420885e-01, -1.78458811e-01, -1.13686314e+00,\n",
       "        5.71322921e-01,  1.51893758e+00, -4.37747233e-01,  1.01950263e+00,\n",
       "       -7.97429132e-01,  2.64864157e-01,  1.45782944e+00, -9.54837196e-01,\n",
       "       -1.02826610e+00,  5.98626667e-01,  2.28178442e+00, -4.67113401e-01,\n",
       "       -1.08535279e+00, -1.55743106e+00,  5.12512397e-01,  9.49069972e-01,\n",
       "        8.32487833e-02, -1.81847573e+00,  1.02982577e+00,  1.07344362e-01,\n",
       "       -5.02644210e-01, -7.28435151e-01, -4.74248598e-01, -8.99854290e-01,\n",
       "       -6.37763053e-01,  8.77680804e-01, -2.02163554e+00,  6.26596558e-01,\n",
       "       -4.73182853e-01,  8.47440874e-01,  5.39710873e-01, -8.12552607e-01,\n",
       "        4.26753276e-01, -4.53003690e-01, -6.47315458e-01,  1.59175483e-01,\n",
       "       -6.77720856e-01,  1.49502272e+00, -4.87798766e-01, -5.81299277e-02,\n",
       "        8.63850913e-01,  1.41303419e+00,  1.07138116e-01, -1.31016974e+00,\n",
       "       -2.71916764e-01,  1.42875487e+00,  1.06198669e+00,  5.00681105e-01,\n",
       "       -8.98119707e-02,  2.70273137e-02,  1.39346040e+00,  4.77493159e-01,\n",
       "        1.23392809e+00, -8.71343116e-01, -1.55721877e+00,  6.30862548e-01,\n",
       "        1.60444620e-01, -1.01536570e+00, -6.61443658e-01, -1.79074131e+00,\n",
       "       -2.64167785e-01,  9.41961186e-01, -1.96027880e+00,  1.15045495e+00,\n",
       "       -4.39022022e-01,  1.16073013e+00, -1.80941087e-01, -2.01568649e+00,\n",
       "       -1.25261865e-01, -1.12017457e+00, -9.70376737e-02, -4.23786326e-01,\n",
       "        1.09025258e+00, -3.54133823e-01, -1.67081672e+00,  3.10062330e+00,\n",
       "       -1.36444033e+00,  6.98742907e-01, -1.78815754e+00, -1.82820948e+00,\n",
       "        1.59824671e+00,  9.32585450e-01, -4.19176816e-01, -2.21016470e-01,\n",
       "       -2.73274903e+00, -1.81236964e-01,  5.09494375e-02, -8.15773307e-01,\n",
       "       -4.27396630e-01, -4.59478151e-01, -5.33692764e-02, -3.98742638e-01,\n",
       "        1.17746044e+00,  6.48379295e-02, -1.38879506e+00,  1.53184035e+00,\n",
       "       -1.52863251e-01,  5.53399297e-01,  1.93695406e+00,  1.00620818e+00,\n",
       "       -2.60109268e-01, -1.20304719e+00, -8.82802126e-01, -3.34942454e-01,\n",
       "       -5.25176333e-01, -3.43582304e-01,  1.43008448e-01,  2.41045639e-01,\n",
       "        1.40473563e+00,  7.33656916e-01,  1.01282072e-01,  4.11157014e-01,\n",
       "        6.01012057e-01,  8.40438706e-01, -6.41273143e-01, -1.87190038e+00,\n",
       "       -6.90326833e-01,  1.13511911e+00,  6.47036941e-01,  1.01240218e+00,\n",
       "       -5.41072463e-01, -7.70729926e-01, -1.27390542e+00, -1.45367148e-01,\n",
       "       -2.24829837e+00,  1.42247127e-01, -8.71485240e-01,  3.42569496e-01])"
      ]
     },
     "execution_count": 48,
     "metadata": {},
     "output_type": "execute_result"
    }
   ],
   "source": [
    "var = np.random.randn(100*4)\n",
    "var"
   ]
  },
  {
   "cell_type": "code",
   "execution_count": 53,
   "metadata": {},
   "outputs": [
    {
     "data": {
      "text/plain": [
       "(400, 400, 400)"
      ]
     },
     "execution_count": 53,
     "metadata": {},
     "output_type": "execute_result"
    }
   ],
   "source": [
    "len(years), len(months), len(var)"
   ]
  },
  {
   "cell_type": "code",
   "execution_count": 55,
   "metadata": {},
   "outputs": [],
   "source": [
    "rand_df = pd.DataFrame({'years': years, 'Quaters': months, 'Var': var})"
   ]
  },
  {
   "cell_type": "code",
   "execution_count": 56,
   "metadata": {},
   "outputs": [
    {
     "data": {
      "text/html": [
       "<div>\n",
       "<style scoped>\n",
       "    .dataframe tbody tr th:only-of-type {\n",
       "        vertical-align: middle;\n",
       "    }\n",
       "\n",
       "    .dataframe tbody tr th {\n",
       "        vertical-align: top;\n",
       "    }\n",
       "\n",
       "    .dataframe thead th {\n",
       "        text-align: right;\n",
       "    }\n",
       "</style>\n",
       "<table border=\"1\" class=\"dataframe\">\n",
       "  <thead>\n",
       "    <tr style=\"text-align: right;\">\n",
       "      <th></th>\n",
       "      <th>years</th>\n",
       "      <th>Quaters</th>\n",
       "      <th>Var</th>\n",
       "    </tr>\n",
       "  </thead>\n",
       "  <tbody>\n",
       "    <tr>\n",
       "      <td>0</td>\n",
       "      <td>1901</td>\n",
       "      <td>Q1</td>\n",
       "      <td>2.477837</td>\n",
       "    </tr>\n",
       "    <tr>\n",
       "      <td>1</td>\n",
       "      <td>1901</td>\n",
       "      <td>Q2</td>\n",
       "      <td>-1.096693</td>\n",
       "    </tr>\n",
       "    <tr>\n",
       "      <td>2</td>\n",
       "      <td>1901</td>\n",
       "      <td>Q3</td>\n",
       "      <td>-0.174310</td>\n",
       "    </tr>\n",
       "    <tr>\n",
       "      <td>3</td>\n",
       "      <td>1901</td>\n",
       "      <td>Q4</td>\n",
       "      <td>0.208919</td>\n",
       "    </tr>\n",
       "    <tr>\n",
       "      <td>4</td>\n",
       "      <td>1902</td>\n",
       "      <td>Q1</td>\n",
       "      <td>-0.788521</td>\n",
       "    </tr>\n",
       "  </tbody>\n",
       "</table>\n",
       "</div>"
      ],
      "text/plain": [
       "   years Quaters       Var\n",
       "0   1901      Q1  2.477837\n",
       "1   1901      Q2 -1.096693\n",
       "2   1901      Q3 -0.174310\n",
       "3   1901      Q4  0.208919\n",
       "4   1902      Q1 -0.788521"
      ]
     },
     "execution_count": 56,
     "metadata": {},
     "output_type": "execute_result"
    }
   ],
   "source": [
    "rand_df.head()"
   ]
  },
  {
   "cell_type": "markdown",
   "metadata": {},
   "source": [
    "### Ways of creating data frames"
   ]
  },
  {
   "cell_type": "code",
   "execution_count": 58,
   "metadata": {},
   "outputs": [
    {
     "data": {
      "text/html": [
       "<div>\n",
       "<style scoped>\n",
       "    .dataframe tbody tr th:only-of-type {\n",
       "        vertical-align: middle;\n",
       "    }\n",
       "\n",
       "    .dataframe tbody tr th {\n",
       "        vertical-align: top;\n",
       "    }\n",
       "\n",
       "    .dataframe thead th {\n",
       "        text-align: right;\n",
       "    }\n",
       "</style>\n",
       "<table border=\"1\" class=\"dataframe\">\n",
       "  <thead>\n",
       "    <tr style=\"text-align: right;\">\n",
       "      <th></th>\n",
       "      <th>a</th>\n",
       "      <th>b</th>\n",
       "      <th>c</th>\n",
       "    </tr>\n",
       "  </thead>\n",
       "  <tbody>\n",
       "    <tr>\n",
       "      <td>0</td>\n",
       "      <td>1</td>\n",
       "      <td>2</td>\n",
       "      <td>3</td>\n",
       "    </tr>\n",
       "    <tr>\n",
       "      <td>1</td>\n",
       "      <td>2</td>\n",
       "      <td>3</td>\n",
       "      <td>4</td>\n",
       "    </tr>\n",
       "    <tr>\n",
       "      <td>2</td>\n",
       "      <td>3</td>\n",
       "      <td>4</td>\n",
       "      <td>5</td>\n",
       "    </tr>\n",
       "  </tbody>\n",
       "</table>\n",
       "</div>"
      ],
      "text/plain": [
       "   a  b  c\n",
       "0  1  2  3\n",
       "1  2  3  4\n",
       "2  3  4  5"
      ]
     },
     "execution_count": 58,
     "metadata": {},
     "output_type": "execute_result"
    }
   ],
   "source": [
    "# From dictionaries\n",
    "\n",
    "data = {'a': [1,2,3],\n",
    "       'b': [2,3,4],\n",
    "       'c': [3,4,5]}\n",
    "\n",
    "data = pd.DataFrame(data)\n",
    "data.head()"
   ]
  },
  {
   "cell_type": "code",
   "execution_count": 59,
   "metadata": {},
   "outputs": [
    {
     "data": {
      "text/html": [
       "<div>\n",
       "<style scoped>\n",
       "    .dataframe tbody tr th:only-of-type {\n",
       "        vertical-align: middle;\n",
       "    }\n",
       "\n",
       "    .dataframe tbody tr th {\n",
       "        vertical-align: top;\n",
       "    }\n",
       "\n",
       "    .dataframe thead th {\n",
       "        text-align: right;\n",
       "    }\n",
       "</style>\n",
       "<table border=\"1\" class=\"dataframe\">\n",
       "  <thead>\n",
       "    <tr style=\"text-align: right;\">\n",
       "      <th></th>\n",
       "      <th>a</th>\n",
       "      <th>b</th>\n",
       "      <th>c</th>\n",
       "    </tr>\n",
       "  </thead>\n",
       "  <tbody>\n",
       "    <tr>\n",
       "      <td>0</td>\n",
       "      <td>1</td>\n",
       "      <td>2</td>\n",
       "      <td>3</td>\n",
       "    </tr>\n",
       "    <tr>\n",
       "      <td>1</td>\n",
       "      <td>2</td>\n",
       "      <td>3</td>\n",
       "      <td>4</td>\n",
       "    </tr>\n",
       "    <tr>\n",
       "      <td>2</td>\n",
       "      <td>3</td>\n",
       "      <td>4</td>\n",
       "      <td>5</td>\n",
       "    </tr>\n",
       "  </tbody>\n",
       "</table>\n",
       "</div>"
      ],
      "text/plain": [
       "   a  b  c\n",
       "0  1  2  3\n",
       "1  2  3  4\n",
       "2  3  4  5"
      ]
     },
     "execution_count": 59,
     "metadata": {},
     "output_type": "execute_result"
    }
   ],
   "source": [
    "# From tuples\n",
    "\n",
    "data = [(1,2,3),(2,3,4),(3,4,5)]\n",
    "data = pd.DataFrame(data, columns =('a','b','c'))\n",
    "\n",
    "data.head()"
   ]
  },
  {
   "cell_type": "code",
   "execution_count": 60,
   "metadata": {},
   "outputs": [
    {
     "data": {
      "text/plain": [
       "['Date',\n",
       " 'Berri 1',\n",
       " 'Brébeuf (données non disponibles)',\n",
       " 'Côte-Sainte-Catherine',\n",
       " 'Maisonneuve 1',\n",
       " 'Maisonneuve 2',\n",
       " 'du Parc',\n",
       " 'Pierre-Dupuy',\n",
       " 'Rachel1',\n",
       " 'St-Urbain (données non disponibles)']"
      ]
     },
     "execution_count": 60,
     "metadata": {},
     "output_type": "execute_result"
    }
   ],
   "source": [
    "cols "
   ]
  },
  {
   "cell_type": "code",
   "execution_count": 62,
   "metadata": {},
   "outputs": [
    {
     "data": {
      "text/plain": [
       "['date',\n",
       " 'berri 1',\n",
       " 'brébeuf (données non disponibles)',\n",
       " 'côte-sainte-catherine',\n",
       " 'maisonneuve 1',\n",
       " 'maisonneuve 2',\n",
       " 'du parc',\n",
       " 'pierre-dupuy',\n",
       " 'rachel1',\n",
       " 'st-urbain (données non disponibles)']"
      ]
     },
     "execution_count": 62,
     "metadata": {},
     "output_type": "execute_result"
    }
   ],
   "source": [
    "[element.lower() for element in cols]"
   ]
  },
  {
   "cell_type": "code",
   "execution_count": 65,
   "metadata": {},
   "outputs": [
    {
     "data": {
      "text/plain": [
       "['date',\n",
       " 'berri 1',\n",
       " 'brébeuf (données non disponibles)',\n",
       " 'côte-sainte-catherine',\n",
       " 'maisonneuve 1',\n",
       " 'maisonneuve 2',\n",
       " 'du parc',\n",
       " 'pierre-dupuy',\n",
       " 'rachel1',\n",
       " 'st-urbain (données non disponibles)']"
      ]
     },
     "execution_count": 65,
     "metadata": {},
     "output_type": "execute_result"
    }
   ],
   "source": [
    "list(map(lambda i: i.lower(), cols))"
   ]
  },
  {
   "cell_type": "code",
   "execution_count": null,
   "metadata": {},
   "outputs": [],
   "source": []
  }
 ],
 "metadata": {
  "kernelspec": {
   "display_name": "Python 3",
   "language": "python",
   "name": "python3"
  },
  "language_info": {
   "codemirror_mode": {
    "name": "ipython",
    "version": 3
   },
   "file_extension": ".py",
   "mimetype": "text/x-python",
   "name": "python",
   "nbconvert_exporter": "python",
   "pygments_lexer": "ipython3",
   "version": "3.7.4"
  }
 },
 "nbformat": 4,
 "nbformat_minor": 2
}
