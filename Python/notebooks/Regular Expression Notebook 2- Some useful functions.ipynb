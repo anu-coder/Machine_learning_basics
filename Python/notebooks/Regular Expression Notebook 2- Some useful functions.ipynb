{
 "cells": [
  {
   "cell_type": "code",
   "execution_count": 119,
   "metadata": {},
   "outputs": [],
   "source": [
    "import re\n",
    "import os \n",
    "import pandas as pd"
   ]
  },
  {
   "cell_type": "markdown",
   "metadata": {},
   "source": [
    "### Some other functions using regex\n",
    "\n",
    "### Function 1: To extract various states from a string expression"
   ]
  },
  {
   "cell_type": "code",
   "execution_count": 120,
   "metadata": {},
   "outputs": [],
   "source": [
    "abb_dict = {'ANDHRA PRADESH': 'AP',\n",
    " 'ARUNACHAL PRADESH': 'AR',\n",
    " 'ASSAM': 'AS',\n",
    " 'BIHAR': 'BR',\n",
    " 'CHHATTISGARH': 'CG',\n",
    " 'GOA': 'GA',\n",
    " 'GUJARAT': 'GJ',\n",
    " 'HARYANA': 'HR',\n",
    " 'HIMACHAL PRADESH': 'HP',\n",
    " 'JAMMU AND KASHMIR': 'JK',\n",
    " 'JHARKHAND': 'JH',\n",
    " 'KARNATAKA': 'KA',\n",
    " 'KERALA': 'KL',\n",
    " 'MADHYA PRADESH': 'MP',\n",
    " 'MAHARASHTRA': 'MH',\n",
    " 'MANIPUR': 'MN',\n",
    " 'MEGHALAYA': 'ML',\n",
    " 'MIZORAM': 'MZ',\n",
    " 'NAGALAND': 'NL',\n",
    " 'ODISHA': 'OR',\n",
    " 'PUNJAB': 'PB',\n",
    " 'RAJASTHAN': 'RJ',\n",
    " 'SIKKIM': 'SK',\n",
    " 'TAMIL NADU': 'TN',\n",
    " 'TRIPURA': 'TR',\n",
    " 'UTTARAKHAND': 'UK',\n",
    " 'UTTAR PRADESH': 'UP',\n",
    " 'WEST BENGAL': 'WB',\n",
    " 'ANDAMAN AND NICOBAR ISLANDS': 'AN',\n",
    " 'CHANDIGARH': 'CH',\n",
    " 'DADRA AND NAGAR HAVELI': 'DH',\n",
    " 'DAMAN AND DIU': 'DD',\n",
    " 'NATIONAL CAPITAL TERRITORY OF DELHI': 'DL',\n",
    " 'LAKSHADWEEP': 'LD',\n",
    " 'PUDUCHERRY': 'PY',\n",
    " 'TELANGANA': 'TS'}"
   ]
  },
  {
   "cell_type": "code",
   "execution_count": 121,
   "metadata": {},
   "outputs": [],
   "source": [
    "state_abbr = list(abb_dict.values())"
   ]
  },
  {
   "cell_type": "code",
   "execution_count": 122,
   "metadata": {},
   "outputs": [
    {
     "data": {
      "text/plain": [
       "['AP',\n",
       " 'AR',\n",
       " 'AS',\n",
       " 'BR',\n",
       " 'CG',\n",
       " 'GA',\n",
       " 'GJ',\n",
       " 'HR',\n",
       " 'HP',\n",
       " 'JK',\n",
       " 'JH',\n",
       " 'KA',\n",
       " 'KL',\n",
       " 'MP',\n",
       " 'MH',\n",
       " 'MN',\n",
       " 'ML',\n",
       " 'MZ',\n",
       " 'NL',\n",
       " 'OR',\n",
       " 'PB',\n",
       " 'RJ',\n",
       " 'SK',\n",
       " 'TN',\n",
       " 'TR',\n",
       " 'UK',\n",
       " 'UP',\n",
       " 'WB',\n",
       " 'AN',\n",
       " 'CH',\n",
       " 'DH',\n",
       " 'DD',\n",
       " 'DL',\n",
       " 'LD',\n",
       " 'PY',\n",
       " 'TS']"
      ]
     },
     "execution_count": 122,
     "metadata": {},
     "output_type": "execute_result"
    }
   ],
   "source": [
    "state_abbr"
   ]
  },
  {
   "cell_type": "code",
   "execution_count": 123,
   "metadata": {},
   "outputs": [],
   "source": [
    "stateabb_pattern = '|'.join(state_abbr)"
   ]
  },
  {
   "cell_type": "code",
   "execution_count": 124,
   "metadata": {},
   "outputs": [],
   "source": [
    "# stateabb_pattern = re.compile(r'\\b(stateabb_pattern)\\b')"
   ]
  },
  {
   "cell_type": "code",
   "execution_count": 7,
   "metadata": {},
   "outputs": [
    {
     "data": {
      "text/plain": [
       "'AP|AR|AS|BR|CG|GA|GJ|HR|HP|JK|JH|KA|KL|MP|MH|MN|ML|MZ|NL|OR|PB|RJ|SK|TN|TR|UK|UP|WB|AN|CH|DH|DD|DL|LD|PY|TS'"
      ]
     },
     "execution_count": 7,
     "metadata": {},
     "output_type": "execute_result"
    }
   ],
   "source": [
    "stateabb_pattern"
   ]
  },
  {
   "cell_type": "code",
   "execution_count": 125,
   "metadata": {},
   "outputs": [],
   "source": [
    "state_pattern = '|'.join(list(abb_dict.keys()))"
   ]
  },
  {
   "cell_type": "code",
   "execution_count": 126,
   "metadata": {},
   "outputs": [
    {
     "data": {
      "text/plain": [
       "'Andhra Pradesh|Arunachal Pradesh|Assam|Bihar|Chhattisgarh|Goa|Gujarat|Haryana|Himachal Pradesh|Jammu And Kashmir|Jharkhand|Karnataka|Kerala|Madhya Pradesh|Maharashtra|Manipur|Meghalaya|Mizoram|Nagaland|Odisha|Punjab|Rajasthan|Sikkim|Tamil Nadu|Tripura|Uttarakhand|Uttar Pradesh|West Bengal|Andaman And Nicobar Islands|Chandigarh|Dadra And Nagar Haveli|Daman And Diu|National Capital Territory Of Delhi|Lakshadweep|Puducherry|Telangana'"
      ]
     },
     "execution_count": 126,
     "metadata": {},
     "output_type": "execute_result"
    }
   ],
   "source": [
    "state_pattern.lower().title()"
   ]
  },
  {
   "cell_type": "code",
   "execution_count": 127,
   "metadata": {},
   "outputs": [],
   "source": [
    "state_pattern = state_pattern.lower().title() + '|' + stateabb_pattern"
   ]
  },
  {
   "cell_type": "code",
   "execution_count": 128,
   "metadata": {},
   "outputs": [
    {
     "data": {
      "text/plain": [
       "'Andhra Pradesh|Arunachal Pradesh|Assam|Bihar|Chhattisgarh|Goa|Gujarat|Haryana|Himachal Pradesh|Jammu And Kashmir|Jharkhand|Karnataka|Kerala|Madhya Pradesh|Maharashtra|Manipur|Meghalaya|Mizoram|Nagaland|Odisha|Punjab|Rajasthan|Sikkim|Tamil Nadu|Tripura|Uttarakhand|Uttar Pradesh|West Bengal|Andaman And Nicobar Islands|Chandigarh|Dadra And Nagar Haveli|Daman And Diu|National Capital Territory Of Delhi|Lakshadweep|Puducherry|Telangana|AP|AR|AS|BR|CG|GA|GJ|HR|HP|JK|JH|KA|KL|MP|MH|MN|ML|MZ|NL|OR|PB|RJ|SK|TN|TR|UK|UP|WB|AN|CH|DH|DD|DL|LD|PY|TS'"
      ]
     },
     "execution_count": 128,
     "metadata": {},
     "output_type": "execute_result"
    }
   ],
   "source": [
    "state_pattern\n"
   ]
  },
  {
   "cell_type": "code",
   "execution_count": 129,
   "metadata": {},
   "outputs": [],
   "source": [
    "# function to return key for any value \n",
    "\n",
    "def get_key(val, my_dict): \n",
    "    for key, value in my_dict.items(): \n",
    "         if val == value:\n",
    "                return key\n",
    "    return None"
   ]
  },
  {
   "cell_type": "code",
   "execution_count": 130,
   "metadata": {},
   "outputs": [],
   "source": [
    "def extract_state(address):\n",
    "    find_state_abb = re.findall(state_pattern, address, \n",
    "                                flags = re.IGNORECASE)\n",
    "    state_present = []\n",
    "    for i in find_state_abb:\n",
    "        if(i.upper() in list(abb_dict.keys())):\n",
    "            state_present.append(i.upper())\n",
    "        else:\n",
    "            state_present.append(get_key(i, abb_dict))\n",
    "    return ', '.join(state_present)"
   ]
  },
  {
   "cell_type": "code",
   "execution_count": 131,
   "metadata": {},
   "outputs": [
    {
     "data": {
      "text/plain": [
       "'ANDHRA PRADESH, UTTAR PRADESH'"
      ]
     },
     "execution_count": 131,
     "metadata": {},
     "output_type": "execute_result"
    }
   ],
   "source": [
    "extract_state('Andhra Pradesh is beside UP')"
   ]
  },
  {
   "cell_type": "markdown",
   "metadata": {},
   "source": [
    "###  Function 2: To extract partner names from expression"
   ]
  },
  {
   "cell_type": "code",
   "execution_count": 132,
   "metadata": {},
   "outputs": [],
   "source": [
    "PARTNER_LIST = ['Arman','Arohan', 'Asirvad', 'Bandhan', \n",
    "                'd.light', 'ESAF', 'GLP', 'Midland', \n",
    "                'Muthoot', 'Samasta', 'Sarala', 'Satin', \n",
    "                'Simpa', 'SKDRDP', 'Svasti']\n",
    "PARTNER_PATTERN = '|'.join(partner_list)"
   ]
  },
  {
   "cell_type": "code",
   "execution_count": 64,
   "metadata": {},
   "outputs": [],
   "source": [
    "MONTHS = ['January', 'February','March',\n",
    "         'April', 'May', 'June','July',\n",
    "         'August','September','October',\n",
    "         'November','December']\n",
    "MONTHS_PATTERN = '|'.join(months)"
   ]
  },
  {
   "cell_type": "code",
   "execution_count": 66,
   "metadata": {},
   "outputs": [],
   "source": [
    "YEARS = ['2013','2014','2015','2016','2017','2018','2019','2020']\n",
    "YEAR_PATTERN = '|'.join(years)"
   ]
  },
  {
   "cell_type": "code",
   "execution_count": 117,
   "metadata": {},
   "outputs": [],
   "source": [
    "def extract_month_year_from_fname(fname):\n",
    "    fname = os.path.splitext(fname)[0]\n",
    "    partner = re.findall(PARTNER_PATTERN,fname, flags= re.IGNORECASE)\n",
    "    # partner = PARTNER_LIST[PARTNER_LIST.str.lower().index(''.join(partner).lower())]\n",
    "    month = re.findall(MONTHS_PATTERN, fname, flags= re.IGNORECASE)\n",
    "    \n",
    "    if not month:\n",
    "        months_abb = [s[0:3] for s in MONTHS]\n",
    "        months_pattern = '|'.join(months_abb)\n",
    "        month = re.findall(months_pattern, fname, flags= re.IGNORECASE)\n",
    "        month = [MONTHS[months_abb.index(''.join(month))]]\n",
    "        \n",
    "    year = re.findall(YEAR_PATTERN, fname, flags= re.IGNORECASE)\n",
    "    \n",
    "    if not year:\n",
    "        year_abb = [s[2:4] for s in YEARS]\n",
    "        year_pattern = '|'.join(year_abb)\n",
    "        year = re.findall(year_pattern, fname, flags= re.IGNORECASE)\n",
    "        year = [YEARS[year_abb.index(''.join(year))]]\n",
    "    \n",
    "   \n",
    "    return {'partner': ''.join(partner).lower().title(), 'month': ''.join(month).title(), \n",
    "            'year': ''.join(year).title()}"
   ]
  },
  {
   "cell_type": "code",
   "execution_count": 118,
   "metadata": {},
   "outputs": [
    {
     "data": {
      "text/plain": [
       "{'partner': 'D.Light', 'month': 'February', 'year': '2020'}"
      ]
     },
     "execution_count": 118,
     "metadata": {},
     "output_type": "execute_result"
    }
   ],
   "source": [
    "extract_month_year_from_fname('d.light_Feb20.xlsx')"
   ]
  }
 ],
 "metadata": {
  "kernelspec": {
   "display_name": "Python 3",
   "language": "python",
   "name": "python3"
  },
  "language_info": {
   "codemirror_mode": {
    "name": "ipython",
    "version": 3
   },
   "file_extension": ".py",
   "mimetype": "text/x-python",
   "name": "python",
   "nbconvert_exporter": "python",
   "pygments_lexer": "ipython3",
   "version": "3.7.4"
  }
 },
 "nbformat": 4,
 "nbformat_minor": 2
}
