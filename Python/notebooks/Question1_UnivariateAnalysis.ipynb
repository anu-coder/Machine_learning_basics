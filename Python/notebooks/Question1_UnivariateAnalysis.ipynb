{
 "cells": [
  {
   "cell_type": "code",
   "execution_count": 457,
   "metadata": {},
   "outputs": [],
   "source": [
    "%matplotlib inline\n",
    "\n",
    "import pandas as pd \n",
    "import matplotlib.pyplot as plt\n",
    "import numpy as np\n",
    "import seaborn as sns"
   ]
  },
  {
   "cell_type": "code",
   "execution_count": 2,
   "metadata": {},
   "outputs": [],
   "source": [
    "# To make prettier and bigger graphs\n",
    "plt.style.use('ggplot')\n",
    "plt.rcParams['figure.figsize'] = (15, 5)\n",
    "plt.rcParams['font.family'] = 'sans-serif'"
   ]
  },
  {
   "cell_type": "code",
   "execution_count": 3,
   "metadata": {},
   "outputs": [
    {
     "data": {
      "text/html": [
       "<div>\n",
       "<style scoped>\n",
       "    .dataframe tbody tr th:only-of-type {\n",
       "        vertical-align: middle;\n",
       "    }\n",
       "\n",
       "    .dataframe tbody tr th {\n",
       "        vertical-align: top;\n",
       "    }\n",
       "\n",
       "    .dataframe thead th {\n",
       "        text-align: right;\n",
       "    }\n",
       "</style>\n",
       "<table border=\"1\" class=\"dataframe\">\n",
       "  <thead>\n",
       "    <tr style=\"text-align: right;\">\n",
       "      <th></th>\n",
       "      <th>ProspectID</th>\n",
       "      <th>CreatedOn</th>\n",
       "      <th>mx_Country</th>\n",
       "      <th>mx_Preferred_Campus</th>\n",
       "      <th>mx_Exp_In_Years</th>\n",
       "      <th>DoNotCall</th>\n",
       "      <th>DoNotEmail</th>\n",
       "      <th>mx_Mode_of_Instruction</th>\n",
       "      <th>Source</th>\n",
       "      <th>SourceMedium</th>\n",
       "      <th>...</th>\n",
       "      <th>mx_Current_Interested_Program</th>\n",
       "      <th>mx_Application_Date</th>\n",
       "      <th>mx_Industry</th>\n",
       "      <th>mx_UG_Degree</th>\n",
       "      <th>mx_UG_Passing_Year</th>\n",
       "      <th>mx_PG_Degree</th>\n",
       "      <th>mx_PG_Passing_Year</th>\n",
       "      <th>mx_Batch_Code</th>\n",
       "      <th>mx_City</th>\n",
       "      <th>mx_Device_details</th>\n",
       "    </tr>\n",
       "  </thead>\n",
       "  <tbody>\n",
       "    <tr>\n",
       "      <td>0</td>\n",
       "      <td>65e26baf-5ed5-4c08-92a6-426c0f4052b5</td>\n",
       "      <td>2019-02-16 20:51:09</td>\n",
       "      <td>NaN</td>\n",
       "      <td>Mumbai</td>\n",
       "      <td>2-3 Years</td>\n",
       "      <td>0</td>\n",
       "      <td>0</td>\n",
       "      <td>Classroom</td>\n",
       "      <td>google</td>\n",
       "      <td>Display</td>\n",
       "      <td>...</td>\n",
       "      <td>PGPML-Online</td>\n",
       "      <td>NaT</td>\n",
       "      <td>NaN</td>\n",
       "      <td>NaN</td>\n",
       "      <td>NaN</td>\n",
       "      <td>NaN</td>\n",
       "      <td>NaN</td>\n",
       "      <td>NaN</td>\n",
       "      <td>NaN</td>\n",
       "      <td>smartphone | Xiaomi Redmi 6A | Android 8.1.0 |...</td>\n",
       "    </tr>\n",
       "    <tr>\n",
       "      <td>1</td>\n",
       "      <td>a6998bac-67e9-479e-aca9-d2808b4522f1</td>\n",
       "      <td>2019-02-07 15:39:26</td>\n",
       "      <td>NaN</td>\n",
       "      <td>Mumbai</td>\n",
       "      <td>1-2 Years</td>\n",
       "      <td>0</td>\n",
       "      <td>0</td>\n",
       "      <td>NaN</td>\n",
       "      <td>facebook</td>\n",
       "      <td>Mumbai - DSEFT - LAE (1%)</td>\n",
       "      <td>...</td>\n",
       "      <td>DSEFT</td>\n",
       "      <td>NaT</td>\n",
       "      <td>NaN</td>\n",
       "      <td>NaN</td>\n",
       "      <td>NaN</td>\n",
       "      <td>NaN</td>\n",
       "      <td>NaN</td>\n",
       "      <td>NaN</td>\n",
       "      <td>NaN</td>\n",
       "      <td>smartphone | Xiaomi Redmi 4A | Android 6.0.1 |...</td>\n",
       "    </tr>\n",
       "    <tr>\n",
       "      <td>2</td>\n",
       "      <td>c26dbf1b-6e27-44ce-b33f-a090f7acc040</td>\n",
       "      <td>2018-12-30 15:19:59</td>\n",
       "      <td>NaN</td>\n",
       "      <td>Delhi</td>\n",
       "      <td>2-5 Years</td>\n",
       "      <td>0</td>\n",
       "      <td>0</td>\n",
       "      <td>NaN</td>\n",
       "      <td>Facebook</td>\n",
       "      <td>LAE-LTV-1%</td>\n",
       "      <td>...</td>\n",
       "      <td>PGPBA</td>\n",
       "      <td>NaT</td>\n",
       "      <td>Others</td>\n",
       "      <td>NaN</td>\n",
       "      <td>NaN</td>\n",
       "      <td>NaN</td>\n",
       "      <td>NaN</td>\n",
       "      <td>NaN</td>\n",
       "      <td>NaN</td>\n",
       "      <td>smartphone | Lenovo A7020a48 | Android 6.0 | C...</td>\n",
       "    </tr>\n",
       "    <tr>\n",
       "      <td>3</td>\n",
       "      <td>1ebf4111-94da-4c73-96b7-55dcb74a4336</td>\n",
       "      <td>2019-05-31 08:19:16</td>\n",
       "      <td>Singapore</td>\n",
       "      <td>Online</td>\n",
       "      <td>&gt;15 Years</td>\n",
       "      <td>0</td>\n",
       "      <td>0</td>\n",
       "      <td>NaN</td>\n",
       "      <td>facebook</td>\n",
       "      <td>LAE1–32to45</td>\n",
       "      <td>...</td>\n",
       "      <td>PGPBABI-Online-International</td>\n",
       "      <td>NaT</td>\n",
       "      <td>NaN</td>\n",
       "      <td>NaN</td>\n",
       "      <td>NaN</td>\n",
       "      <td>NaN</td>\n",
       "      <td>NaN</td>\n",
       "      <td>NaN</td>\n",
       "      <td>Singapore</td>\n",
       "      <td>smartphone | Apple iPhone | iOS 12.3 | Mobile ...</td>\n",
       "    </tr>\n",
       "    <tr>\n",
       "      <td>4</td>\n",
       "      <td>aa5b2c0e-bf49-4702-9235-05c7d7b62776</td>\n",
       "      <td>2016-12-14 04:59:18</td>\n",
       "      <td>NaN</td>\n",
       "      <td>Gurgaon</td>\n",
       "      <td>2-5 Years</td>\n",
       "      <td>0</td>\n",
       "      <td>1</td>\n",
       "      <td>NaN</td>\n",
       "      <td>Zopim Chat</td>\n",
       "      <td>olp</td>\n",
       "      <td>...</td>\n",
       "      <td>PGPBA</td>\n",
       "      <td>NaT</td>\n",
       "      <td>IT &amp; Technology</td>\n",
       "      <td>NaN</td>\n",
       "      <td>NaN</td>\n",
       "      <td>NaN</td>\n",
       "      <td>NaN</td>\n",
       "      <td>NaN</td>\n",
       "      <td>Gurgaon</td>\n",
       "      <td>NaN</td>\n",
       "    </tr>\n",
       "  </tbody>\n",
       "</table>\n",
       "<p>5 rows × 24 columns</p>\n",
       "</div>"
      ],
      "text/plain": [
       "                             ProspectID           CreatedOn mx_Country  \\\n",
       "0  65e26baf-5ed5-4c08-92a6-426c0f4052b5 2019-02-16 20:51:09        NaN   \n",
       "1  a6998bac-67e9-479e-aca9-d2808b4522f1 2019-02-07 15:39:26        NaN   \n",
       "2  c26dbf1b-6e27-44ce-b33f-a090f7acc040 2018-12-30 15:19:59        NaN   \n",
       "3  1ebf4111-94da-4c73-96b7-55dcb74a4336 2019-05-31 08:19:16  Singapore   \n",
       "4  aa5b2c0e-bf49-4702-9235-05c7d7b62776 2016-12-14 04:59:18        NaN   \n",
       "\n",
       "  mx_Preferred_Campus mx_Exp_In_Years  DoNotCall  DoNotEmail  \\\n",
       "0              Mumbai       2-3 Years          0           0   \n",
       "1              Mumbai       1-2 Years          0           0   \n",
       "2               Delhi       2-5 Years          0           0   \n",
       "3              Online       >15 Years          0           0   \n",
       "4             Gurgaon       2-5 Years          0           1   \n",
       "\n",
       "  mx_Mode_of_Instruction      Source               SourceMedium  ...  \\\n",
       "0              Classroom      google                    Display  ...   \n",
       "1                    NaN    facebook  Mumbai - DSEFT - LAE (1%)  ...   \n",
       "2                    NaN    Facebook                 LAE-LTV-1%  ...   \n",
       "3                    NaN    facebook                LAE1–32to45  ...   \n",
       "4                    NaN  Zopim Chat                        olp  ...   \n",
       "\n",
       "  mx_Current_Interested_Program mx_Application_Date      mx_Industry  \\\n",
       "0                  PGPML-Online                 NaT              NaN   \n",
       "1                         DSEFT                 NaT              NaN   \n",
       "2                         PGPBA                 NaT           Others   \n",
       "3  PGPBABI-Online-International                 NaT              NaN   \n",
       "4                         PGPBA                 NaT  IT & Technology   \n",
       "\n",
       "   mx_UG_Degree mx_UG_Passing_Year mx_PG_Degree mx_PG_Passing_Year  \\\n",
       "0           NaN                NaN          NaN                NaN   \n",
       "1           NaN                NaN          NaN                NaN   \n",
       "2           NaN                NaN          NaN                NaN   \n",
       "3           NaN                NaN          NaN                NaN   \n",
       "4           NaN                NaN          NaN                NaN   \n",
       "\n",
       "  mx_Batch_Code    mx_City                                  mx_Device_details  \n",
       "0           NaN        NaN  smartphone | Xiaomi Redmi 6A | Android 8.1.0 |...  \n",
       "1           NaN        NaN  smartphone | Xiaomi Redmi 4A | Android 6.0.1 |...  \n",
       "2           NaN        NaN  smartphone | Lenovo A7020a48 | Android 6.0 | C...  \n",
       "3           NaN  Singapore  smartphone | Apple iPhone | iOS 12.3 | Mobile ...  \n",
       "4           NaN    Gurgaon                                                NaN  \n",
       "\n",
       "[5 rows x 24 columns]"
      ]
     },
     "execution_count": 3,
     "metadata": {},
     "output_type": "execute_result"
    }
   ],
   "source": [
    "latest = pd.read_excel('../data/latest - orig.xlsx')\n",
    "latest.head()"
   ]
  },
  {
   "cell_type": "code",
   "execution_count": 458,
   "metadata": {},
   "outputs": [
    {
     "data": {
      "text/html": [
       "<div>\n",
       "<style scoped>\n",
       "    .dataframe tbody tr th:only-of-type {\n",
       "        vertical-align: middle;\n",
       "    }\n",
       "\n",
       "    .dataframe tbody tr th {\n",
       "        vertical-align: top;\n",
       "    }\n",
       "\n",
       "    .dataframe thead th {\n",
       "        text-align: right;\n",
       "    }\n",
       "</style>\n",
       "<table border=\"1\" class=\"dataframe\">\n",
       "  <thead>\n",
       "    <tr style=\"text-align: right;\">\n",
       "      <th></th>\n",
       "      <th>RelatedProspectId</th>\n",
       "      <th>ActivityName</th>\n",
       "      <th>Status</th>\n",
       "      <th>mx_Custom_1</th>\n",
       "      <th>mx_Custom_2</th>\n",
       "      <th>mx_Custom_3</th>\n",
       "      <th>mx_Custom_4</th>\n",
       "      <th>mx_Custom_5</th>\n",
       "      <th>mx_Custom_6</th>\n",
       "      <th>mx_Custom_7</th>\n",
       "      <th>mx_Custom_8</th>\n",
       "      <th>mx_Custom_9</th>\n",
       "      <th>mx_Custom_10</th>\n",
       "      <th>CreatedOn</th>\n",
       "      <th>mx_Country_Post</th>\n",
       "      <th>mx_Preferred_Campus_Post</th>\n",
       "      <th>ProspectStage_Pre</th>\n",
       "      <th>ProspectStage_Post</th>\n",
       "      <th>mx_Current_Interested_Program_Pre</th>\n",
       "      <th>mx_Current_Interested_Program_Post</th>\n",
       "    </tr>\n",
       "  </thead>\n",
       "  <tbody>\n",
       "    <tr>\n",
       "      <td>0</td>\n",
       "      <td>001eaa91-4d10-4398-b054-10833ce9744a</td>\n",
       "      <td>91. Change Owner</td>\n",
       "      <td>Active</td>\n",
       "      <td>b8166dce-7f89-11e8-8aa7-020e1b1539ba</td>\n",
       "      <td>NaN</td>\n",
       "      <td>NaN</td>\n",
       "      <td>NaN</td>\n",
       "      <td>NaN</td>\n",
       "      <td>NaN</td>\n",
       "      <td>NaN</td>\n",
       "      <td>NaN</td>\n",
       "      <td>NaN</td>\n",
       "      <td>NaN</td>\n",
       "      <td>2019-05-11 17:24:42.000</td>\n",
       "      <td>NaN</td>\n",
       "      <td>Bangalore</td>\n",
       "      <td>Lead Called</td>\n",
       "      <td>Lead Called</td>\n",
       "      <td>PGPBA</td>\n",
       "      <td>PGPBA</td>\n",
       "    </tr>\n",
       "    <tr>\n",
       "      <td>1</td>\n",
       "      <td>004d4ad9-c722-4fe4-906d-4db4362300d7</td>\n",
       "      <td>lead_capture</td>\n",
       "      <td>existing_lead</td>\n",
       "      <td>Facebook</td>\n",
       "      <td>BABI - Bangalore</td>\n",
       "      <td>Remarketing</td>\n",
       "      <td>website_landing_page</td>\n",
       "      <td>NaN</td>\n",
       "      <td>NaN</td>\n",
       "      <td>NaN</td>\n",
       "      <td>NaN</td>\n",
       "      <td>NaN</td>\n",
       "      <td>NaN</td>\n",
       "      <td>2019-02-13 02:46:50.088</td>\n",
       "      <td>NaN</td>\n",
       "      <td>Bangalore</td>\n",
       "      <td>Lead</td>\n",
       "      <td>Lead</td>\n",
       "      <td>PGPBABI-Online</td>\n",
       "      <td>PGPBABI-Online</td>\n",
       "    </tr>\n",
       "    <tr>\n",
       "      <td>2</td>\n",
       "      <td>004d4ad9-c722-4fe4-906d-4db4362300d7</td>\n",
       "      <td>lead_capture</td>\n",
       "      <td>new_lead</td>\n",
       "      <td>google</td>\n",
       "      <td>PGP_BABI_PPC_BMM_Search_Data_Science_Bangalore</td>\n",
       "      <td>search</td>\n",
       "      <td>website_landing_page</td>\n",
       "      <td>NaN</td>\n",
       "      <td>NaN</td>\n",
       "      <td>NaN</td>\n",
       "      <td>NaN</td>\n",
       "      <td>NaN</td>\n",
       "      <td>NaN</td>\n",
       "      <td>2019-01-04 13:55:13.832</td>\n",
       "      <td>NaN</td>\n",
       "      <td>Bangalore</td>\n",
       "      <td>NaN</td>\n",
       "      <td>Lead</td>\n",
       "      <td>NaN</td>\n",
       "      <td>PGPBA</td>\n",
       "    </tr>\n",
       "    <tr>\n",
       "      <td>3</td>\n",
       "      <td>004d4ad9-c722-4fe4-906d-4db4362300d7</td>\n",
       "      <td>0.Called at Lead Stage</td>\n",
       "      <td>Call back later</td>\n",
       "      <td>NaN</td>\n",
       "      <td>NaN</td>\n",
       "      <td>NaN</td>\n",
       "      <td>NaN</td>\n",
       "      <td>NaN</td>\n",
       "      <td>NaN</td>\n",
       "      <td>NaN</td>\n",
       "      <td>NaN</td>\n",
       "      <td>NaN</td>\n",
       "      <td>NaN</td>\n",
       "      <td>2019-01-04 15:09:00.000</td>\n",
       "      <td>NaN</td>\n",
       "      <td>Bangalore</td>\n",
       "      <td>Lead</td>\n",
       "      <td>Lead Called</td>\n",
       "      <td>PGPBA</td>\n",
       "      <td>PGPBA</td>\n",
       "    </tr>\n",
       "    <tr>\n",
       "      <td>4</td>\n",
       "      <td>004d4ad9-c722-4fe4-906d-4db4362300d7</td>\n",
       "      <td>Outbound Phone Call Activity</td>\n",
       "      <td>Answered</td>\n",
       "      <td>Anita - 918049652364</td>\n",
       "      <td>2019-01-04 15:08:37</td>\n",
       "      <td>37</td>\n",
       "      <td>http://recordings.kookoo.in/great_learning/gre...</td>\n",
       "      <td>Web</td>\n",
       "      <td>OzonetelV2</td>\n",
       "      <td>Answered</td>\n",
       "      <td>NaN</td>\n",
       "      <td>answered</td>\n",
       "      <td>NaN</td>\n",
       "      <td>2019-01-04 15:08:37.000</td>\n",
       "      <td>NaN</td>\n",
       "      <td>Bangalore</td>\n",
       "      <td>Lead Called</td>\n",
       "      <td>Lead Called</td>\n",
       "      <td>PGPBA</td>\n",
       "      <td>PGPBA</td>\n",
       "    </tr>\n",
       "  </tbody>\n",
       "</table>\n",
       "</div>"
      ],
      "text/plain": [
       "                      RelatedProspectId                  ActivityName  \\\n",
       "0  001eaa91-4d10-4398-b054-10833ce9744a              91. Change Owner   \n",
       "1  004d4ad9-c722-4fe4-906d-4db4362300d7                  lead_capture   \n",
       "2  004d4ad9-c722-4fe4-906d-4db4362300d7                  lead_capture   \n",
       "3  004d4ad9-c722-4fe4-906d-4db4362300d7        0.Called at Lead Stage   \n",
       "4  004d4ad9-c722-4fe4-906d-4db4362300d7  Outbound Phone Call Activity   \n",
       "\n",
       "            Status                           mx_Custom_1  \\\n",
       "0           Active  b8166dce-7f89-11e8-8aa7-020e1b1539ba   \n",
       "1    existing_lead                              Facebook   \n",
       "2         new_lead                                google   \n",
       "3  Call back later                                   NaN   \n",
       "4         Answered                  Anita - 918049652364   \n",
       "\n",
       "                                      mx_Custom_2  mx_Custom_3  \\\n",
       "0                                             NaN          NaN   \n",
       "1                                BABI - Bangalore  Remarketing   \n",
       "2  PGP_BABI_PPC_BMM_Search_Data_Science_Bangalore       search   \n",
       "3                                             NaN          NaN   \n",
       "4                             2019-01-04 15:08:37           37   \n",
       "\n",
       "                                         mx_Custom_4 mx_Custom_5 mx_Custom_6  \\\n",
       "0                                                NaN         NaN         NaN   \n",
       "1                               website_landing_page         NaN         NaN   \n",
       "2                               website_landing_page         NaN         NaN   \n",
       "3                                                NaN         NaN         NaN   \n",
       "4  http://recordings.kookoo.in/great_learning/gre...         Web  OzonetelV2   \n",
       "\n",
       "  mx_Custom_7 mx_Custom_8 mx_Custom_9  mx_Custom_10               CreatedOn  \\\n",
       "0         NaN         NaN         NaN           NaN 2019-05-11 17:24:42.000   \n",
       "1         NaN         NaN         NaN           NaN 2019-02-13 02:46:50.088   \n",
       "2         NaN         NaN         NaN           NaN 2019-01-04 13:55:13.832   \n",
       "3         NaN         NaN         NaN           NaN 2019-01-04 15:09:00.000   \n",
       "4    Answered         NaN    answered           NaN 2019-01-04 15:08:37.000   \n",
       "\n",
       "  mx_Country_Post mx_Preferred_Campus_Post ProspectStage_Pre  \\\n",
       "0             NaN                Bangalore       Lead Called   \n",
       "1             NaN                Bangalore              Lead   \n",
       "2             NaN                Bangalore               NaN   \n",
       "3             NaN                Bangalore              Lead   \n",
       "4             NaN                Bangalore       Lead Called   \n",
       "\n",
       "  ProspectStage_Post mx_Current_Interested_Program_Pre  \\\n",
       "0        Lead Called                             PGPBA   \n",
       "1               Lead                    PGPBABI-Online   \n",
       "2               Lead                               NaN   \n",
       "3        Lead Called                             PGPBA   \n",
       "4        Lead Called                             PGPBA   \n",
       "\n",
       "  mx_Current_Interested_Program_Post  \n",
       "0                              PGPBA  \n",
       "1                     PGPBABI-Online  \n",
       "2                              PGPBA  \n",
       "3                              PGPBA  \n",
       "4                              PGPBA  "
      ]
     },
     "execution_count": 458,
     "metadata": {},
     "output_type": "execute_result"
    }
   ],
   "source": [
    "trails = pd.read_excel('../data/trails - orig.xlsx')\n",
    "trails.head()"
   ]
  },
  {
   "cell_type": "markdown",
   "metadata": {},
   "source": [
    "# Descriptive Analysis\n",
    "\n",
    "The descriptive analysis will be performed stepwise after doing certain manipulations with the data\n",
    "\n",
    "__Manipulations__\n",
    "\n",
    "* Discaring the columns with high missing values\n",
    "* After discarding, we shall create the two seperate tables.\n",
    "    1. Quantitative variables table 1 as in question\n",
    "    2. Qualitative variables table 2 as in question for both DataFrames: latest, trail  \n",
    "* Clean certain columns for univariate analysis.\n",
    "* Merge the data for bivariate analysis.\n"
   ]
  },
  {
   "cell_type": "markdown",
   "metadata": {},
   "source": [
    "## Discarding the columns with high missing values\n",
    "\n",
    "__Idea:__ From both the dataframes 'latest' and 'trials', the columns with more than 30% null values are dropped"
   ]
  },
  {
   "cell_type": "code",
   "execution_count": 375,
   "metadata": {},
   "outputs": [],
   "source": [
    "# remove columns with missing values \n",
    "\n",
    "\n",
    "def remove_missing_cols(df, thresh = 30):\n",
    "    '''\n",
    "    remove columns with missing values > thresh percentage\n",
    "    \n",
    "    parameters:\n",
    "    ----------\n",
    "    df: pd.DataFrame\n",
    "    thresh: how much percentage of missing values are okay to keep\n",
    "    \n",
    "    '''\n",
    "    na_perct = df.isna().mean()*100 \n",
    "    valid_cols = na_perct[na_perct <= thresh].index\n",
    "    return df[valid_cols]"
   ]
  },
  {
   "cell_type": "code",
   "execution_count": 450,
   "metadata": {},
   "outputs": [],
   "source": [
    "latest_use = remove_missing_cols(latest, 30)"
   ]
  },
  {
   "cell_type": "code",
   "execution_count": 460,
   "metadata": {},
   "outputs": [],
   "source": [
    "trail_use = remove_missing_cols(trails, 30)"
   ]
  },
  {
   "cell_type": "markdown",
   "metadata": {},
   "source": [
    "## 1. Creating the first table for quantitative variables"
   ]
  },
  {
   "cell_type": "code",
   "execution_count": 148,
   "metadata": {},
   "outputs": [],
   "source": [
    "def continuous_var_summary(var):\n",
    "    '''\n",
    "    Returns the summary of the data, namely : 'Min', 'Max', 'Avg','% null'\n",
    "    \n",
    "    Parameters:\n",
    "    ----------------\n",
    "    var: pd.Series, any pd.DataFrame column\n",
    "    \n",
    "    Return:\n",
    "    ---------------\n",
    "    quantity: a DataFrame\n",
    "    '''\n",
    "    quantity = {}\n",
    "    percent = np.arange(0.05, 1, 0.05)\n",
    "    quantity['Min'] = var.dropna().min()\n",
    "    quantity['Max'] = var.dropna().max()\n",
    "    quantity['Avg'] = var.dropna().mean()\n",
    "    quantity['% null'] = var.isna().mean()*100\n",
    "    quantity = pd.DataFrame([quantity])\n",
    "    return quantity"
   ]
  },
  {
   "cell_type": "code",
   "execution_count": 189,
   "metadata": {},
   "outputs": [],
   "source": [
    "score = continuous_var_summary(latest['Score'])"
   ]
  },
  {
   "cell_type": "code",
   "execution_count": 190,
   "metadata": {},
   "outputs": [],
   "source": [
    "quantile = pd.DataFrame(latest['Score'].quantile(percentiles))\n",
    "quantile = quantile.T\n",
    "quantile = quantile.reset_index(drop = True)\n",
    "quantile.columns = np.round(quantile.columns, 2)"
   ]
  },
  {
   "cell_type": "code",
   "execution_count": 191,
   "metadata": {},
   "outputs": [],
   "source": [
    "result1 = pd.concat([score, quantile], axis = 1)"
   ]
  },
  {
   "cell_type": "code",
   "execution_count": 168,
   "metadata": {},
   "outputs": [],
   "source": [
    "def convert_cols_to_string(cols, n):\n",
    "    '''\n",
    "    convert name of the columns to strings\n",
    "    \n",
    "    parameters:\n",
    "    --------------\n",
    "    cols: the column name that is to be changed\n",
    "    n: string conversion to how many digits\n",
    "    \n",
    "    returns:\n",
    "    --------------\n",
    "    new_col: returns the converted column \n",
    "    '''\n",
    "    new_cols = []\n",
    "    for col in cols:\n",
    "        try:\n",
    "            new_col = str(np.round(col, n))\n",
    "        except Exception:\n",
    "            new_col = col\n",
    "            \n",
    "        new_cols.append(new_col)\n",
    "        \n",
    "        \n",
    "    return new_cols"
   ]
  },
  {
   "cell_type": "code",
   "execution_count": 192,
   "metadata": {},
   "outputs": [],
   "source": [
    "result1.columns = convert_cols_to_string(result1.columns, 2)"
   ]
  },
  {
   "cell_type": "code",
   "execution_count": 193,
   "metadata": {},
   "outputs": [
    {
     "data": {
      "text/html": [
       "<div>\n",
       "<style scoped>\n",
       "    .dataframe tbody tr th:only-of-type {\n",
       "        vertical-align: middle;\n",
       "    }\n",
       "\n",
       "    .dataframe tbody tr th {\n",
       "        vertical-align: top;\n",
       "    }\n",
       "\n",
       "    .dataframe thead th {\n",
       "        text-align: right;\n",
       "    }\n",
       "</style>\n",
       "<table border=\"1\" class=\"dataframe\">\n",
       "  <thead>\n",
       "    <tr style=\"text-align: right;\">\n",
       "      <th></th>\n",
       "      <th>Min</th>\n",
       "      <th>Max</th>\n",
       "      <th>Avg</th>\n",
       "      <th>% null</th>\n",
       "      <th>0.05</th>\n",
       "      <th>0.1</th>\n",
       "      <th>0.15</th>\n",
       "      <th>0.2</th>\n",
       "      <th>0.25</th>\n",
       "      <th>0.3</th>\n",
       "      <th>...</th>\n",
       "      <th>0.5</th>\n",
       "      <th>0.55</th>\n",
       "      <th>0.6</th>\n",
       "      <th>0.65</th>\n",
       "      <th>0.7</th>\n",
       "      <th>0.75</th>\n",
       "      <th>0.8</th>\n",
       "      <th>0.85</th>\n",
       "      <th>0.9</th>\n",
       "      <th>0.95</th>\n",
       "    </tr>\n",
       "  </thead>\n",
       "  <tbody>\n",
       "    <tr>\n",
       "      <td>0</td>\n",
       "      <td>-48.0</td>\n",
       "      <td>1142.0</td>\n",
       "      <td>21.165496</td>\n",
       "      <td>0.3</td>\n",
       "      <td>-10.0</td>\n",
       "      <td>0.0</td>\n",
       "      <td>0.0</td>\n",
       "      <td>2.0</td>\n",
       "      <td>2.0</td>\n",
       "      <td>4.0</td>\n",
       "      <td>...</td>\n",
       "      <td>10.0</td>\n",
       "      <td>11.0</td>\n",
       "      <td>12.0</td>\n",
       "      <td>16.0</td>\n",
       "      <td>20.0</td>\n",
       "      <td>24.0</td>\n",
       "      <td>33.0</td>\n",
       "      <td>40.6</td>\n",
       "      <td>56.0</td>\n",
       "      <td>85.0</td>\n",
       "    </tr>\n",
       "  </tbody>\n",
       "</table>\n",
       "<p>1 rows × 23 columns</p>\n",
       "</div>"
      ],
      "text/plain": [
       "    Min     Max        Avg  % null  0.05  0.1  0.15  0.2  0.25  0.3  ...  \\\n",
       "0 -48.0  1142.0  21.165496     0.3 -10.0  0.0   0.0  2.0   2.0  4.0  ...   \n",
       "\n",
       "    0.5  0.55   0.6  0.65   0.7  0.75   0.8  0.85   0.9  0.95  \n",
       "0  10.0  11.0  12.0  16.0  20.0  24.0  33.0  40.6  56.0  85.0  \n",
       "\n",
       "[1 rows x 23 columns]"
      ]
     },
     "execution_count": 193,
     "metadata": {},
     "output_type": "execute_result"
    }
   ],
   "source": [
    "result1"
   ]
  },
  {
   "cell_type": "code",
   "execution_count": 194,
   "metadata": {},
   "outputs": [],
   "source": [
    "EngagementScore = continuous_var_summary(latest['EngagementScore'])"
   ]
  },
  {
   "cell_type": "code",
   "execution_count": 195,
   "metadata": {},
   "outputs": [],
   "source": [
    "quantile2 = pd.DataFrame(latest['EngagementScore'].quantile(percentiles))\n",
    "quantile2 = quantile.T\n",
    "quantile2 = quantile.reset_index(drop = True)\n",
    "quantile2.columns = np.round(quantile.columns, 2)"
   ]
  },
  {
   "cell_type": "code",
   "execution_count": 196,
   "metadata": {},
   "outputs": [],
   "source": [
    "result2 = pd.concat([EngagementScore, quantile2], axis = 1)\n",
    "result2.columns = convert_cols_to_string(result2.columns, 2)"
   ]
  },
  {
   "cell_type": "code",
   "execution_count": 197,
   "metadata": {},
   "outputs": [
    {
     "data": {
      "text/html": [
       "<div>\n",
       "<style scoped>\n",
       "    .dataframe tbody tr th:only-of-type {\n",
       "        vertical-align: middle;\n",
       "    }\n",
       "\n",
       "    .dataframe tbody tr th {\n",
       "        vertical-align: top;\n",
       "    }\n",
       "\n",
       "    .dataframe thead th {\n",
       "        text-align: right;\n",
       "    }\n",
       "</style>\n",
       "<table border=\"1\" class=\"dataframe\">\n",
       "  <thead>\n",
       "    <tr style=\"text-align: right;\">\n",
       "      <th></th>\n",
       "      <th>Min</th>\n",
       "      <th>Max</th>\n",
       "      <th>Avg</th>\n",
       "      <th>% null</th>\n",
       "      <th>0.05</th>\n",
       "      <th>0.1</th>\n",
       "      <th>0.15</th>\n",
       "      <th>0.2</th>\n",
       "      <th>0.25</th>\n",
       "      <th>0.3</th>\n",
       "      <th>...</th>\n",
       "      <th>0.5</th>\n",
       "      <th>0.55</th>\n",
       "      <th>0.6</th>\n",
       "      <th>0.65</th>\n",
       "      <th>0.7</th>\n",
       "      <th>0.75</th>\n",
       "      <th>0.8</th>\n",
       "      <th>0.85</th>\n",
       "      <th>0.9</th>\n",
       "      <th>0.95</th>\n",
       "    </tr>\n",
       "  </thead>\n",
       "  <tbody>\n",
       "    <tr>\n",
       "      <td>0</td>\n",
       "      <td>0.0</td>\n",
       "      <td>141.0</td>\n",
       "      <td>5.887663</td>\n",
       "      <td>0.3</td>\n",
       "      <td>-10.0</td>\n",
       "      <td>0.0</td>\n",
       "      <td>0.0</td>\n",
       "      <td>2.0</td>\n",
       "      <td>2.0</td>\n",
       "      <td>4.0</td>\n",
       "      <td>...</td>\n",
       "      <td>10.0</td>\n",
       "      <td>11.0</td>\n",
       "      <td>12.0</td>\n",
       "      <td>16.0</td>\n",
       "      <td>20.0</td>\n",
       "      <td>24.0</td>\n",
       "      <td>33.0</td>\n",
       "      <td>40.6</td>\n",
       "      <td>56.0</td>\n",
       "      <td>85.0</td>\n",
       "    </tr>\n",
       "  </tbody>\n",
       "</table>\n",
       "<p>1 rows × 23 columns</p>\n",
       "</div>"
      ],
      "text/plain": [
       "   Min    Max       Avg  % null  0.05  0.1  0.15  0.2  0.25  0.3  ...   0.5  \\\n",
       "0  0.0  141.0  5.887663     0.3 -10.0  0.0   0.0  2.0   2.0  4.0  ...  10.0   \n",
       "\n",
       "   0.55   0.6  0.65   0.7  0.75   0.8  0.85   0.9  0.95  \n",
       "0  11.0  12.0  16.0  20.0  24.0  33.0  40.6  56.0  85.0  \n",
       "\n",
       "[1 rows x 23 columns]"
      ]
     },
     "execution_count": 197,
     "metadata": {},
     "output_type": "execute_result"
    }
   ],
   "source": [
    "result2"
   ]
  },
  {
   "cell_type": "code",
   "execution_count": 199,
   "metadata": {},
   "outputs": [],
   "source": [
    "result = pd.concat([result1, result2], axis = 0)"
   ]
  },
  {
   "cell_type": "code",
   "execution_count": 206,
   "metadata": {},
   "outputs": [],
   "source": [
    "result.index = ['Score', 'EngagementScore']"
   ]
  },
  {
   "cell_type": "markdown",
   "metadata": {},
   "source": [
    "### Required table 1: from DataFrame: latest\n",
    "\n",
    "There is no quantitative variables in the table trails"
   ]
  },
  {
   "cell_type": "code",
   "execution_count": 207,
   "metadata": {},
   "outputs": [
    {
     "data": {
      "text/html": [
       "<div>\n",
       "<style scoped>\n",
       "    .dataframe tbody tr th:only-of-type {\n",
       "        vertical-align: middle;\n",
       "    }\n",
       "\n",
       "    .dataframe tbody tr th {\n",
       "        vertical-align: top;\n",
       "    }\n",
       "\n",
       "    .dataframe thead th {\n",
       "        text-align: right;\n",
       "    }\n",
       "</style>\n",
       "<table border=\"1\" class=\"dataframe\">\n",
       "  <thead>\n",
       "    <tr style=\"text-align: right;\">\n",
       "      <th></th>\n",
       "      <th>Min</th>\n",
       "      <th>Max</th>\n",
       "      <th>Avg</th>\n",
       "      <th>% null</th>\n",
       "      <th>0.05</th>\n",
       "      <th>0.1</th>\n",
       "      <th>0.15</th>\n",
       "      <th>0.2</th>\n",
       "      <th>0.25</th>\n",
       "      <th>0.3</th>\n",
       "      <th>...</th>\n",
       "      <th>0.5</th>\n",
       "      <th>0.55</th>\n",
       "      <th>0.6</th>\n",
       "      <th>0.65</th>\n",
       "      <th>0.7</th>\n",
       "      <th>0.75</th>\n",
       "      <th>0.8</th>\n",
       "      <th>0.85</th>\n",
       "      <th>0.9</th>\n",
       "      <th>0.95</th>\n",
       "    </tr>\n",
       "  </thead>\n",
       "  <tbody>\n",
       "    <tr>\n",
       "      <td>Score</td>\n",
       "      <td>-48.0</td>\n",
       "      <td>1142.0</td>\n",
       "      <td>21.165496</td>\n",
       "      <td>0.3</td>\n",
       "      <td>-10.0</td>\n",
       "      <td>0.0</td>\n",
       "      <td>0.0</td>\n",
       "      <td>2.0</td>\n",
       "      <td>2.0</td>\n",
       "      <td>4.0</td>\n",
       "      <td>...</td>\n",
       "      <td>10.0</td>\n",
       "      <td>11.0</td>\n",
       "      <td>12.0</td>\n",
       "      <td>16.0</td>\n",
       "      <td>20.0</td>\n",
       "      <td>24.0</td>\n",
       "      <td>33.0</td>\n",
       "      <td>40.6</td>\n",
       "      <td>56.0</td>\n",
       "      <td>85.0</td>\n",
       "    </tr>\n",
       "    <tr>\n",
       "      <td>EngagementScore</td>\n",
       "      <td>0.0</td>\n",
       "      <td>141.0</td>\n",
       "      <td>5.887663</td>\n",
       "      <td>0.3</td>\n",
       "      <td>-10.0</td>\n",
       "      <td>0.0</td>\n",
       "      <td>0.0</td>\n",
       "      <td>2.0</td>\n",
       "      <td>2.0</td>\n",
       "      <td>4.0</td>\n",
       "      <td>...</td>\n",
       "      <td>10.0</td>\n",
       "      <td>11.0</td>\n",
       "      <td>12.0</td>\n",
       "      <td>16.0</td>\n",
       "      <td>20.0</td>\n",
       "      <td>24.0</td>\n",
       "      <td>33.0</td>\n",
       "      <td>40.6</td>\n",
       "      <td>56.0</td>\n",
       "      <td>85.0</td>\n",
       "    </tr>\n",
       "  </tbody>\n",
       "</table>\n",
       "<p>2 rows × 23 columns</p>\n",
       "</div>"
      ],
      "text/plain": [
       "                  Min     Max        Avg  % null  0.05  0.1  0.15  0.2  0.25  \\\n",
       "Score           -48.0  1142.0  21.165496     0.3 -10.0  0.0   0.0  2.0   2.0   \n",
       "EngagementScore   0.0   141.0   5.887663     0.3 -10.0  0.0   0.0  2.0   2.0   \n",
       "\n",
       "                 0.3  ...   0.5  0.55   0.6  0.65   0.7  0.75   0.8  0.85  \\\n",
       "Score            4.0  ...  10.0  11.0  12.0  16.0  20.0  24.0  33.0  40.6   \n",
       "EngagementScore  4.0  ...  10.0  11.0  12.0  16.0  20.0  24.0  33.0  40.6   \n",
       "\n",
       "                  0.9  0.95  \n",
       "Score            56.0  85.0  \n",
       "EngagementScore  56.0  85.0  \n",
       "\n",
       "[2 rows x 23 columns]"
      ]
     },
     "execution_count": 207,
     "metadata": {},
     "output_type": "execute_result"
    }
   ],
   "source": [
    "result"
   ]
  },
  {
   "cell_type": "markdown",
   "metadata": {},
   "source": [
    "## 2. Creating table two for Qualitative variables"
   ]
  },
  {
   "cell_type": "code",
   "execution_count": 288,
   "metadata": {},
   "outputs": [],
   "source": [
    "def categorical_frequency(ser):\n",
    "    counts = ser.value_counts()\n",
    "    counts.name = 'Freq'\n",
    "    d = pd.DataFrame(counts)\n",
    "    na_counts = ser.isna().sum()\n",
    "    valid_counts = ser.shape[0] - na_counts\n",
    "    d['Freq_percentage'] = d['Freq']/(valid_counts)\n",
    "    return d"
   ]
  },
  {
   "cell_type": "code",
   "execution_count": 302,
   "metadata": {},
   "outputs": [],
   "source": [
    "def make_categorical_freq_table(cols, df):\n",
    "    '''Make categorical frequency tables for selected columns <cols>\n",
    "    \n",
    "    Parameters:\n",
    "    -----------\n",
    "    \n",
    "    cols: list\n",
    "        The column names of categorical variables\n",
    "        \n",
    "    df: pd.Dataframe\n",
    "\n",
    "    '''\n",
    "    frames = []\n",
    "    for col in cols:\n",
    "        table = categorical_frequency(df[col])\n",
    "        frames.append(table)\n",
    "        \n",
    "        \n",
    "    return pd.concat(frames, keys=cols)"
   ]
  },
  {
   "cell_type": "markdown",
   "metadata": {},
   "source": [
    "### Table two: DataFrame: latest"
   ]
  },
  {
   "cell_type": "code",
   "execution_count": 531,
   "metadata": {},
   "outputs": [
    {
     "data": {
      "text/html": [
       "<div>\n",
       "<style scoped>\n",
       "    .dataframe tbody tr th:only-of-type {\n",
       "        vertical-align: middle;\n",
       "    }\n",
       "\n",
       "    .dataframe tbody tr th {\n",
       "        vertical-align: top;\n",
       "    }\n",
       "\n",
       "    .dataframe thead th {\n",
       "        text-align: right;\n",
       "    }\n",
       "</style>\n",
       "<table border=\"1\" class=\"dataframe\">\n",
       "  <thead>\n",
       "    <tr style=\"text-align: right;\">\n",
       "      <th></th>\n",
       "      <th></th>\n",
       "      <th>Freq</th>\n",
       "      <th>Freq_percentage</th>\n",
       "    </tr>\n",
       "  </thead>\n",
       "  <tbody>\n",
       "    <tr>\n",
       "      <td rowspan=\"5\" valign=\"top\">ProspectStage</td>\n",
       "      <td>Lead Called</td>\n",
       "      <td>454</td>\n",
       "      <td>0.454000</td>\n",
       "    </tr>\n",
       "    <tr>\n",
       "      <td>Rejected</td>\n",
       "      <td>353</td>\n",
       "      <td>0.353000</td>\n",
       "    </tr>\n",
       "    <tr>\n",
       "      <td>Lead</td>\n",
       "      <td>121</td>\n",
       "      <td>0.121000</td>\n",
       "    </tr>\n",
       "    <tr>\n",
       "      <td>Pending Applicant</td>\n",
       "      <td>36</td>\n",
       "      <td>0.036000</td>\n",
       "    </tr>\n",
       "    <tr>\n",
       "      <td>Enrolled</td>\n",
       "      <td>15</td>\n",
       "      <td>0.015000</td>\n",
       "    </tr>\n",
       "    <tr>\n",
       "      <td>...</td>\n",
       "      <td>...</td>\n",
       "      <td>...</td>\n",
       "      <td>...</td>\n",
       "    </tr>\n",
       "    <tr>\n",
       "      <td rowspan=\"5\" valign=\"top\">SourceCampaign</td>\n",
       "      <td>aiml-unified-Bangalore</td>\n",
       "      <td>1</td>\n",
       "      <td>0.001248</td>\n",
       "    </tr>\n",
       "    <tr>\n",
       "      <td>Intent Topic_Targeting_Display_PGP_BABI_Bangalore_Performance</td>\n",
       "      <td>1</td>\n",
       "      <td>0.001248</td>\n",
       "    </tr>\n",
       "    <tr>\n",
       "      <td>816817389</td>\n",
       "      <td>1</td>\n",
       "      <td>0.001248</td>\n",
       "    </tr>\n",
       "    <tr>\n",
       "      <td>PGP-EX_PPC-BMM_Search_Executive_MBA_Gurgaon</td>\n",
       "      <td>1</td>\n",
       "      <td>0.001248</td>\n",
       "    </tr>\n",
       "    <tr>\n",
       "      <td>dse_Chennai</td>\n",
       "      <td>1</td>\n",
       "      <td>0.001248</td>\n",
       "    </tr>\n",
       "  </tbody>\n",
       "</table>\n",
       "<p>351 rows × 2 columns</p>\n",
       "</div>"
      ],
      "text/plain": [
       "                                                                   Freq  \\\n",
       "ProspectStage  Lead Called                                          454   \n",
       "               Rejected                                             353   \n",
       "               Lead                                                 121   \n",
       "               Pending Applicant                                     36   \n",
       "               Enrolled                                              15   \n",
       "...                                                                 ...   \n",
       "SourceCampaign aiml-unified-Bangalore                                 1   \n",
       "               Intent Topic_Targeting_Display_PGP_BABI_Bangalo...     1   \n",
       "               816817389                                              1   \n",
       "               PGP-EX_PPC-BMM_Search_Executive_MBA_Gurgaon            1   \n",
       "               dse_Chennai                                            1   \n",
       "\n",
       "                                                                   Freq_percentage  \n",
       "ProspectStage  Lead Called                                                0.454000  \n",
       "               Rejected                                                   0.353000  \n",
       "               Lead                                                       0.121000  \n",
       "               Pending Applicant                                          0.036000  \n",
       "               Enrolled                                                   0.015000  \n",
       "...                                                                            ...  \n",
       "SourceCampaign aiml-unified-Bangalore                                     0.001248  \n",
       "               Intent Topic_Targeting_Display_PGP_BABI_Bangalo...         0.001248  \n",
       "               816817389                                                  0.001248  \n",
       "               PGP-EX_PPC-BMM_Search_Executive_MBA_Gurgaon                0.001248  \n",
       "               dse_Chennai                                                0.001248  \n",
       "\n",
       "[351 rows x 2 columns]"
      ]
     },
     "execution_count": 531,
     "metadata": {},
     "output_type": "execute_result"
    }
   ],
   "source": [
    "cat_cols_latest = ['ProspectStage', 'DoNotCall', 'DoNotEmail', 'mx_Preferred_Campus', 'mx_Exp_In_Years', \n",
    "            'mx_Current_Interested_Program', 'SourceCampaign']\n",
    "\n",
    "make_categorical_freq_table(cat_cols_latest, latest_use)"
   ]
  },
  {
   "cell_type": "markdown",
   "metadata": {},
   "source": [
    "### Table two: DataFrame: trails"
   ]
  },
  {
   "cell_type": "code",
   "execution_count": 534,
   "metadata": {},
   "outputs": [
    {
     "data": {
      "text/html": [
       "<div>\n",
       "<style scoped>\n",
       "    .dataframe tbody tr th:only-of-type {\n",
       "        vertical-align: middle;\n",
       "    }\n",
       "\n",
       "    .dataframe tbody tr th {\n",
       "        vertical-align: top;\n",
       "    }\n",
       "\n",
       "    .dataframe thead th {\n",
       "        text-align: right;\n",
       "    }\n",
       "</style>\n",
       "<table border=\"1\" class=\"dataframe\">\n",
       "  <thead>\n",
       "    <tr style=\"text-align: right;\">\n",
       "      <th></th>\n",
       "      <th></th>\n",
       "      <th>Freq</th>\n",
       "      <th>Freq_percentage</th>\n",
       "    </tr>\n",
       "  </thead>\n",
       "  <tbody>\n",
       "    <tr>\n",
       "      <td rowspan=\"5\" valign=\"top\">ActivityName</td>\n",
       "      <td>Unique Page Visit</td>\n",
       "      <td>2211</td>\n",
       "      <td>0.322491</td>\n",
       "    </tr>\n",
       "    <tr>\n",
       "      <td>0.Called at Lead Stage</td>\n",
       "      <td>1184</td>\n",
       "      <td>0.172695</td>\n",
       "    </tr>\n",
       "    <tr>\n",
       "      <td>Outbound Phone Call Activity</td>\n",
       "      <td>1000</td>\n",
       "      <td>0.145858</td>\n",
       "    </tr>\n",
       "    <tr>\n",
       "      <td>lead_capture</td>\n",
       "      <td>935</td>\n",
       "      <td>0.136377</td>\n",
       "    </tr>\n",
       "    <tr>\n",
       "      <td>91. Change Owner</td>\n",
       "      <td>733</td>\n",
       "      <td>0.106914</td>\n",
       "    </tr>\n",
       "    <tr>\n",
       "      <td>...</td>\n",
       "      <td>...</td>\n",
       "      <td>...</td>\n",
       "      <td>...</td>\n",
       "    </tr>\n",
       "    <tr>\n",
       "      <td rowspan=\"5\" valign=\"top\">mx_Current_Interested_Program_Post</td>\n",
       "      <td>ACSP</td>\n",
       "      <td>23</td>\n",
       "      <td>0.003369</td>\n",
       "    </tr>\n",
       "    <tr>\n",
       "      <td>ACSP-International</td>\n",
       "      <td>10</td>\n",
       "      <td>0.001465</td>\n",
       "    </tr>\n",
       "    <tr>\n",
       "      <td>PGPM-Ex</td>\n",
       "      <td>9</td>\n",
       "      <td>0.001318</td>\n",
       "    </tr>\n",
       "    <tr>\n",
       "      <td>PGPSDM</td>\n",
       "      <td>6</td>\n",
       "      <td>0.000879</td>\n",
       "    </tr>\n",
       "    <tr>\n",
       "      <td>MLCP</td>\n",
       "      <td>2</td>\n",
       "      <td>0.000293</td>\n",
       "    </tr>\n",
       "  </tbody>\n",
       "</table>\n",
       "<p>99 rows × 2 columns</p>\n",
       "</div>"
      ],
      "text/plain": [
       "                                                                 Freq  \\\n",
       "ActivityName                       Unique Page Visit             2211   \n",
       "                                   0.Called at Lead Stage        1184   \n",
       "                                   Outbound Phone Call Activity  1000   \n",
       "                                   lead_capture                   935   \n",
       "                                   91. Change Owner               733   \n",
       "...                                                               ...   \n",
       "mx_Current_Interested_Program_Post ACSP                            23   \n",
       "                                   ACSP-International              10   \n",
       "                                   PGPM-Ex                          9   \n",
       "                                   PGPSDM                           6   \n",
       "                                   MLCP                             2   \n",
       "\n",
       "                                                                 Freq_percentage  \n",
       "ActivityName                       Unique Page Visit                    0.322491  \n",
       "                                   0.Called at Lead Stage               0.172695  \n",
       "                                   Outbound Phone Call Activity         0.145858  \n",
       "                                   lead_capture                         0.136377  \n",
       "                                   91. Change Owner                     0.106914  \n",
       "...                                                                          ...  \n",
       "mx_Current_Interested_Program_Post ACSP                                 0.003369  \n",
       "                                   ACSP-International                   0.001465  \n",
       "                                   PGPM-Ex                              0.001318  \n",
       "                                   PGPSDM                               0.000879  \n",
       "                                   MLCP                                 0.000293  \n",
       "\n",
       "[99 rows x 2 columns]"
      ]
     },
     "execution_count": 534,
     "metadata": {},
     "output_type": "execute_result"
    }
   ],
   "source": [
    "cat_cols_trail = ['ActivityName', 'mx_Preferred_Campus_Post', 'ProspectStage_Pre', 'ProspectStage_Post', \n",
    "                   'mx_Current_Interested_Program_Pre', 'mx_Current_Interested_Program_Post']\n",
    "\n",
    "make_categorical_freq_table(cat_cols_trail, trail_use)"
   ]
  },
  {
   "cell_type": "markdown",
   "metadata": {},
   "source": [
    "## Cleaning Data for Univariate analysis:\n",
    "\n",
    "We shall here clean the 'max experience in years' column and convert it into float, so that they can be interpreted. "
   ]
  },
  {
   "cell_type": "code",
   "execution_count": 451,
   "metadata": {},
   "outputs": [],
   "source": [
    "def na_patch(func): \n",
    "    '''\n",
    "    Patch function to handle exception\n",
    "    \n",
    "    parameters:\n",
    "    -----------\n",
    "    func : any function on which exception is to be handled\n",
    "    '''\n",
    "    def modfunc(x, *args, **kwargs):\n",
    "        try:\n",
    "            return func(x, *args, **kwargs)\n",
    "        except Exception:\n",
    "            return x\n",
    "        \n",
    "    return modfunc"
   ]
  },
  {
   "cell_type": "code",
   "execution_count": 452,
   "metadata": {},
   "outputs": [],
   "source": [
    "@na_patch\n",
    "def get_numerical_exp(exp_str):\n",
    "    '''\n",
    "    Operations:\n",
    "    1. '<1': returns the lower value experience\n",
    "    2. '> 15': returns the lower value\n",
    "    3. value bins: returns the average of the two numbers\n",
    "    4. single digit strings: returns numerical \n",
    "    \n",
    "    parameters:\n",
    "    ----------------\n",
    "    exp_str: any string expression\n",
    "    \n",
    "    '''\n",
    "    try: \n",
    "        exp_num = float(exp_str)\n",
    "        return exp_num\n",
    "    except ValueError:\n",
    "        pass\n",
    "            \n",
    "    if(exp_str == '<1'):\n",
    "        exp_num = 0\n",
    "    elif(exp_str == '>15'):\n",
    "        exp_num = 15\n",
    "    elif('-' in exp_str):\n",
    "        lower, upper = exp_str.split('-')\n",
    "        lower = int(lower)\n",
    "        upper = int(upper)\n",
    "        exp_num = (lower + upper)/2\n",
    "    else:\n",
    "        exp_num = np.nan\n",
    "        \n",
    "    return exp_num"
   ]
  },
  {
   "cell_type": "code",
   "execution_count": 453,
   "metadata": {},
   "outputs": [],
   "source": [
    "def transform_bins_to_numeric(col):\n",
    "    '''\n",
    "    returns the transformed float column of any object column with bins\n",
    "    \n",
    "    parameter:\n",
    "    -------------\n",
    "    col : any DataFrame object type columns\n",
    "    '''\n",
    "    original = pd.Series(col.value_counts().index)\n",
    "    transformed = pd.Series(col.value_counts().index)\n",
    "    transformed = transformed.str.replace(' Years','')\n",
    "    transformed = transformed.str.replace(' Year','').str.replace(' ', '')\n",
    "    transformed = transformed.apply(get_numerical_exp)\n",
    "    exp_mapdict = dict(zip(original, transformed))\n",
    "    \n",
    "    return col.map(exp_mapdict)\n"
   ]
  },
  {
   "cell_type": "code",
   "execution_count": 454,
   "metadata": {},
   "outputs": [
    {
     "name": "stderr",
     "output_type": "stream",
     "text": [
      "C:\\Users\\Anurima\\AppData\\Local\\Continuum\\anaconda3\\lib\\site-packages\\ipykernel_launcher.py:1: SettingWithCopyWarning: \n",
      "A value is trying to be set on a copy of a slice from a DataFrame.\n",
      "Try using .loc[row_indexer,col_indexer] = value instead\n",
      "\n",
      "See the caveats in the documentation: http://pandas.pydata.org/pandas-docs/stable/user_guide/indexing.html#returning-a-view-versus-a-copy\n",
      "  \"\"\"Entry point for launching an IPython kernel.\n"
     ]
    }
   ],
   "source": [
    "latest_use['mx_Exp_In_Years'] = transform_bins_to_numeric(latest_use['mx_Exp_In_Years'])"
   ]
  },
  {
   "cell_type": "markdown",
   "metadata": {},
   "source": [
    "## Univariate Analysis on the data Latest"
   ]
  },
  {
   "cell_type": "code",
   "execution_count": 535,
   "metadata": {},
   "outputs": [
    {
     "name": "stdout",
     "output_type": "stream",
     "text": [
      "<class 'pandas.core.frame.DataFrame'>\n",
      "RangeIndex: 1000 entries, 0 to 999\n",
      "Data columns (total 13 columns):\n",
      "ProspectID                       1000 non-null object\n",
      "CreatedOn                        1000 non-null datetime64[ns]\n",
      "mx_Preferred_Campus              914 non-null object\n",
      "mx_Exp_In_Years                  835 non-null float64\n",
      "DoNotCall                        1000 non-null int64\n",
      "DoNotEmail                       1000 non-null int64\n",
      "Source                           754 non-null object\n",
      "SourceMedium                     868 non-null object\n",
      "SourceCampaign                   801 non-null object\n",
      "ProspectStage                    1000 non-null object\n",
      "Score                            997 non-null float64\n",
      "EngagementScore                  997 non-null float64\n",
      "mx_Current_Interested_Program    993 non-null object\n",
      "dtypes: datetime64[ns](1), float64(3), int64(2), object(7)\n",
      "memory usage: 101.7+ KB\n"
     ]
    }
   ],
   "source": [
    "latest_use.info()"
   ]
  },
  {
   "cell_type": "markdown",
   "metadata": {},
   "source": [
    "### For quantitative variable in order: \n",
    "\n",
    "The graphs are self explainatory. \n",
    "1. Max years of experience: boxplot\n",
    "2. Score : histogram\n",
    "3. Engagement Score: histogram"
   ]
  },
  {
   "cell_type": "markdown",
   "metadata": {},
   "source": [
    "1. __Max experience in years__ provides an idea that the people registering into the Great Learning website has a mean work experience of 2-4 years. \n",
    "\n",
    "    Higher chances of registration increaces the chances of enrollment, so the target customer can be people with lower work experience than that of higher work experience."
   ]
  },
  {
   "cell_type": "code",
   "execution_count": 545,
   "metadata": {},
   "outputs": [
    {
     "data": {
      "text/plain": [
       "Text(0.5, 1.0, 'Max Experience in years: Boxplot')"
      ]
     },
     "execution_count": 545,
     "metadata": {},
     "output_type": "execute_result"
    },
    {
     "data": {
      "image/png": "[encoded data removed]",
      "text/plain": [
       "<Figure size 432x288 with 1 Axes>"
      ]
     },
     "metadata": {
      "needs_background": "light"
     },
     "output_type": "display_data"
    }
   ],
   "source": [
    "latest_use['mx_Exp_In_Years'].plot(kind = 'box')\n",
    "plt.title('Max Experience in years: Boxplot')"
   ]
  },
  {
   "cell_type": "markdown",
   "metadata": {},
   "source": [
    "2. __Score__ probably is system assigned, and it typically ranges between 0 to 300."
   ]
  },
  {
   "cell_type": "code",
   "execution_count": 587,
   "metadata": {},
   "outputs": [
    {
     "data": {
      "text/plain": [
       "Text(0.5, 1.0, 'Score: Histogram')"
      ]
     },
     "execution_count": 587,
     "metadata": {},
     "output_type": "execute_result"
    },
    {
     "data": {
      "image/png": "[encoded data removed]",
      "text/plain": [
       "<Figure size 432x288 with 1 Axes>"
      ]
     },
     "metadata": {
      "needs_background": "light"
     },
     "output_type": "display_data"
    }
   ],
   "source": [
    "latest_use['Score'].plot(kind = 'hist')\n",
    "plt.title('Score: Histogram')"
   ]
  },
  {
   "cell_type": "markdown",
   "metadata": {},
   "source": [
    "3. __Engagement Score__ typically lies between 0 to 140, furthur information can be obtained in bivariate analysis, later."
   ]
  },
  {
   "cell_type": "code",
   "execution_count": 564,
   "metadata": {},
   "outputs": [
    {
     "data": {
      "text/plain": [
       "Text(0.5, 1.0, 'Max Experience in years: Histogram')"
      ]
     },
     "execution_count": 564,
     "metadata": {},
     "output_type": "execute_result"
    },
    {
     "data": {
      "image/png": "[encoded data removed]",
      "text/plain": [
       "<Figure size 432x288 with 1 Axes>"
      ]
     },
     "metadata": {
      "needs_background": "light"
     },
     "output_type": "display_data"
    }
   ],
   "source": [
    "latest_use['EngagementScore'].plot(kind = 'hist')\n",
    "plt.title('Max Experience in years: Histogram')"
   ]
  },
  {
   "cell_type": "markdown",
   "metadata": {},
   "source": [
    "### For quanlitative variables in order: \n",
    "\n",
    "The graphs are self explainatory with key points mentioned.\n",
    "For quantitative variables we shall mainly plot top factors affecting the particular variable\n",
    "1. mx_Preferred_Campus\n",
    "2. DoNotCall\n",
    "3. DoNotEmail\n",
    "4. Source  \n",
    "5. SourceMedium \n",
    "6. SourceCampaign  \n",
    "7. ProspectStage  \n",
    "8. mx_Current_Interested_Program"
   ]
  },
  {
   "cell_type": "code",
   "execution_count": 558,
   "metadata": {},
   "outputs": [],
   "source": [
    "def plot_top_n(s, n=5):\n",
    "    '''\n",
    "    returns a plot of top n factors for univariate analysis\n",
    "    \n",
    "    parameters:\n",
    "    --------------\n",
    "    s: pd.Series\n",
    "    n: number of factors of the plot required\n",
    "    '''\n",
    "    counts = s.str.lower().str.capitalize().value_counts()\n",
    "    top_counts = counts[:n]\n",
    "    top_counts.plot(kind='bar', color = 'blue')\n",
    "    \n",
    "    return counts[:n]"
   ]
  },
  {
   "cell_type": "markdown",
   "metadata": {},
   "source": [
    "1. __Top 7 max prefered campus by registered candidates__"
   ]
  },
  {
   "cell_type": "code",
   "execution_count": 569,
   "metadata": {},
   "outputs": [
    {
     "data": {
      "text/plain": [
       "Text(0.5, 1.0, 'Top seven Campus candidates are interested')"
      ]
     },
     "execution_count": 569,
     "metadata": {},
     "output_type": "execute_result"
    },
    {
     "data": {
      "image/png": "[encoded data removed]",
      "text/plain": [
       "<Figure size 432x288 with 1 Axes>"
      ]
     },
     "metadata": {
      "needs_background": "light"
     },
     "output_type": "display_data"
    }
   ],
   "source": [
    "plot_top_n(latest_use['mx_Preferred_Campus'], 7)\n",
    "plt.title('Top seven Campus candidates are interested')"
   ]
  },
  {
   "cell_type": "markdown",
   "metadata": {},
   "source": [
    "#### 2. Distribution of candidates who have asked not to call"
   ]
  },
  {
   "cell_type": "code",
   "execution_count": 591,
   "metadata": {},
   "outputs": [
    {
     "data": {
      "text/plain": [
       "Text(0.5, 1.0, 'Do Not Call: Frequency')"
      ]
     },
     "execution_count": 591,
     "metadata": {},
     "output_type": "execute_result"
    },
    {
     "data": {
      "image/png": "[encoded data removed]",
      "text/plain": [
       "<Figure size 432x288 with 1 Axes>"
      ]
     },
     "metadata": {
      "needs_background": "light"
     },
     "output_type": "display_data"
    }
   ],
   "source": [
    "latest_use['DoNotCall'].value_counts().plot(kind = 'bar')\n",
    "plt.title('Do Not Call: Frequency')"
   ]
  },
  {
   "cell_type": "markdown",
   "metadata": {},
   "source": [
    "#### 3. Distribution of candidates who have asked not to Email "
   ]
  },
  {
   "cell_type": "code",
   "execution_count": 590,
   "metadata": {},
   "outputs": [
    {
     "data": {
      "text/plain": [
       "Text(0.5, 1.0, 'DoNotEmail: Frequency')"
      ]
     },
     "execution_count": 590,
     "metadata": {},
     "output_type": "execute_result"
    },
    {
     "data": {
      "image/png": "[encoded data removed]",
      "text/plain": [
       "<Figure size 432x288 with 1 Axes>"
      ]
     },
     "metadata": {
      "needs_background": "light"
     },
     "output_type": "display_data"
    }
   ],
   "source": [
    "latest_use['DoNotEmail'].value_counts().plot(kind = 'bar')\n",
    "plt.title('DoNotEmail: Frequency')"
   ]
  },
  {
   "cell_type": "markdown",
   "metadata": {},
   "source": [
    "#### 4. Sources of information for the candidates"
   ]
  },
  {
   "cell_type": "code",
   "execution_count": 567,
   "metadata": {},
   "outputs": [
    {
     "data": {
      "text/plain": [
       "Text(0.5, 1.0, 'Top seven Sources candidates got to know about Great Learning')"
      ]
     },
     "execution_count": 567,
     "metadata": {},
     "output_type": "execute_result"
    },
    {
     "data": {
      "image/png": "[encoded data removed]",
      "text/plain": [
       "<Figure size 432x288 with 1 Axes>"
      ]
     },
     "metadata": {
      "needs_background": "light"
     },
     "output_type": "display_data"
    }
   ],
   "source": [
    "plot_top_n(latest_use['Source'], 7)\n",
    "plt.title('Top seven Sources candidates got to know about Great Learning')"
   ]
  },
  {
   "cell_type": "markdown",
   "metadata": {},
   "source": [
    "#### 5. Top seven sourcesMedian for the candidates"
   ]
  },
  {
   "cell_type": "code",
   "execution_count": 579,
   "metadata": {},
   "outputs": [
    {
     "data": {
      "text/plain": [
       "Text(0.5, 1.0, 'Top seven Sources candidates got to know about Great Learning')"
      ]
     },
     "execution_count": 579,
     "metadata": {},
     "output_type": "execute_result"
    },
    {
     "data": {
      "image/png": "[encoded data removed]",
      "text/plain": [
       "<Figure size 432x288 with 1 Axes>"
      ]
     },
     "metadata": {
      "needs_background": "light"
     },
     "output_type": "display_data"
    }
   ],
   "source": [
    "plot_top_n(latest_use['SourceMedium'], 7)\n",
    "plt.title('Top seven sourcesMedian for the candidates')"
   ]
  },
  {
   "cell_type": "markdown",
   "metadata": {},
   "source": [
    "#### 6. Top seven Sources Campaigns"
   ]
  },
  {
   "cell_type": "code",
   "execution_count": 581,
   "metadata": {},
   "outputs": [
    {
     "data": {
      "text/plain": [
       "Text(0.5, 1.0, 'Top seven Sources Campaigns')"
      ]
     },
     "execution_count": 581,
     "metadata": {},
     "output_type": "execute_result"
    },
    {
     "data": {
      "image/png": "[encoded data removed]",
      "text/plain": [
       "<Figure size 432x288 with 1 Axes>"
      ]
     },
     "metadata": {
      "needs_background": "light"
     },
     "output_type": "display_data"
    }
   ],
   "source": [
    "plot_top_n(latest_use['SourceCampaign'], 7)\n",
    "plt.title('Top seven Sources Campaigns')"
   ]
  },
  {
   "cell_type": "markdown",
   "metadata": {},
   "source": [
    "#### 7. Various Prospect Stages of the candidate"
   ]
  },
  {
   "cell_type": "code",
   "execution_count": 583,
   "metadata": {},
   "outputs": [
    {
     "data": {
      "text/plain": [
       "Text(0.5, 1.0, 'Various Prospect Stages')"
      ]
     },
     "execution_count": 583,
     "metadata": {},
     "output_type": "execute_result"
    },
    {
     "data": {
      "image/png": "[encoded data removed]",
      "text/plain": [
       "<Figure size 432x288 with 1 Axes>"
      ]
     },
     "metadata": {
      "needs_background": "light"
     },
     "output_type": "display_data"
    }
   ],
   "source": [
    "plot_top_n(latest_use['ProspectStage'], 10)\n",
    "plt.title('Various Prospect Stages')"
   ]
  },
  {
   "cell_type": "markdown",
   "metadata": {},
   "source": [
    "#### 8. Top five programs candidates are interested in"
   ]
  },
  {
   "cell_type": "code",
   "execution_count": 585,
   "metadata": {},
   "outputs": [
    {
     "data": {
      "text/plain": [
       "Text(0.5, 1.0, 'Top Five programs candidates are interested in')"
      ]
     },
     "execution_count": 585,
     "metadata": {},
     "output_type": "execute_result"
    },
    {
     "data": {
      "image/png": "[encoded data removed]",
      "text/plain": [
       "<Figure size 432x288 with 1 Axes>"
      ]
     },
     "metadata": {
      "needs_background": "light"
     },
     "output_type": "display_data"
    }
   ],
   "source": [
    "plot_top_n(latest_use['mx_Current_Interested_Program'], 5)\n",
    "plt.title('Top Five programs candidates are interested in')"
   ]
  },
  {
   "cell_type": "markdown",
   "metadata": {},
   "source": [
    "## Merge the two DataFrames: latest, trails\n",
    "\n",
    "__Cons of merging__: Due to merging a lot of columns are duplicated, thus the size has increased.\n",
    "So, for analysis part we shall only take in consideration the merged DataFrame if some findings require data from both DataFrames, else for all other cases we shall use only the respective dataFrames"
   ]
  },
  {
   "cell_type": "code",
   "execution_count": 464,
   "metadata": {},
   "outputs": [],
   "source": [
    "latest_trail = pd.merge(latest_use, trail_use, how = 'inner', \n",
    "                        left_on = 'ProspectID', \n",
    "                        right_on = 'RelatedProspectId')"
   ]
  },
  {
   "cell_type": "markdown",
   "metadata": {},
   "source": [
    "### Exploring the merged DataFrame\n",
    "\n",
    "1. Drop related columns\n",
    "2. Removing duplicates\n",
    "3. find info, summary etc"
   ]
  },
  {
   "cell_type": "code",
   "execution_count": 523,
   "metadata": {},
   "outputs": [],
   "source": [
    "#removing duplicates\n",
    "\n",
    "latest_trail.drop_duplicates(inplace = True)"
   ]
  },
  {
   "cell_type": "code",
   "execution_count": 525,
   "metadata": {},
   "outputs": [
    {
     "name": "stdout",
     "output_type": "stream",
     "text": [
      "<class 'pandas.core.frame.DataFrame'>\n",
      "Int64Index: 6799 entries, 0 to 6855\n",
      "Data columns (total 20 columns):\n",
      "ProspectID                            6799 non-null object\n",
      "CreatedOn_x                           6799 non-null datetime64[ns]\n",
      "mx_Preferred_Campus                   6491 non-null object\n",
      "mx_Exp_In_Years                       6470 non-null float64\n",
      "DoNotCall                             6799 non-null int64\n",
      "DoNotEmail                            6799 non-null int64\n",
      "Source                                6407 non-null object\n",
      "SourceMedium                          6485 non-null object\n",
      "SourceCampaign                        5357 non-null object\n",
      "ProspectStage                         6799 non-null object\n",
      "Score                                 6792 non-null float64\n",
      "EngagementScore                       6792 non-null float64\n",
      "mx_Current_Interested_Program         6792 non-null object\n",
      "ActivityName                          6799 non-null object\n",
      "CreatedOn_y                           6799 non-null datetime64[ns]\n",
      "mx_Preferred_Campus_Post              6430 non-null object\n",
      "ProspectStage_Pre                     6260 non-null object\n",
      "ProspectStage_Post                    6778 non-null object\n",
      "mx_Current_Interested_Program_Pre     6228 non-null object\n",
      "mx_Current_Interested_Program_Post    6770 non-null object\n",
      "dtypes: datetime64[ns](2), float64(3), int64(2), object(13)\n",
      "memory usage: 1.1+ MB\n"
     ]
    }
   ],
   "source": [
    "latest_trail.info()"
   ]
  },
  {
   "cell_type": "code",
   "execution_count": 472,
   "metadata": {},
   "outputs": [],
   "source": [
    "# Dropping unnecessary columns\n",
    "\n",
    "latest_trail.drop('RelatedProspectId', axis = 1, inplace= True)"
   ]
  },
  {
   "cell_type": "code",
   "execution_count": 588,
   "metadata": {},
   "outputs": [
    {
     "name": "stderr",
     "output_type": "stream",
     "text": [
      "C:\\Users\\Anurima\\AppData\\Local\\Continuum\\anaconda3\\lib\\site-packages\\ipykernel_launcher.py:3: SettingWithCopyWarning: \n",
      "A value is trying to be set on a copy of a slice from a DataFrame.\n",
      "Try using .loc[row_indexer,col_indexer] = value instead\n",
      "\n",
      "See the caveats in the documentation: http://pandas.pydata.org/pandas-docs/stable/user_guide/indexing.html#returning-a-view-versus-a-copy\n",
      "  This is separate from the ipykernel package so we can avoid doing imports until\n"
     ]
    }
   ],
   "source": [
    "# changing the name of the source in a proper way\n",
    "\n",
    "latest_use['Source'] = latest_use['Source'].str.lower().str.capitalize()"
   ]
  },
  {
   "cell_type": "code",
   "execution_count": 475,
   "metadata": {},
   "outputs": [
    {
     "name": "stdout",
     "output_type": "stream",
     "text": [
      "<class 'pandas.core.frame.DataFrame'>\n",
      "Int64Index: 6856 entries, 0 to 6855\n",
      "Data columns (total 20 columns):\n",
      "ProspectID                            6856 non-null object\n",
      "CreatedOn_x                           6856 non-null datetime64[ns]\n",
      "mx_Preferred_Campus                   6545 non-null object\n",
      "mx_Exp_In_Years                       6527 non-null float64\n",
      "DoNotCall                             6856 non-null int64\n",
      "DoNotEmail                            6856 non-null int64\n",
      "Source                                6464 non-null object\n",
      "SourceMedium                          6541 non-null object\n",
      "SourceCampaign                        5408 non-null object\n",
      "ProspectStage                         6856 non-null object\n",
      "Score                                 6849 non-null float64\n",
      "EngagementScore                       6849 non-null float64\n",
      "mx_Current_Interested_Program         6849 non-null object\n",
      "ActivityName                          6856 non-null object\n",
      "CreatedOn_y                           6856 non-null datetime64[ns]\n",
      "mx_Preferred_Campus_Post              6484 non-null object\n",
      "ProspectStage_Pre                     6317 non-null object\n",
      "ProspectStage_Post                    6835 non-null object\n",
      "mx_Current_Interested_Program_Pre     6285 non-null object\n",
      "mx_Current_Interested_Program_Post    6827 non-null object\n",
      "dtypes: datetime64[ns](2), float64(3), int64(2), object(13)\n",
      "memory usage: 1.4+ MB\n"
     ]
    }
   ],
   "source": [
    "latest_trail.info()"
   ]
  },
  {
   "cell_type": "code",
   "execution_count": 491,
   "metadata": {},
   "outputs": [
    {
     "data": {
      "text/plain": [
       "array(['google', 'facebook', 'Facebook', 'Zopim Chat', 'email', nan,\n",
       "       'Main URL', 'Organic/Direct', 'website', 'Chat', 'glw',\n",
       "       'brochuremail', 'Email', 'AIM', 'Linkedin', 'quora', 'zirca',\n",
       "       'Brochuremail-bacp', 'sms', 'Outbound Phone call',\n",
       "       'Customer Referral', 'aim', 'naukri', 'Google', 'collegedunia',\n",
       "       'Great Lakes Website', 'Direct', 'bing', 'inshorts',\n",
       "       'freshersworld', 'linkedin', 'Organic Search', 'CdB',\n",
       "       'Inbound Phone call', 'Organic', 'demail', 'olp', 'Direct Traffic',\n",
       "       'timesjob', 'youtube', 'website-contactus', 'website-popup',\n",
       "       'zirca-cloud', 'Jobsforher', 'taboola', 'avm'], dtype=object)"
      ]
     },
     "execution_count": 491,
     "metadata": {},
     "output_type": "execute_result"
    }
   ],
   "source": [
    "latest_use['Source'].unique()"
   ]
  },
  {
   "cell_type": "markdown",
   "metadata": {},
   "source": [
    "### non na values in each group"
   ]
  },
  {
   "cell_type": "code",
   "execution_count": 497,
   "metadata": {},
   "outputs": [
    {
     "data": {
      "text/plain": [
       "<matplotlib.axes._subplots.AxesSubplot at 0x21c0fc9ca48>"
      ]
     },
     "execution_count": 497,
     "metadata": {},
     "output_type": "execute_result"
    },
    {
     "data": {
      "image/png": "[encoded data removed]",
      "text/plain": [
       "<Figure size 432x288 with 1 Axes>"
      ]
     },
     "metadata": {
      "needs_background": "light"
     },
     "output_type": "display_data"
    }
   ],
   "source": [
    "sns.boxplot(x = 'Source', y= 'Score', data = latest_use)"
   ]
  },
  {
   "cell_type": "code",
   "execution_count": 540,
   "metadata": {},
   "outputs": [
    {
     "data": {
      "text/plain": [
       "Text(0.5, 1.0, 'Score Vs. Engagement Score')"
      ]
     },
     "execution_count": 540,
     "metadata": {},
     "output_type": "execute_result"
    },
    {
     "data": {
      "image/png": "[encoded data removed]",
      "text/plain": [
       "<Figure size 432x288 with 1 Axes>"
      ]
     },
     "metadata": {
      "needs_background": "light"
     },
     "output_type": "display_data"
    }
   ],
   "source": [
    "plt.scatter(x= latest['Score'], y=latest['EngagementScore'])\n",
    "plt.xlabel('Score')\n",
    "plt.ylabel('Engagement Score')\n",
    "plt.title('Score Vs. Engagement Score')"
   ]
  },
  {
   "cell_type": "code",
   "execution_count": 476,
   "metadata": {},
   "outputs": [
    {
     "data": {
      "text/plain": [
       "0.0     1652\n",
       "10.0     995\n",
       "6.5      888\n",
       "1.5      763\n",
       "3.5      546\n",
       "15.0     487\n",
       "13.5     449\n",
       "4.0      425\n",
       "2.5      318\n",
       "1.0        2\n",
       "7.0        2\n",
       "Name: mx_Exp_In_Years, dtype: int64"
      ]
     },
     "execution_count": 476,
     "metadata": {},
     "output_type": "execute_result"
    }
   ],
   "source": [
    "latest_trail['mx_Exp_In_Years'].value_counts()"
   ]
  },
  {
   "cell_type": "code",
   "execution_count": 477,
   "metadata": {},
   "outputs": [
    {
     "data": {
      "text/plain": [
       "Lead                 2198\n",
       "Lead Called          2007\n",
       "Applicant             848\n",
       "Rejected              453\n",
       "Pending Applicant     368\n",
       "Enrolled              245\n",
       "Offered               121\n",
       "Selected               34\n",
       "Offer Expired          33\n",
       "Offer Accepted          4\n",
       "Graduated               2\n",
       "Invalid                 2\n",
       "Junk Lead               2\n",
       "Name: ProspectStage_Pre, dtype: int64"
      ]
     },
     "execution_count": 477,
     "metadata": {},
     "output_type": "execute_result"
    }
   ],
   "source": [
    "latest_trail['ProspectStage_Pre'].value_counts()"
   ]
  },
  {
   "cell_type": "markdown",
   "metadata": {},
   "source": [
    "## Bivariate Analysis on latest focussing on Prospect Stage = 'Enrollment'"
   ]
  },
  {
   "cell_type": "markdown",
   "metadata": {},
   "source": [
    "Plottinga and other univariate and bivariate analysis"
   ]
  },
  {
   "cell_type": "code",
   "execution_count": 485,
   "metadata": {},
   "outputs": [
    {
     "data": {
      "text/plain": [
       "<matplotlib.axes._subplots.AxesSubplot at 0x21c0f10b0c8>"
      ]
     },
     "execution_count": 485,
     "metadata": {},
     "output_type": "execute_result"
    },
    {
     "data": {
      "image/png": "[encoded data removed]",
      "text/plain": [
       "<Figure size 1080x504 with 1 Axes>"
      ]
     },
     "metadata": {
      "needs_background": "light"
     },
     "output_type": "display_data"
    }
   ],
   "source": [
    "fig, ax = plt.subplots(figsize = (15,7))\n",
    "sns.boxplot(x= 'ProspectStage', y = 'mx_Exp_In_Years', data = latest_use, ax = ax)"
   ]
  },
  {
   "cell_type": "code",
   "execution_count": 507,
   "metadata": {},
   "outputs": [],
   "source": [
    "grp_sizes = latest_use[['Source','Score']].dropna().groupby(['Source']).size()\n",
    "\n",
    "grp_sizes\n",
    "\n",
    "top_grps = grp_sizes.sort_values(ascending = False)[:5].index\n",
    "\n",
    "top_grps\n",
    "\n",
    "top_grps_dfs = latest_use.loc[np.isin(latest_use['Source'], top_grps)]"
   ]
  },
  {
   "cell_type": "code",
   "execution_count": 520,
   "metadata": {},
   "outputs": [
    {
     "data": {
      "text/plain": [
       "<matplotlib.axes._subplots.AxesSubplot at 0x21c23f2f048>"
      ]
     },
     "execution_count": 520,
     "metadata": {},
     "output_type": "execute_result"
    },
    {
     "data": {
      "image/png": "[encoded data removed]",
      "text/plain": [
       "<Figure size 864x576 with 1 Axes>"
      ]
     },
     "metadata": {
      "needs_background": "light"
     },
     "output_type": "display_data"
    }
   ],
   "source": [
    "fig, ax = plt.subplots(figsize = (12,8))\n",
    "sns.boxplot(data = top_grps_dfs, x= 'Source', y = 'Score', ax = ax, showfliers = False)"
   ]
  }
 ],
 "metadata": {
  "kernelspec": {
   "display_name": "Python 3",
   "language": "python",
   "name": "python3"
  },
  "language_info": {
   "codemirror_mode": {
    "name": "ipython",
    "version": 3
   },
   "file_extension": ".py",
   "mimetype": "text/x-python",
   "name": "python",
   "nbconvert_exporter": "python",
   "pygments_lexer": "ipython3",
   "version": "3.7.4"
  }
 },
 "nbformat": 4,
 "nbformat_minor": 2
}
