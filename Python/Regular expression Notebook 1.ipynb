{
 "cells": [
  {
   "cell_type": "markdown",
   "metadata": {},
   "source": [
    "# Why use regular expression\n",
    "\n",
    "Regular expression is a defined text string for describing a search pattern.\n",
    "\n",
    "1. Find a word in string\n",
    "2. Generate an iterator\n",
    "3. Match one of any of several letters\n",
    "4. Match series of range of characters\n",
    "5. Replace String \n",
    "6. Match a Single Characters"
   ]
  },
  {
   "cell_type": "code",
   "execution_count": 134,
   "metadata": {},
   "outputs": [],
   "source": [
    "import re\n",
    "import pandas as pd"
   ]
  },
  {
   "cell_type": "markdown",
   "metadata": {},
   "source": [
    "## 1. Finding  a word or digits in a string"
   ]
  },
  {
   "cell_type": "code",
   "execution_count": 36,
   "metadata": {},
   "outputs": [
    {
     "data": {
      "text/plain": [
       "['555', '34', '27', '25']"
      ]
     },
     "execution_count": 36,
     "metadata": {},
     "output_type": "execute_result"
    }
   ],
   "source": [
    "NameAge = '''Janice is 555, Joey is 34, Abhi is 27, Anu is 25'''\n",
    "# r'\\d{1,3}': this find out 1,2,3 digit numbers\n",
    "\n",
    "ages = re.findall(r'\\d{1,3}', NameAge)\n",
    "ages"
   ]
  },
  {
   "cell_type": "code",
   "execution_count": 37,
   "metadata": {},
   "outputs": [
    {
     "data": {
      "text/plain": [
       "['55', '34', '27', '25']"
      ]
     },
     "execution_count": 37,
     "metadata": {},
     "output_type": "execute_result"
    }
   ],
   "source": [
    "# r'\\d{2}' will extract 2 digits together, in case there are more than 2 digits together \n",
    "# in the string \n",
    "# so if 4 digits are there, it extracts first two aand then last two, \n",
    "# if 3 digits are there it extracts first two only\n",
    "\n",
    "digit = re.findall(r'\\d{2}', NameAge)\n",
    "digit"
   ]
  },
  {
   "cell_type": "code",
   "execution_count": 4,
   "metadata": {},
   "outputs": [
    {
     "data": {
      "text/plain": [
       "['Janice', 'Joey', 'Abhi', 'Anu']"
      ]
     },
     "execution_count": 4,
     "metadata": {},
     "output_type": "execute_result"
    }
   ],
   "source": [
    "# Names: starting with capital letter, the followed by small letters\n",
    "names = re.findall(r'[A-Z][a-z]*', NameAge)\n",
    "names"
   ]
  },
  {
   "cell_type": "code",
   "execution_count": 5,
   "metadata": {},
   "outputs": [
    {
     "data": {
      "text/plain": [
       "{'Janice': '22', 'Joey': '34', 'Abhi': '27', 'Anu': '25'}"
      ]
     },
     "execution_count": 5,
     "metadata": {},
     "output_type": "execute_result"
    }
   ],
   "source": [
    "agedict = {name: age for name, age in zip(names, ages)}\n",
    "agedict"
   ]
  },
  {
   "cell_type": "markdown",
   "metadata": {},
   "source": [
    "### Can you find only single digit from a string?\n",
    "\n",
    "Seems like that's easy"
   ]
  },
  {
   "cell_type": "code",
   "execution_count": 151,
   "metadata": {},
   "outputs": [
    {
     "data": {
      "text/plain": [
       "['1', '2', '5', '6', '8']"
      ]
     },
     "execution_count": 151,
     "metadata": {},
     "output_type": "execute_result"
    }
   ],
   "source": [
    "digit = ''' this is a sting 1 containing 2 \n",
    "random 5 single 6 digit   8  numbers'''\n",
    "\n",
    "re.findall(r'\\d', digit)"
   ]
  },
  {
   "cell_type": "markdown",
   "metadata": {},
   "source": [
    "### Lets search for a string using regex"
   ]
  },
  {
   "cell_type": "code",
   "execution_count": 7,
   "metadata": {},
   "outputs": [
    {
     "data": {
      "text/plain": [
       "<re.Match object; span=(9, 12), match='you'>"
      ]
     },
     "execution_count": 7,
     "metadata": {},
     "output_type": "execute_result"
    }
   ],
   "source": [
    "# the output shows that its present.\n",
    "\n",
    "search_string = ''' How are you?\n",
    "Have you had your dinner?\n",
    "Do you still remember me?'''\n",
    "\n",
    "re.search('you', search_string)"
   ]
  },
  {
   "cell_type": "code",
   "execution_count": 8,
   "metadata": {},
   "outputs": [
    {
     "data": {
      "text/plain": [
       "[(9, 12), (19, 22), (27, 30), (43, 46)]"
      ]
     },
     "execution_count": 8,
     "metadata": {},
     "output_type": "execute_result"
    }
   ],
   "source": [
    "# give the span of the location of the searched strings\n",
    "\n",
    "[a.span() for a in re.finditer('you', search_string)]"
   ]
  },
  {
   "cell_type": "markdown",
   "metadata": {},
   "source": [
    "### To find out similar type of words"
   ]
  },
  {
   "cell_type": "code",
   "execution_count": 15,
   "metadata": {},
   "outputs": [
    {
     "data": {
      "text/plain": [
       "['cat', 'mat', 'hat', 'fat', 'bat', 'pat']"
      ]
     },
     "execution_count": 15,
     "metadata": {},
     "output_type": "execute_result"
    }
   ],
   "source": [
    "string = '''cat mat hat fat sat bat rat pat'''\n",
    "\n",
    "# if you want those that have the first lrtter starting from b-p\n",
    "re.findall('[b-p]at', string)"
   ]
  },
  {
   "cell_type": "code",
   "execution_count": 10,
   "metadata": {},
   "outputs": [
    {
     "data": {
      "text/plain": [
       "['cat', 'mat', 'hat', 'fat', 'sat', 'bat', 'rat', 'pat']"
      ]
     },
     "execution_count": 10,
     "metadata": {},
     "output_type": "execute_result"
    }
   ],
   "source": [
    "# if you want those that have any starting alphabet\n",
    "\n",
    "re.findall('[a-z]at', string)"
   ]
  },
  {
   "cell_type": "code",
   "execution_count": 11,
   "metadata": {},
   "outputs": [
    {
     "data": {
      "text/plain": [
       "['mat', 'hat', 'fat', 'sat', 'rat', 'pat']"
      ]
     },
     "execution_count": 11,
     "metadata": {},
     "output_type": "execute_result"
    }
   ],
   "source": [
    "# if you want those not having some particular letters in the begining\n",
    "\n",
    "re.findall('[^a-d]at', string)"
   ]
  },
  {
   "cell_type": "markdown",
   "metadata": {},
   "source": [
    "### Replacing strings using regex\n",
    "\n",
    "This can be done using re.sub() i.e. substitute\n",
    "\n",
    "__Syntax__: re.sub('new string pattern', 'old string pattern', string)"
   ]
  },
  {
   "cell_type": "code",
   "execution_count": 44,
   "metadata": {},
   "outputs": [
    {
     "data": {
      "text/plain": [
       "'Panice is 555, Poey is 34, Abhi is 27, Anu is 25'"
      ]
     },
     "execution_count": 44,
     "metadata": {},
     "output_type": "execute_result"
    }
   ],
   "source": [
    "# to substitute a string with another string use re.sub()\n",
    "\n",
    "re.sub('J','P', NameAge)"
   ]
  },
  {
   "cell_type": "code",
   "execution_count": 13,
   "metadata": {},
   "outputs": [],
   "source": [
    "# the substitution can also be done \n",
    "# by saving the string to be replaced in another string using compile\n",
    "\n",
    "regex = re.compile('[a-c]at')\n",
    "string = regex.sub('vanish', string)"
   ]
  },
  {
   "cell_type": "code",
   "execution_count": 14,
   "metadata": {},
   "outputs": [
    {
     "data": {
      "text/plain": [
       "'vanish mat hat fat sat vanish rat pat'"
      ]
     },
     "execution_count": 14,
     "metadata": {},
     "output_type": "execute_result"
    }
   ],
   "source": [
    "string"
   ]
  },
  {
   "cell_type": "markdown",
   "metadata": {},
   "source": [
    "#### Suppose we have a multilined string and we want to convert it into a single line string \n",
    "\n",
    "- \\+ : one or more \n",
    "- \\* : zero or more\n",
    "- ? : zero or one"
   ]
  },
  {
   "cell_type": "code",
   "execution_count": 128,
   "metadata": {},
   "outputs": [],
   "source": [
    "randstr = '''\n",
    "let the indian flag\n",
    "fly high in the sky\n",
    "all the time'''\n",
    "\n",
    "randstr = re.sub('\\n', ' ', randstr)"
   ]
  },
  {
   "cell_type": "code",
   "execution_count": 129,
   "metadata": {},
   "outputs": [
    {
     "data": {
      "text/plain": [
       "' let the indian flag fly high in the sky all the time'"
      ]
     },
     "execution_count": 129,
     "metadata": {},
     "output_type": "execute_result"
    }
   ],
   "source": [
    "randstr"
   ]
  },
  {
   "cell_type": "code",
   "execution_count": 153,
   "metadata": {},
   "outputs": [],
   "source": [
    "randstr = '''1234 is a friend of 287 but not close to 234, \n",
    "and well this is 100% gibberish'''"
   ]
  },
  {
   "cell_type": "markdown",
   "metadata": {},
   "source": [
    "I want to find out the total number of digits present in the string, this is achieved using '\\d'"
   ]
  },
  {
   "cell_type": "code",
   "execution_count": 160,
   "metadata": {},
   "outputs": [
    {
     "name": "stdout",
     "output_type": "stream",
     "text": [
      "Matches: 13\n"
     ]
    }
   ],
   "source": [
    "print(\"Matches:\", len(re.findall('\\d', randstr)))"
   ]
  },
  {
   "cell_type": "markdown",
   "metadata": {},
   "source": [
    "If I want to findout everything except digits, we use '\\D'"
   ]
  },
  {
   "cell_type": "code",
   "execution_count": 175,
   "metadata": {},
   "outputs": [
    {
     "name": "stdout",
     "output_type": "stream",
     "text": [
      "Matches: 65\n"
     ]
    }
   ],
   "source": [
    "print(\"Matches:\", len(re.findall('\\D', randstr)))"
   ]
  },
  {
   "cell_type": "markdown",
   "metadata": {},
   "source": [
    "I want to find out any number present in the string"
   ]
  },
  {
   "cell_type": "code",
   "execution_count": 150,
   "metadata": {},
   "outputs": [
    {
     "data": {
      "text/plain": [
       "['1234', '287', '234', '100']"
      ]
     },
     "execution_count": 150,
     "metadata": {},
     "output_type": "execute_result"
    }
   ],
   "source": [
    "re.findall('[0-9]+', randstr)"
   ]
  },
  {
   "cell_type": "code",
   "execution_count": 174,
   "metadata": {},
   "outputs": [
    {
     "data": {
      "text/plain": [
       "['12345', '123456', '1234567']"
      ]
     },
     "execution_count": 174,
     "metadata": {},
     "output_type": "execute_result"
    }
   ],
   "source": [
    "# to find out numbers ranging from 5 digit to 7 digit\n",
    "num = \"1 12 123 1234 12345 123456 1234567\"\n",
    "\n",
    "re.findall('\\d{5,7}', num)"
   ]
  },
  {
   "cell_type": "markdown",
   "metadata": {},
   "source": [
    "### Numbers and string combinations using regex in python"
   ]
  },
  {
   "cell_type": "markdown",
   "metadata": {},
   "source": [
    "#### Expressions \\w and \\W stands for:\n",
    "\n",
    "\\w : \\[a-zA-Z0-9_\\] and \\W : \\[^a-zA-Z0-9_\\] "
   ]
  },
  {
   "cell_type": "markdown",
   "metadata": {},
   "source": [
    "Suppose, we wish to check a phone number is valid or not"
   ]
  },
  {
   "cell_type": "code",
   "execution_count": 187,
   "metadata": {},
   "outputs": [
    {
     "name": "stdout",
     "output_type": "stream",
     "text": [
      "Is a valid phone number\n"
     ]
    }
   ],
   "source": [
    "# this is for indian landline number\n",
    "phn = '031-2345675'\n",
    "\n",
    "if re.search('\\d{3}-\\d{7}', phn):\n",
    "    print('Is a valid phone number')\n",
    "    "
   ]
  },
  {
   "cell_type": "code",
   "execution_count": 313,
   "metadata": {},
   "outputs": [
    {
     "name": "stdout",
     "output_type": "stream",
     "text": [
      "A valid indian phone number\n"
     ]
    }
   ],
   "source": [
    "# Indian mobile phone number with international code\n",
    "phn2 = '+91-4589765984'\n",
    "\n",
    "if re.search(r'\\+\\d{2}-\\d{10}', phn2):\n",
    "    print('A valid indian phone number')"
   ]
  },
  {
   "cell_type": "markdown",
   "metadata": {},
   "source": [
    "Suppose if I have a string and I know the first two words are the names of the person. How do I extract?"
   ]
  },
  {
   "cell_type": "code",
   "execution_count": 212,
   "metadata": {},
   "outputs": [],
   "source": [
    "string = pd.Series(['Amit Shah is doing nothing this days', \n",
    "                   'Narendra Modi has podcasted a man ki baat today',\n",
    "                   'Saurav Trivedi was a nice teacher',\n",
    "                   'Ravindra Jadega was a good player'])"
   ]
  },
  {
   "cell_type": "code",
   "execution_count": 214,
   "metadata": {},
   "outputs": [
    {
     "data": {
      "text/plain": [
       "[['Amit Shah'], ['Narendra Modi'], ['Saurav Trivedi'], ['Ravindra Jadega']]"
      ]
     },
     "execution_count": 214,
     "metadata": {},
     "output_type": "execute_result"
    }
   ],
   "source": [
    "# This is giving the output as list wich I do not want\n",
    "# TODO: find out the correct way\n",
    "\n",
    "names = [re.findall('[A-Z]\\w{2,20}\\s\\w{2,20}', s) for s in string]\n",
    "names"
   ]
  },
  {
   "cell_type": "markdown",
   "metadata": {},
   "source": [
    "Now, what if i want to find out the emails that are correct. "
   ]
  },
  {
   "cell_type": "code",
   "execution_count": 215,
   "metadata": {},
   "outputs": [],
   "source": [
    "email = pd.Series(['anurima@gmail.com', \n",
    "                   'abhi8893@gmail.com', \n",
    "                   'bapi@gmail.com',\n",
    "                   'abhi@mec.com',\n",
    "                   'darpa@isine.ac.in',\n",
    "                   'wrong@.in'])"
   ]
  },
  {
   "cell_type": "code",
   "execution_count": 236,
   "metadata": {},
   "outputs": [
    {
     "data": {
      "text/plain": [
       "[['anurima@gmail.com'],\n",
       " ['abhi8893@gmail.com'],\n",
       " ['bapi@gmail.com'],\n",
       " ['abhi@mec.com'],\n",
       " ['darpa@isine.ac.in'],\n",
       " []]"
      ]
     },
     "execution_count": 236,
     "metadata": {},
     "output_type": "execute_result"
    }
   ],
   "source": [
    "#Improve this\n",
    "\n",
    "[re.findall('\\w{1,20}@[\\w]{1,20}.[\\w.]{1,20}', each) for each in email]"
   ]
  },
  {
   "cell_type": "markdown",
   "metadata": {},
   "source": [
    "#### Web scraping"
   ]
  },
  {
   "cell_type": "markdown",
   "metadata": {},
   "source": [
    "r' ' : keep the string as it is"
   ]
  },
  {
   "cell_type": "code",
   "execution_count": 278,
   "metadata": {},
   "outputs": [
    {
     "name": "stdout",
     "output_type": "stream",
     "text": [
      "12\\23\\2343\n"
     ]
    }
   ],
   "source": [
    "print(re.findall(r'\\d{2}\\\\\\d{2}\\\\\\d{4}', r'12\\23\\2343')[0])"
   ]
  },
  {
   "cell_type": "code",
   "execution_count": 237,
   "metadata": {},
   "outputs": [],
   "source": [
    "import urllib.request\n",
    "from re import findall"
   ]
  },
  {
   "cell_type": "code",
   "execution_count": 279,
   "metadata": {},
   "outputs": [],
   "source": [
    "url = 'https://www.summet.com/dmsi/html/codesamples/addresses.html'\n",
    "\n",
    "response = urllib.request.urlopen(url)\n",
    "html = response.read()\n",
    "htmlstr = html.decode()\n",
    "phone = findall(r'\\(\\d{3}\\) \\d{3}-\\d{4}', htmlstr)"
   ]
  },
  {
   "cell_type": "code",
   "execution_count": 301,
   "metadata": {},
   "outputs": [],
   "source": [
    "a = '''Cecilia Chapman\n",
    "711-2880 Nulla St.\n",
    "Mankato Mississippi 96522\n",
    "(257) 563-7401\n",
    "\n",
    "Iris Watson\n",
    "P.O. Box 283 8562 Fusce Rd.\n",
    "Frederick Nebraska 20620\n",
    "(372) 587-2335\n",
    "\n",
    "Celeste Slater\n",
    "606-3727 Ullamcorper. Street\n",
    "Roseville NH 11523\n",
    "(786) 713-8616\n",
    "\n",
    "Theodore Lowe\n",
    "Ap #867-859 Sit Rd.\n",
    "Azusa New York 39531\n",
    "(793) 151-6230\n",
    "\n",
    "Calista Wise\n",
    "7292 Dictum Av.\n",
    "San Antonio MI 47096\n",
    "(492) 709-6392\n",
    "\n",
    "Kyla Olsen\n",
    "Ap #651-8679 Sodales Av.\n",
    "Tamuning PA 10855\n",
    "(654) 393-5734'''"
   ]
  },
  {
   "cell_type": "code",
   "execution_count": 310,
   "metadata": {},
   "outputs": [
    {
     "data": {
      "text/plain": [
       "100"
      ]
     },
     "execution_count": 310,
     "metadata": {},
     "output_type": "execute_result"
    }
   ],
   "source": [
    "name = findall(r'>[A-Z]\\w{1,40}\\s[A-Z]\\w{1,40}<', htmlstr)\n",
    "len(name)"
   ]
  },
  {
   "cell_type": "code",
   "execution_count": 319,
   "metadata": {},
   "outputs": [
    {
     "data": {
      "text/plain": [
       "'>Cecilia Chapman<'"
      ]
     },
     "execution_count": 319,
     "metadata": {},
     "output_type": "execute_result"
    }
   ],
   "source": [
    "name_phn_list = list(zip(name, phone))\n",
    "name_phn_list"
   ]
  },
  {
   "cell_type": "code",
   "execution_count": 323,
   "metadata": {},
   "outputs": [],
   "source": [
    "name_phone_dict = {i[0] : i[1] for i in name_phn_list}"
   ]
  },
  {
   "cell_type": "code",
   "execution_count": 335,
   "metadata": {},
   "outputs": [
    {
     "data": {
      "text/plain": [
       "dict_keys(['>Cecilia Chapman<', '>Iris Watson<', '>Celeste Slater<', '>Theodore Lowe<', '>Calista Wise<', '>Kyla Olsen<', '>Forrest Ray<', '>Hiroko Potter<', '>Nyssa Vazquez<', '>Lawrence Moreno<', '>Ina Moran<', '>Aaron Hawkins<', '>Hedy Greene<', '>Melvin Porter<', '>Keefe Sellers<', '>Joan Romero<', '>Davis Patrick<', '>Leilani Boyer<', '>Colby Bernard<', '>Bryar Pitts<', '>Rahim Henderson<', '>Noelle Adams<', '>Lillith Daniel<', '>Adria Russell<', '>Hilda Haynes<', '>Sheila Mcintosh<', '>Rebecca Chambers<', '>Christian Emerson<', '>Nevada Ware<', '>Margaret Joseph<', '>Edward Nieves<', '>Imani Talley<', '>Bertha Riggs<', '>Wallace Ross<', '>Chester Bennett<', '>Castor Richardson<', '>Sonya Jordan<', '>Harrison Mcguire<', '>Malcolm Long<', '>Raymond Levy<', '>Hedley Ingram<', '>David Mathews<', '>Xyla Cash<', '>Madeline Gregory<', '>Griffith Daniels<', '>Anne Beasley<', '>Chaney Bennett<', '>Daniel Bernard<', '>Willow Hunt<', '>Judith Floyd<', '>Seth Farley<', '>Zephania Sanders<', '>Calista Merritt<', '>Craig Williams<', '>Lee Preston<', '>Katelyn Cooper<', '>Lacy Eaton<', '>Driscoll Leach<', '>Merritt Watson<', '>Nehru Holmes<', '>Quamar Rivera<', '>Hiram Mullins<', '>Kim Fletcher<', '>Rigel Koch<', '>Jeanette Sharpe<', '>Dahlia Lee<', '>Howard Hayden<', '>Hyatt Kramer<', '>Sonya Ray<', '>Cara Whitehead<', '>Blythe Carroll<', '>Dale Griffin<', '>McKenzie Hernandez<', '>Haviva Holcomb<', '>Ezra Duffy<', '>Eleanor Jennings<', '>Remedios Hester<', '>Jasper Carney<', '>Vielka Nielsen<', '>Wilma Pace<', '>Palmer Gay<', '>Lyle Sutton<', '>Ina Burt<', '>Cleo Best<', '>Hu Park<', '>Liberty Walton<', '>Aaron Trujillo<', '>Elmo Lopez<', '>Emerson Espinoza<', '>Daniel Malone<', '>Dante Bennett<', '>Sade Higgins<', '>Zorita Anderson<', '>Jordan Calderon<', '>Ivor Delgado<', '>Pascale Patton<', '>Nasim Strong<', '>Keaton Underwood<', '>Keegan Blair<', '>Tamara Howe<'])"
      ]
     },
     "execution_count": 335,
     "metadata": {},
     "output_type": "execute_result"
    }
   ],
   "source": [
    "for i in name_phone_dict.keys():\n",
    "    i.replace('>','') and i.replace('<','')\n",
    "\n",
    "name_phone_dict.keys()"
   ]
  },
  {
   "cell_type": "code",
   "execution_count": 340,
   "metadata": {},
   "outputs": [
    {
     "ename": "SyntaxError",
     "evalue": "can't assign to function call (<ipython-input-340-5df940a7e27a>, line 1)",
     "output_type": "error",
     "traceback": [
      "\u001b[1;36m  File \u001b[1;32m\"<ipython-input-340-5df940a7e27a>\"\u001b[1;36m, line \u001b[1;32m1\u001b[0m\n\u001b[1;33m    name_phone_dict.keys() = [i.replace('>', '') for i in name_phone_dict.keys()]\u001b[0m\n\u001b[1;37m                                                                                 ^\u001b[0m\n\u001b[1;31mSyntaxError\u001b[0m\u001b[1;31m:\u001b[0m can't assign to function call\n"
     ]
    }
   ],
   "source": [
    "[i.replace('>', '') for i in name_phone_dict.keys()]"
   ]
  },
  {
   "cell_type": "code",
   "execution_count": 292,
   "metadata": {},
   "outputs": [
    {
     "name": "stdout",
     "output_type": "stream",
     "text": [
      "(257) 563-7401\n",
      "(372) 587-2335\n",
      "(786) 713-8616\n",
      "(793) 151-6230\n",
      "(492) 709-6392\n",
      "(654) 393-5734\n",
      "(404) 960-3807\n",
      "(314) 244-6306\n",
      "(947) 278-5929\n",
      "(684) 579-1879\n",
      "(389) 737-2852\n",
      "(660) 663-4518\n",
      "(608) 265-2215\n",
      "(959) 119-8364\n",
      "(468) 353-2641\n",
      "(248) 675-4007\n",
      "(939) 353-1107\n",
      "(570) 873-7090\n",
      "(302) 259-2375\n",
      "(717) 450-4729\n",
      "(453) 391-4650\n",
      "(559) 104-5475\n",
      "(387) 142-9434\n",
      "(516) 745-4496\n",
      "(326) 677-3419\n",
      "(746) 679-2470\n",
      "(455) 430-0989\n",
      "(490) 936-4694\n",
      "(985) 834-8285\n",
      "(662) 661-1446\n",
      "(802) 668-8240\n",
      "(477) 768-9247\n",
      "(791) 239-9057\n",
      "(832) 109-0213\n",
      "(837) 196-3274\n",
      "(268) 442-2428\n",
      "(850) 676-5117\n",
      "(861) 546-5032\n",
      "(176) 805-4108\n",
      "(715) 912-6931\n",
      "(993) 554-0563\n",
      "(357) 616-5411\n",
      "(121) 347-0086\n",
      "(304) 506-6314\n",
      "(425) 288-2332\n",
      "(145) 987-4962\n",
      "(187) 582-9707\n",
      "(750) 558-3965\n",
      "(492) 467-3131\n",
      "(774) 914-2510\n",
      "(888) 106-8550\n",
      "(539) 567-3573\n",
      "(693) 337-2849\n",
      "(545) 604-9386\n",
      "(221) 156-5026\n",
      "(414) 876-0865\n",
      "(932) 726-8645\n",
      "(726) 710-9826\n",
      "(622) 594-1662\n",
      "(948) 600-8503\n",
      "(605) 900-7508\n",
      "(716) 977-5775\n",
      "(368) 239-8275\n",
      "(725) 342-0650\n",
      "(711) 993-5187\n",
      "(882) 399-5084\n",
      "(287) 755-9948\n",
      "(659) 551-3389\n",
      "(275) 730-6868\n",
      "(725) 757-4047\n",
      "(314) 882-1496\n",
      "(639) 360-7590\n",
      "(168) 222-1592\n",
      "(896) 303-1164\n",
      "(203) 982-6130\n",
      "(906) 217-1470\n",
      "(614) 514-1269\n",
      "(763) 409-5446\n",
      "(836) 292-5324\n",
      "(926) 709-3295\n",
      "(963) 356-9268\n",
      "(736) 522-8584\n",
      "(410) 483-0352\n",
      "(252) 204-1434\n",
      "(874) 886-4174\n",
      "(581) 379-7573\n",
      "(983) 632-8597\n",
      "(295) 983-3476\n",
      "(873) 392-8802\n",
      "(360) 669-3923\n",
      "(840) 987-9449\n",
      "(422) 517-6053\n",
      "(126) 940-2753\n",
      "(427) 930-5255\n",
      "(689) 721-5145\n",
      "(676) 334-2174\n",
      "(437) 994-5270\n",
      "(564) 908-6970\n",
      "(577) 333-6244\n",
      "(655) 840-6139\n"
     ]
    }
   ],
   "source": [
    "for item in phone:\n",
    "    print(item)"
   ]
  },
  {
   "cell_type": "markdown",
   "metadata": {},
   "source": []
  }
 ],
 "metadata": {
  "kernelspec": {
   "display_name": "Python 3",
   "language": "python",
   "name": "python3"
  },
  "language_info": {
   "codemirror_mode": {
    "name": "ipython",
    "version": 3
   },
   "file_extension": ".py",
   "mimetype": "text/x-python",
   "name": "python",
   "nbconvert_exporter": "python",
   "pygments_lexer": "ipython3",
   "version": "3.7.4"
  }
 },
 "nbformat": 4,
 "nbformat_minor": 2
}
