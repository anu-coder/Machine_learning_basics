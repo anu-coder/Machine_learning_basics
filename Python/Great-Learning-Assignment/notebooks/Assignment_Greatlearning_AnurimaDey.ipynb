{
 "cells": [
  {
   "cell_type": "markdown",
   "metadata": {},
   "source": [
    "# Assignment: GreatLearning\n",
    "## Submitted by: Anurima Dey\n",
    "### Dated: 23 Oct 2020"
   ]
  },
  {
   "cell_type": "code",
   "execution_count": 593,
   "metadata": {},
   "outputs": [],
   "source": [
    "%matplotlib inline\n",
    "\n",
    "import pandas as pd \n",
    "import matplotlib.pyplot as plt\n",
    "import numpy as np\n",
    "import seaborn as sns"
   ]
  },
  {
   "cell_type": "code",
   "execution_count": 594,
   "metadata": {},
   "outputs": [],
   "source": [
    "# To make prettier and bigger graphs\n",
    "plt.style.use('ggplot')\n",
    "plt.rcParams['figure.figsize'] = (15, 5)\n",
    "plt.rcParams['font.family'] = 'sans-serif'"
   ]
  },
  {
   "cell_type": "code",
   "execution_count": 595,
   "metadata": {},
   "outputs": [
    {
     "data": {
      "text/html": [
       "<div>\n",
       "<style scoped>\n",
       "    .dataframe tbody tr th:only-of-type {\n",
       "        vertical-align: middle;\n",
       "    }\n",
       "\n",
       "    .dataframe tbody tr th {\n",
       "        vertical-align: top;\n",
       "    }\n",
       "\n",
       "    .dataframe thead th {\n",
       "        text-align: right;\n",
       "    }\n",
       "</style>\n",
       "<table border=\"1\" class=\"dataframe\">\n",
       "  <thead>\n",
       "    <tr style=\"text-align: right;\">\n",
       "      <th></th>\n",
       "      <th>ProspectID</th>\n",
       "      <th>CreatedOn</th>\n",
       "      <th>mx_Country</th>\n",
       "      <th>mx_Preferred_Campus</th>\n",
       "      <th>mx_Exp_In_Years</th>\n",
       "      <th>DoNotCall</th>\n",
       "      <th>DoNotEmail</th>\n",
       "      <th>mx_Mode_of_Instruction</th>\n",
       "      <th>Source</th>\n",
       "      <th>SourceMedium</th>\n",
       "      <th>...</th>\n",
       "      <th>mx_Current_Interested_Program</th>\n",
       "      <th>mx_Application_Date</th>\n",
       "      <th>mx_Industry</th>\n",
       "      <th>mx_UG_Degree</th>\n",
       "      <th>mx_UG_Passing_Year</th>\n",
       "      <th>mx_PG_Degree</th>\n",
       "      <th>mx_PG_Passing_Year</th>\n",
       "      <th>mx_Batch_Code</th>\n",
       "      <th>mx_City</th>\n",
       "      <th>mx_Device_details</th>\n",
       "    </tr>\n",
       "  </thead>\n",
       "  <tbody>\n",
       "    <tr>\n",
       "      <td>0</td>\n",
       "      <td>65e26baf-5ed5-4c08-92a6-426c0f4052b5</td>\n",
       "      <td>2019-02-16 20:51:09</td>\n",
       "      <td>NaN</td>\n",
       "      <td>Mumbai</td>\n",
       "      <td>2-3 Years</td>\n",
       "      <td>0</td>\n",
       "      <td>0</td>\n",
       "      <td>Classroom</td>\n",
       "      <td>google</td>\n",
       "      <td>Display</td>\n",
       "      <td>...</td>\n",
       "      <td>PGPML-Online</td>\n",
       "      <td>NaT</td>\n",
       "      <td>NaN</td>\n",
       "      <td>NaN</td>\n",
       "      <td>NaN</td>\n",
       "      <td>NaN</td>\n",
       "      <td>NaN</td>\n",
       "      <td>NaN</td>\n",
       "      <td>NaN</td>\n",
       "      <td>smartphone | Xiaomi Redmi 6A | Android 8.1.0 |...</td>\n",
       "    </tr>\n",
       "    <tr>\n",
       "      <td>1</td>\n",
       "      <td>a6998bac-67e9-479e-aca9-d2808b4522f1</td>\n",
       "      <td>2019-02-07 15:39:26</td>\n",
       "      <td>NaN</td>\n",
       "      <td>Mumbai</td>\n",
       "      <td>1-2 Years</td>\n",
       "      <td>0</td>\n",
       "      <td>0</td>\n",
       "      <td>NaN</td>\n",
       "      <td>facebook</td>\n",
       "      <td>Mumbai - DSEFT - LAE (1%)</td>\n",
       "      <td>...</td>\n",
       "      <td>DSEFT</td>\n",
       "      <td>NaT</td>\n",
       "      <td>NaN</td>\n",
       "      <td>NaN</td>\n",
       "      <td>NaN</td>\n",
       "      <td>NaN</td>\n",
       "      <td>NaN</td>\n",
       "      <td>NaN</td>\n",
       "      <td>NaN</td>\n",
       "      <td>smartphone | Xiaomi Redmi 4A | Android 6.0.1 |...</td>\n",
       "    </tr>\n",
       "    <tr>\n",
       "      <td>2</td>\n",
       "      <td>c26dbf1b-6e27-44ce-b33f-a090f7acc040</td>\n",
       "      <td>2018-12-30 15:19:59</td>\n",
       "      <td>NaN</td>\n",
       "      <td>Delhi</td>\n",
       "      <td>2-5 Years</td>\n",
       "      <td>0</td>\n",
       "      <td>0</td>\n",
       "      <td>NaN</td>\n",
       "      <td>Facebook</td>\n",
       "      <td>LAE-LTV-1%</td>\n",
       "      <td>...</td>\n",
       "      <td>PGPBA</td>\n",
       "      <td>NaT</td>\n",
       "      <td>Others</td>\n",
       "      <td>NaN</td>\n",
       "      <td>NaN</td>\n",
       "      <td>NaN</td>\n",
       "      <td>NaN</td>\n",
       "      <td>NaN</td>\n",
       "      <td>NaN</td>\n",
       "      <td>smartphone | Lenovo A7020a48 | Android 6.0 | C...</td>\n",
       "    </tr>\n",
       "    <tr>\n",
       "      <td>3</td>\n",
       "      <td>1ebf4111-94da-4c73-96b7-55dcb74a4336</td>\n",
       "      <td>2019-05-31 08:19:16</td>\n",
       "      <td>Singapore</td>\n",
       "      <td>Online</td>\n",
       "      <td>&gt;15 Years</td>\n",
       "      <td>0</td>\n",
       "      <td>0</td>\n",
       "      <td>NaN</td>\n",
       "      <td>facebook</td>\n",
       "      <td>LAE1–32to45</td>\n",
       "      <td>...</td>\n",
       "      <td>PGPBABI-Online-International</td>\n",
       "      <td>NaT</td>\n",
       "      <td>NaN</td>\n",
       "      <td>NaN</td>\n",
       "      <td>NaN</td>\n",
       "      <td>NaN</td>\n",
       "      <td>NaN</td>\n",
       "      <td>NaN</td>\n",
       "      <td>Singapore</td>\n",
       "      <td>smartphone | Apple iPhone | iOS 12.3 | Mobile ...</td>\n",
       "    </tr>\n",
       "    <tr>\n",
       "      <td>4</td>\n",
       "      <td>aa5b2c0e-bf49-4702-9235-05c7d7b62776</td>\n",
       "      <td>2016-12-14 04:59:18</td>\n",
       "      <td>NaN</td>\n",
       "      <td>Gurgaon</td>\n",
       "      <td>2-5 Years</td>\n",
       "      <td>0</td>\n",
       "      <td>1</td>\n",
       "      <td>NaN</td>\n",
       "      <td>Zopim Chat</td>\n",
       "      <td>olp</td>\n",
       "      <td>...</td>\n",
       "      <td>PGPBA</td>\n",
       "      <td>NaT</td>\n",
       "      <td>IT &amp; Technology</td>\n",
       "      <td>NaN</td>\n",
       "      <td>NaN</td>\n",
       "      <td>NaN</td>\n",
       "      <td>NaN</td>\n",
       "      <td>NaN</td>\n",
       "      <td>Gurgaon</td>\n",
       "      <td>NaN</td>\n",
       "    </tr>\n",
       "  </tbody>\n",
       "</table>\n",
       "<p>5 rows × 24 columns</p>\n",
       "</div>"
      ],
      "text/plain": [
       "                             ProspectID           CreatedOn mx_Country  \\\n",
       "0  65e26baf-5ed5-4c08-92a6-426c0f4052b5 2019-02-16 20:51:09        NaN   \n",
       "1  a6998bac-67e9-479e-aca9-d2808b4522f1 2019-02-07 15:39:26        NaN   \n",
       "2  c26dbf1b-6e27-44ce-b33f-a090f7acc040 2018-12-30 15:19:59        NaN   \n",
       "3  1ebf4111-94da-4c73-96b7-55dcb74a4336 2019-05-31 08:19:16  Singapore   \n",
       "4  aa5b2c0e-bf49-4702-9235-05c7d7b62776 2016-12-14 04:59:18        NaN   \n",
       "\n",
       "  mx_Preferred_Campus mx_Exp_In_Years  DoNotCall  DoNotEmail  \\\n",
       "0              Mumbai       2-3 Years          0           0   \n",
       "1              Mumbai       1-2 Years          0           0   \n",
       "2               Delhi       2-5 Years          0           0   \n",
       "3              Online       >15 Years          0           0   \n",
       "4             Gurgaon       2-5 Years          0           1   \n",
       "\n",
       "  mx_Mode_of_Instruction      Source               SourceMedium  ...  \\\n",
       "0              Classroom      google                    Display  ...   \n",
       "1                    NaN    facebook  Mumbai - DSEFT - LAE (1%)  ...   \n",
       "2                    NaN    Facebook                 LAE-LTV-1%  ...   \n",
       "3                    NaN    facebook                LAE1–32to45  ...   \n",
       "4                    NaN  Zopim Chat                        olp  ...   \n",
       "\n",
       "  mx_Current_Interested_Program mx_Application_Date      mx_Industry  \\\n",
       "0                  PGPML-Online                 NaT              NaN   \n",
       "1                         DSEFT                 NaT              NaN   \n",
       "2                         PGPBA                 NaT           Others   \n",
       "3  PGPBABI-Online-International                 NaT              NaN   \n",
       "4                         PGPBA                 NaT  IT & Technology   \n",
       "\n",
       "   mx_UG_Degree mx_UG_Passing_Year mx_PG_Degree mx_PG_Passing_Year  \\\n",
       "0           NaN                NaN          NaN                NaN   \n",
       "1           NaN                NaN          NaN                NaN   \n",
       "2           NaN                NaN          NaN                NaN   \n",
       "3           NaN                NaN          NaN                NaN   \n",
       "4           NaN                NaN          NaN                NaN   \n",
       "\n",
       "  mx_Batch_Code    mx_City                                  mx_Device_details  \n",
       "0           NaN        NaN  smartphone | Xiaomi Redmi 6A | Android 8.1.0 |...  \n",
       "1           NaN        NaN  smartphone | Xiaomi Redmi 4A | Android 6.0.1 |...  \n",
       "2           NaN        NaN  smartphone | Lenovo A7020a48 | Android 6.0 | C...  \n",
       "3           NaN  Singapore  smartphone | Apple iPhone | iOS 12.3 | Mobile ...  \n",
       "4           NaN    Gurgaon                                                NaN  \n",
       "\n",
       "[5 rows x 24 columns]"
      ]
     },
     "execution_count": 595,
     "metadata": {},
     "output_type": "execute_result"
    }
   ],
   "source": [
    "latest = pd.read_excel('../data/latest - orig.xlsx')\n",
    "latest.head()"
   ]
  },
  {
   "cell_type": "code",
   "execution_count": 596,
   "metadata": {},
   "outputs": [
    {
     "data": {
      "text/html": [
       "<div>\n",
       "<style scoped>\n",
       "    .dataframe tbody tr th:only-of-type {\n",
       "        vertical-align: middle;\n",
       "    }\n",
       "\n",
       "    .dataframe tbody tr th {\n",
       "        vertical-align: top;\n",
       "    }\n",
       "\n",
       "    .dataframe thead th {\n",
       "        text-align: right;\n",
       "    }\n",
       "</style>\n",
       "<table border=\"1\" class=\"dataframe\">\n",
       "  <thead>\n",
       "    <tr style=\"text-align: right;\">\n",
       "      <th></th>\n",
       "      <th>RelatedProspectId</th>\n",
       "      <th>ActivityName</th>\n",
       "      <th>Status</th>\n",
       "      <th>mx_Custom_1</th>\n",
       "      <th>mx_Custom_2</th>\n",
       "      <th>mx_Custom_3</th>\n",
       "      <th>mx_Custom_4</th>\n",
       "      <th>mx_Custom_5</th>\n",
       "      <th>mx_Custom_6</th>\n",
       "      <th>mx_Custom_7</th>\n",
       "      <th>mx_Custom_8</th>\n",
       "      <th>mx_Custom_9</th>\n",
       "      <th>mx_Custom_10</th>\n",
       "      <th>CreatedOn</th>\n",
       "      <th>mx_Country_Post</th>\n",
       "      <th>mx_Preferred_Campus_Post</th>\n",
       "      <th>ProspectStage_Pre</th>\n",
       "      <th>ProspectStage_Post</th>\n",
       "      <th>mx_Current_Interested_Program_Pre</th>\n",
       "      <th>mx_Current_Interested_Program_Post</th>\n",
       "    </tr>\n",
       "  </thead>\n",
       "  <tbody>\n",
       "    <tr>\n",
       "      <td>0</td>\n",
       "      <td>001eaa91-4d10-4398-b054-10833ce9744a</td>\n",
       "      <td>91. Change Owner</td>\n",
       "      <td>Active</td>\n",
       "      <td>b8166dce-7f89-11e8-8aa7-020e1b1539ba</td>\n",
       "      <td>NaN</td>\n",
       "      <td>NaN</td>\n",
       "      <td>NaN</td>\n",
       "      <td>NaN</td>\n",
       "      <td>NaN</td>\n",
       "      <td>NaN</td>\n",
       "      <td>NaN</td>\n",
       "      <td>NaN</td>\n",
       "      <td>NaN</td>\n",
       "      <td>2019-05-11 17:24:42.000</td>\n",
       "      <td>NaN</td>\n",
       "      <td>Bangalore</td>\n",
       "      <td>Lead Called</td>\n",
       "      <td>Lead Called</td>\n",
       "      <td>PGPBA</td>\n",
       "      <td>PGPBA</td>\n",
       "    </tr>\n",
       "    <tr>\n",
       "      <td>1</td>\n",
       "      <td>004d4ad9-c722-4fe4-906d-4db4362300d7</td>\n",
       "      <td>lead_capture</td>\n",
       "      <td>existing_lead</td>\n",
       "      <td>Facebook</td>\n",
       "      <td>BABI - Bangalore</td>\n",
       "      <td>Remarketing</td>\n",
       "      <td>website_landing_page</td>\n",
       "      <td>NaN</td>\n",
       "      <td>NaN</td>\n",
       "      <td>NaN</td>\n",
       "      <td>NaN</td>\n",
       "      <td>NaN</td>\n",
       "      <td>NaN</td>\n",
       "      <td>2019-02-13 02:46:50.088</td>\n",
       "      <td>NaN</td>\n",
       "      <td>Bangalore</td>\n",
       "      <td>Lead</td>\n",
       "      <td>Lead</td>\n",
       "      <td>PGPBABI-Online</td>\n",
       "      <td>PGPBABI-Online</td>\n",
       "    </tr>\n",
       "    <tr>\n",
       "      <td>2</td>\n",
       "      <td>004d4ad9-c722-4fe4-906d-4db4362300d7</td>\n",
       "      <td>lead_capture</td>\n",
       "      <td>new_lead</td>\n",
       "      <td>google</td>\n",
       "      <td>PGP_BABI_PPC_BMM_Search_Data_Science_Bangalore</td>\n",
       "      <td>search</td>\n",
       "      <td>website_landing_page</td>\n",
       "      <td>NaN</td>\n",
       "      <td>NaN</td>\n",
       "      <td>NaN</td>\n",
       "      <td>NaN</td>\n",
       "      <td>NaN</td>\n",
       "      <td>NaN</td>\n",
       "      <td>2019-01-04 13:55:13.832</td>\n",
       "      <td>NaN</td>\n",
       "      <td>Bangalore</td>\n",
       "      <td>NaN</td>\n",
       "      <td>Lead</td>\n",
       "      <td>NaN</td>\n",
       "      <td>PGPBA</td>\n",
       "    </tr>\n",
       "    <tr>\n",
       "      <td>3</td>\n",
       "      <td>004d4ad9-c722-4fe4-906d-4db4362300d7</td>\n",
       "      <td>0.Called at Lead Stage</td>\n",
       "      <td>Call back later</td>\n",
       "      <td>NaN</td>\n",
       "      <td>NaN</td>\n",
       "      <td>NaN</td>\n",
       "      <td>NaN</td>\n",
       "      <td>NaN</td>\n",
       "      <td>NaN</td>\n",
       "      <td>NaN</td>\n",
       "      <td>NaN</td>\n",
       "      <td>NaN</td>\n",
       "      <td>NaN</td>\n",
       "      <td>2019-01-04 15:09:00.000</td>\n",
       "      <td>NaN</td>\n",
       "      <td>Bangalore</td>\n",
       "      <td>Lead</td>\n",
       "      <td>Lead Called</td>\n",
       "      <td>PGPBA</td>\n",
       "      <td>PGPBA</td>\n",
       "    </tr>\n",
       "    <tr>\n",
       "      <td>4</td>\n",
       "      <td>004d4ad9-c722-4fe4-906d-4db4362300d7</td>\n",
       "      <td>Outbound Phone Call Activity</td>\n",
       "      <td>Answered</td>\n",
       "      <td>Anita - 918049652364</td>\n",
       "      <td>2019-01-04 15:08:37</td>\n",
       "      <td>37</td>\n",
       "      <td>http://recordings.kookoo.in/great_learning/gre...</td>\n",
       "      <td>Web</td>\n",
       "      <td>OzonetelV2</td>\n",
       "      <td>Answered</td>\n",
       "      <td>NaN</td>\n",
       "      <td>answered</td>\n",
       "      <td>NaN</td>\n",
       "      <td>2019-01-04 15:08:37.000</td>\n",
       "      <td>NaN</td>\n",
       "      <td>Bangalore</td>\n",
       "      <td>Lead Called</td>\n",
       "      <td>Lead Called</td>\n",
       "      <td>PGPBA</td>\n",
       "      <td>PGPBA</td>\n",
       "    </tr>\n",
       "  </tbody>\n",
       "</table>\n",
       "</div>"
      ],
      "text/plain": [
       "                      RelatedProspectId                  ActivityName  \\\n",
       "0  001eaa91-4d10-4398-b054-10833ce9744a              91. Change Owner   \n",
       "1  004d4ad9-c722-4fe4-906d-4db4362300d7                  lead_capture   \n",
       "2  004d4ad9-c722-4fe4-906d-4db4362300d7                  lead_capture   \n",
       "3  004d4ad9-c722-4fe4-906d-4db4362300d7        0.Called at Lead Stage   \n",
       "4  004d4ad9-c722-4fe4-906d-4db4362300d7  Outbound Phone Call Activity   \n",
       "\n",
       "            Status                           mx_Custom_1  \\\n",
       "0           Active  b8166dce-7f89-11e8-8aa7-020e1b1539ba   \n",
       "1    existing_lead                              Facebook   \n",
       "2         new_lead                                google   \n",
       "3  Call back later                                   NaN   \n",
       "4         Answered                  Anita - 918049652364   \n",
       "\n",
       "                                      mx_Custom_2  mx_Custom_3  \\\n",
       "0                                             NaN          NaN   \n",
       "1                                BABI - Bangalore  Remarketing   \n",
       "2  PGP_BABI_PPC_BMM_Search_Data_Science_Bangalore       search   \n",
       "3                                             NaN          NaN   \n",
       "4                             2019-01-04 15:08:37           37   \n",
       "\n",
       "                                         mx_Custom_4 mx_Custom_5 mx_Custom_6  \\\n",
       "0                                                NaN         NaN         NaN   \n",
       "1                               website_landing_page         NaN         NaN   \n",
       "2                               website_landing_page         NaN         NaN   \n",
       "3                                                NaN         NaN         NaN   \n",
       "4  http://recordings.kookoo.in/great_learning/gre...         Web  OzonetelV2   \n",
       "\n",
       "  mx_Custom_7 mx_Custom_8 mx_Custom_9  mx_Custom_10               CreatedOn  \\\n",
       "0         NaN         NaN         NaN           NaN 2019-05-11 17:24:42.000   \n",
       "1         NaN         NaN         NaN           NaN 2019-02-13 02:46:50.088   \n",
       "2         NaN         NaN         NaN           NaN 2019-01-04 13:55:13.832   \n",
       "3         NaN         NaN         NaN           NaN 2019-01-04 15:09:00.000   \n",
       "4    Answered         NaN    answered           NaN 2019-01-04 15:08:37.000   \n",
       "\n",
       "  mx_Country_Post mx_Preferred_Campus_Post ProspectStage_Pre  \\\n",
       "0             NaN                Bangalore       Lead Called   \n",
       "1             NaN                Bangalore              Lead   \n",
       "2             NaN                Bangalore               NaN   \n",
       "3             NaN                Bangalore              Lead   \n",
       "4             NaN                Bangalore       Lead Called   \n",
       "\n",
       "  ProspectStage_Post mx_Current_Interested_Program_Pre  \\\n",
       "0        Lead Called                             PGPBA   \n",
       "1               Lead                    PGPBABI-Online   \n",
       "2               Lead                               NaN   \n",
       "3        Lead Called                             PGPBA   \n",
       "4        Lead Called                             PGPBA   \n",
       "\n",
       "  mx_Current_Interested_Program_Post  \n",
       "0                              PGPBA  \n",
       "1                     PGPBABI-Online  \n",
       "2                              PGPBA  \n",
       "3                              PGPBA  \n",
       "4                              PGPBA  "
      ]
     },
     "execution_count": 596,
     "metadata": {},
     "output_type": "execute_result"
    }
   ],
   "source": [
    "trails = pd.read_excel('../data/trails - orig.xlsx')\n",
    "trails.head()"
   ]
  },
  {
   "cell_type": "markdown",
   "metadata": {},
   "source": [
    "# Descriptive Analysis\n",
    "\n",
    "The descriptive analysis will be performed stepwise after doing certain manipulations with the data\n",
    "\n",
    "__Manipulations__\n",
    "\n",
    "* Discaring the columns with high missing values\n",
    "* After discarding, we shall create the two seperate tables.\n",
    "    1. Quantitative variables table 1 as in question\n",
    "    2. Qualitative variables table 2 as in question for both DataFrames: latest, trail  \n",
    "* Clean certain columns for univariate analysis.\n",
    "* Merge the data for bivariate analysis.\n"
   ]
  },
  {
   "cell_type": "markdown",
   "metadata": {},
   "source": [
    "## Discarding the columns with high missing values\n",
    "\n",
    "__Idea:__ From both the dataframes 'latest' and 'trials', the columns with more than 30% null values are dropped"
   ]
  },
  {
   "cell_type": "code",
   "execution_count": 597,
   "metadata": {},
   "outputs": [],
   "source": [
    "# remove columns with missing values \n",
    "\n",
    "\n",
    "def remove_missing_cols(df, thresh = 30):\n",
    "    '''\n",
    "    remove columns with missing values > thresh percentage\n",
    "    \n",
    "    parameters:\n",
    "    ----------\n",
    "    df: pd.DataFrame\n",
    "    thresh: how much percentage of missing values are okay to keep\n",
    "    \n",
    "    '''\n",
    "    na_perct = df.isna().mean()*100 \n",
    "    valid_cols = na_perct[na_perct <= thresh].index\n",
    "    return df[valid_cols]"
   ]
  },
  {
   "cell_type": "code",
   "execution_count": 598,
   "metadata": {},
   "outputs": [],
   "source": [
    "latest_use = remove_missing_cols(latest, 30)"
   ]
  },
  {
   "cell_type": "code",
   "execution_count": 599,
   "metadata": {},
   "outputs": [],
   "source": [
    "trail_use = remove_missing_cols(trails, 30)"
   ]
  },
  {
   "cell_type": "markdown",
   "metadata": {},
   "source": [
    "## 1. Creating the first table for quantitative variables"
   ]
  },
  {
   "cell_type": "code",
   "execution_count": 600,
   "metadata": {},
   "outputs": [],
   "source": [
    "def continuous_var_summary(var):\n",
    "    '''\n",
    "    Returns the summary of the data, namely : 'Min', 'Max', 'Avg','% null'\n",
    "    \n",
    "    Parameters:\n",
    "    ----------------\n",
    "    var: pd.Series, any pd.DataFrame column\n",
    "    \n",
    "    Return:\n",
    "    ---------------\n",
    "    quantity: a DataFrame\n",
    "    '''\n",
    "    quantity = {}\n",
    "    percent = np.arange(0.05, 1, 0.05)\n",
    "    quantity['Min'] = var.dropna().min()\n",
    "    quantity['Max'] = var.dropna().max()\n",
    "    quantity['Avg'] = var.dropna().mean()\n",
    "    quantity['% null'] = var.isna().mean()*100\n",
    "    quantity = pd.DataFrame([quantity])\n",
    "    return quantity"
   ]
  },
  {
   "cell_type": "code",
   "execution_count": 601,
   "metadata": {},
   "outputs": [],
   "source": [
    "score = continuous_var_summary(latest['Score'])"
   ]
  },
  {
   "cell_type": "code",
   "execution_count": 602,
   "metadata": {},
   "outputs": [],
   "source": [
    "#\n",
    "percentiles = np.arange(0.05, 1, 0.05)\n",
    "quantile = pd.DataFrame(latest['Score'].quantile(percentiles))\n",
    "quantile = quantile.T\n",
    "quantile = quantile.reset_index(drop = True)\n",
    "quantile.columns = np.round(quantile.columns, 2)"
   ]
  },
  {
   "cell_type": "code",
   "execution_count": 603,
   "metadata": {},
   "outputs": [],
   "source": [
    "result1 = pd.concat([score, quantile], axis = 1)"
   ]
  },
  {
   "cell_type": "code",
   "execution_count": 604,
   "metadata": {},
   "outputs": [],
   "source": [
    "def convert_cols_to_string(cols, n):\n",
    "    '''\n",
    "    convert name of the columns to strings\n",
    "    \n",
    "    parameters:\n",
    "    --------------\n",
    "    cols: the column name that is to be changed\n",
    "    n: string conversion to how many digits\n",
    "    \n",
    "    returns:\n",
    "    --------------\n",
    "    new_col: returns the converted column \n",
    "    '''\n",
    "    new_cols = []\n",
    "    for col in cols:\n",
    "        try:\n",
    "            new_col = str(np.round(col, n))\n",
    "        except Exception:\n",
    "            new_col = col\n",
    "            \n",
    "        new_cols.append(new_col)\n",
    "        \n",
    "        \n",
    "    return new_cols"
   ]
  },
  {
   "cell_type": "code",
   "execution_count": 605,
   "metadata": {},
   "outputs": [],
   "source": [
    "result1.columns = convert_cols_to_string(result1.columns, 2)"
   ]
  },
  {
   "cell_type": "code",
   "execution_count": 606,
   "metadata": {},
   "outputs": [
    {
     "data": {
      "text/html": [
       "<div>\n",
       "<style scoped>\n",
       "    .dataframe tbody tr th:only-of-type {\n",
       "        vertical-align: middle;\n",
       "    }\n",
       "\n",
       "    .dataframe tbody tr th {\n",
       "        vertical-align: top;\n",
       "    }\n",
       "\n",
       "    .dataframe thead th {\n",
       "        text-align: right;\n",
       "    }\n",
       "</style>\n",
       "<table border=\"1\" class=\"dataframe\">\n",
       "  <thead>\n",
       "    <tr style=\"text-align: right;\">\n",
       "      <th></th>\n",
       "      <th>Min</th>\n",
       "      <th>Max</th>\n",
       "      <th>Avg</th>\n",
       "      <th>% null</th>\n",
       "      <th>0.05</th>\n",
       "      <th>0.1</th>\n",
       "      <th>0.15</th>\n",
       "      <th>0.2</th>\n",
       "      <th>0.25</th>\n",
       "      <th>0.3</th>\n",
       "      <th>...</th>\n",
       "      <th>0.5</th>\n",
       "      <th>0.55</th>\n",
       "      <th>0.6</th>\n",
       "      <th>0.65</th>\n",
       "      <th>0.7</th>\n",
       "      <th>0.75</th>\n",
       "      <th>0.8</th>\n",
       "      <th>0.85</th>\n",
       "      <th>0.9</th>\n",
       "      <th>0.95</th>\n",
       "    </tr>\n",
       "  </thead>\n",
       "  <tbody>\n",
       "    <tr>\n",
       "      <td>0</td>\n",
       "      <td>-48.0</td>\n",
       "      <td>1142.0</td>\n",
       "      <td>21.165496</td>\n",
       "      <td>0.3</td>\n",
       "      <td>-10.0</td>\n",
       "      <td>0.0</td>\n",
       "      <td>0.0</td>\n",
       "      <td>2.0</td>\n",
       "      <td>2.0</td>\n",
       "      <td>4.0</td>\n",
       "      <td>...</td>\n",
       "      <td>10.0</td>\n",
       "      <td>11.0</td>\n",
       "      <td>12.0</td>\n",
       "      <td>16.0</td>\n",
       "      <td>20.0</td>\n",
       "      <td>24.0</td>\n",
       "      <td>33.0</td>\n",
       "      <td>40.6</td>\n",
       "      <td>56.0</td>\n",
       "      <td>85.0</td>\n",
       "    </tr>\n",
       "  </tbody>\n",
       "</table>\n",
       "<p>1 rows × 23 columns</p>\n",
       "</div>"
      ],
      "text/plain": [
       "    Min     Max        Avg  % null  0.05  0.1  0.15  0.2  0.25  0.3  ...  \\\n",
       "0 -48.0  1142.0  21.165496     0.3 -10.0  0.0   0.0  2.0   2.0  4.0  ...   \n",
       "\n",
       "    0.5  0.55   0.6  0.65   0.7  0.75   0.8  0.85   0.9  0.95  \n",
       "0  10.0  11.0  12.0  16.0  20.0  24.0  33.0  40.6  56.0  85.0  \n",
       "\n",
       "[1 rows x 23 columns]"
      ]
     },
     "execution_count": 606,
     "metadata": {},
     "output_type": "execute_result"
    }
   ],
   "source": [
    "result1"
   ]
  },
  {
   "cell_type": "code",
   "execution_count": 607,
   "metadata": {},
   "outputs": [],
   "source": [
    "EngagementScore = continuous_var_summary(latest['EngagementScore'])"
   ]
  },
  {
   "cell_type": "code",
   "execution_count": 608,
   "metadata": {},
   "outputs": [],
   "source": [
    "quantile2 = pd.DataFrame(latest['EngagementScore'].quantile(percentiles))\n",
    "quantile2 = quantile.T\n",
    "quantile2 = quantile.reset_index(drop = True)\n",
    "quantile2.columns = np.round(quantile.columns, 2)"
   ]
  },
  {
   "cell_type": "code",
   "execution_count": 609,
   "metadata": {},
   "outputs": [],
   "source": [
    "result2 = pd.concat([EngagementScore, quantile2], axis = 1)\n",
    "result2.columns = convert_cols_to_string(result2.columns, 2)"
   ]
  },
  {
   "cell_type": "code",
   "execution_count": 610,
   "metadata": {},
   "outputs": [
    {
     "data": {
      "text/html": [
       "<div>\n",
       "<style scoped>\n",
       "    .dataframe tbody tr th:only-of-type {\n",
       "        vertical-align: middle;\n",
       "    }\n",
       "\n",
       "    .dataframe tbody tr th {\n",
       "        vertical-align: top;\n",
       "    }\n",
       "\n",
       "    .dataframe thead th {\n",
       "        text-align: right;\n",
       "    }\n",
       "</style>\n",
       "<table border=\"1\" class=\"dataframe\">\n",
       "  <thead>\n",
       "    <tr style=\"text-align: right;\">\n",
       "      <th></th>\n",
       "      <th>Min</th>\n",
       "      <th>Max</th>\n",
       "      <th>Avg</th>\n",
       "      <th>% null</th>\n",
       "      <th>0.05</th>\n",
       "      <th>0.1</th>\n",
       "      <th>0.15</th>\n",
       "      <th>0.2</th>\n",
       "      <th>0.25</th>\n",
       "      <th>0.3</th>\n",
       "      <th>...</th>\n",
       "      <th>0.5</th>\n",
       "      <th>0.55</th>\n",
       "      <th>0.6</th>\n",
       "      <th>0.65</th>\n",
       "      <th>0.7</th>\n",
       "      <th>0.75</th>\n",
       "      <th>0.8</th>\n",
       "      <th>0.85</th>\n",
       "      <th>0.9</th>\n",
       "      <th>0.95</th>\n",
       "    </tr>\n",
       "  </thead>\n",
       "  <tbody>\n",
       "    <tr>\n",
       "      <td>0</td>\n",
       "      <td>0.0</td>\n",
       "      <td>141.0</td>\n",
       "      <td>5.887663</td>\n",
       "      <td>0.3</td>\n",
       "      <td>-10.0</td>\n",
       "      <td>0.0</td>\n",
       "      <td>0.0</td>\n",
       "      <td>2.0</td>\n",
       "      <td>2.0</td>\n",
       "      <td>4.0</td>\n",
       "      <td>...</td>\n",
       "      <td>10.0</td>\n",
       "      <td>11.0</td>\n",
       "      <td>12.0</td>\n",
       "      <td>16.0</td>\n",
       "      <td>20.0</td>\n",
       "      <td>24.0</td>\n",
       "      <td>33.0</td>\n",
       "      <td>40.6</td>\n",
       "      <td>56.0</td>\n",
       "      <td>85.0</td>\n",
       "    </tr>\n",
       "  </tbody>\n",
       "</table>\n",
       "<p>1 rows × 23 columns</p>\n",
       "</div>"
      ],
      "text/plain": [
       "   Min    Max       Avg  % null  0.05  0.1  0.15  0.2  0.25  0.3  ...   0.5  \\\n",
       "0  0.0  141.0  5.887663     0.3 -10.0  0.0   0.0  2.0   2.0  4.0  ...  10.0   \n",
       "\n",
       "   0.55   0.6  0.65   0.7  0.75   0.8  0.85   0.9  0.95  \n",
       "0  11.0  12.0  16.0  20.0  24.0  33.0  40.6  56.0  85.0  \n",
       "\n",
       "[1 rows x 23 columns]"
      ]
     },
     "execution_count": 610,
     "metadata": {},
     "output_type": "execute_result"
    }
   ],
   "source": [
    "result2"
   ]
  },
  {
   "cell_type": "code",
   "execution_count": 611,
   "metadata": {},
   "outputs": [],
   "source": [
    "result = pd.concat([result1, result2], axis = 0)"
   ]
  },
  {
   "cell_type": "code",
   "execution_count": 612,
   "metadata": {},
   "outputs": [],
   "source": [
    "result.index = ['Score', 'EngagementScore']"
   ]
  },
  {
   "cell_type": "markdown",
   "metadata": {},
   "source": [
    "### Required table 1: from DataFrame: latest\n",
    "\n",
    "There is no quantitative variables in the table trails"
   ]
  },
  {
   "cell_type": "code",
   "execution_count": 613,
   "metadata": {},
   "outputs": [
    {
     "data": {
      "text/html": [
       "<div>\n",
       "<style scoped>\n",
       "    .dataframe tbody tr th:only-of-type {\n",
       "        vertical-align: middle;\n",
       "    }\n",
       "\n",
       "    .dataframe tbody tr th {\n",
       "        vertical-align: top;\n",
       "    }\n",
       "\n",
       "    .dataframe thead th {\n",
       "        text-align: right;\n",
       "    }\n",
       "</style>\n",
       "<table border=\"1\" class=\"dataframe\">\n",
       "  <thead>\n",
       "    <tr style=\"text-align: right;\">\n",
       "      <th></th>\n",
       "      <th>Min</th>\n",
       "      <th>Max</th>\n",
       "      <th>Avg</th>\n",
       "      <th>% null</th>\n",
       "      <th>0.05</th>\n",
       "      <th>0.1</th>\n",
       "      <th>0.15</th>\n",
       "      <th>0.2</th>\n",
       "      <th>0.25</th>\n",
       "      <th>0.3</th>\n",
       "      <th>...</th>\n",
       "      <th>0.5</th>\n",
       "      <th>0.55</th>\n",
       "      <th>0.6</th>\n",
       "      <th>0.65</th>\n",
       "      <th>0.7</th>\n",
       "      <th>0.75</th>\n",
       "      <th>0.8</th>\n",
       "      <th>0.85</th>\n",
       "      <th>0.9</th>\n",
       "      <th>0.95</th>\n",
       "    </tr>\n",
       "  </thead>\n",
       "  <tbody>\n",
       "    <tr>\n",
       "      <td>Score</td>\n",
       "      <td>-48.0</td>\n",
       "      <td>1142.0</td>\n",
       "      <td>21.165496</td>\n",
       "      <td>0.3</td>\n",
       "      <td>-10.0</td>\n",
       "      <td>0.0</td>\n",
       "      <td>0.0</td>\n",
       "      <td>2.0</td>\n",
       "      <td>2.0</td>\n",
       "      <td>4.0</td>\n",
       "      <td>...</td>\n",
       "      <td>10.0</td>\n",
       "      <td>11.0</td>\n",
       "      <td>12.0</td>\n",
       "      <td>16.0</td>\n",
       "      <td>20.0</td>\n",
       "      <td>24.0</td>\n",
       "      <td>33.0</td>\n",
       "      <td>40.6</td>\n",
       "      <td>56.0</td>\n",
       "      <td>85.0</td>\n",
       "    </tr>\n",
       "    <tr>\n",
       "      <td>EngagementScore</td>\n",
       "      <td>0.0</td>\n",
       "      <td>141.0</td>\n",
       "      <td>5.887663</td>\n",
       "      <td>0.3</td>\n",
       "      <td>-10.0</td>\n",
       "      <td>0.0</td>\n",
       "      <td>0.0</td>\n",
       "      <td>2.0</td>\n",
       "      <td>2.0</td>\n",
       "      <td>4.0</td>\n",
       "      <td>...</td>\n",
       "      <td>10.0</td>\n",
       "      <td>11.0</td>\n",
       "      <td>12.0</td>\n",
       "      <td>16.0</td>\n",
       "      <td>20.0</td>\n",
       "      <td>24.0</td>\n",
       "      <td>33.0</td>\n",
       "      <td>40.6</td>\n",
       "      <td>56.0</td>\n",
       "      <td>85.0</td>\n",
       "    </tr>\n",
       "  </tbody>\n",
       "</table>\n",
       "<p>2 rows × 23 columns</p>\n",
       "</div>"
      ],
      "text/plain": [
       "                  Min     Max        Avg  % null  0.05  0.1  0.15  0.2  0.25  \\\n",
       "Score           -48.0  1142.0  21.165496     0.3 -10.0  0.0   0.0  2.0   2.0   \n",
       "EngagementScore   0.0   141.0   5.887663     0.3 -10.0  0.0   0.0  2.0   2.0   \n",
       "\n",
       "                 0.3  ...   0.5  0.55   0.6  0.65   0.7  0.75   0.8  0.85  \\\n",
       "Score            4.0  ...  10.0  11.0  12.0  16.0  20.0  24.0  33.0  40.6   \n",
       "EngagementScore  4.0  ...  10.0  11.0  12.0  16.0  20.0  24.0  33.0  40.6   \n",
       "\n",
       "                  0.9  0.95  \n",
       "Score            56.0  85.0  \n",
       "EngagementScore  56.0  85.0  \n",
       "\n",
       "[2 rows x 23 columns]"
      ]
     },
     "execution_count": 613,
     "metadata": {},
     "output_type": "execute_result"
    }
   ],
   "source": [
    "result"
   ]
  },
  {
   "cell_type": "markdown",
   "metadata": {},
   "source": [
    "## 2. Creating table two for Qualitative variables"
   ]
  },
  {
   "cell_type": "code",
   "execution_count": 614,
   "metadata": {},
   "outputs": [],
   "source": [
    "def categorical_frequency(ser):\n",
    "    counts = ser.value_counts()\n",
    "    counts.name = 'Freq'\n",
    "    d = pd.DataFrame(counts)\n",
    "    na_counts = ser.isna().sum()\n",
    "    valid_counts = ser.shape[0] - na_counts\n",
    "    d['Freq_percentage'] = d['Freq']/(valid_counts)\n",
    "    return d"
   ]
  },
  {
   "cell_type": "code",
   "execution_count": 615,
   "metadata": {},
   "outputs": [],
   "source": [
    "def make_categorical_freq_table(cols, df):\n",
    "    '''Make categorical frequency tables for selected columns <cols>\n",
    "    \n",
    "    Parameters:\n",
    "    -----------\n",
    "    \n",
    "    cols: list\n",
    "        The column names of categorical variables\n",
    "        \n",
    "    df: pd.Dataframe\n",
    "\n",
    "    '''\n",
    "    frames = []\n",
    "    for col in cols:\n",
    "        table = categorical_frequency(df[col])\n",
    "        frames.append(table)\n",
    "        \n",
    "        \n",
    "    return pd.concat(frames, keys=cols)"
   ]
  },
  {
   "cell_type": "markdown",
   "metadata": {},
   "source": [
    "### Table two: DataFrame: latest"
   ]
  },
  {
   "cell_type": "code",
   "execution_count": 616,
   "metadata": {},
   "outputs": [],
   "source": [
    "# Use this to display all rows\n",
    "pd.set_option('display.max_rows', 500)\n",
    "\n",
    "# Use this to reset back\n",
    "pd.set_option('display.max_rows', 10)\n"
   ]
  },
  {
   "cell_type": "code",
   "execution_count": 617,
   "metadata": {},
   "outputs": [
    {
     "data": {
      "text/html": [
       "<div>\n",
       "<style scoped>\n",
       "    .dataframe tbody tr th:only-of-type {\n",
       "        vertical-align: middle;\n",
       "    }\n",
       "\n",
       "    .dataframe tbody tr th {\n",
       "        vertical-align: top;\n",
       "    }\n",
       "\n",
       "    .dataframe thead th {\n",
       "        text-align: right;\n",
       "    }\n",
       "</style>\n",
       "<table border=\"1\" class=\"dataframe\">\n",
       "  <thead>\n",
       "    <tr style=\"text-align: right;\">\n",
       "      <th></th>\n",
       "      <th></th>\n",
       "      <th>Freq</th>\n",
       "      <th>Freq_percentage</th>\n",
       "    </tr>\n",
       "  </thead>\n",
       "  <tbody>\n",
       "    <tr>\n",
       "      <td rowspan=\"5\" valign=\"top\">ProspectStage</td>\n",
       "      <td>Lead Called</td>\n",
       "      <td>454</td>\n",
       "      <td>0.454000</td>\n",
       "    </tr>\n",
       "    <tr>\n",
       "      <td>Rejected</td>\n",
       "      <td>353</td>\n",
       "      <td>0.353000</td>\n",
       "    </tr>\n",
       "    <tr>\n",
       "      <td>Lead</td>\n",
       "      <td>121</td>\n",
       "      <td>0.121000</td>\n",
       "    </tr>\n",
       "    <tr>\n",
       "      <td>Pending Applicant</td>\n",
       "      <td>36</td>\n",
       "      <td>0.036000</td>\n",
       "    </tr>\n",
       "    <tr>\n",
       "      <td>Enrolled</td>\n",
       "      <td>15</td>\n",
       "      <td>0.015000</td>\n",
       "    </tr>\n",
       "    <tr>\n",
       "      <td>...</td>\n",
       "      <td>...</td>\n",
       "      <td>...</td>\n",
       "      <td>...</td>\n",
       "    </tr>\n",
       "    <tr>\n",
       "      <td rowspan=\"5\" valign=\"top\">SourceCampaign</td>\n",
       "      <td>aiml-unified-Bangalore</td>\n",
       "      <td>1</td>\n",
       "      <td>0.001248</td>\n",
       "    </tr>\n",
       "    <tr>\n",
       "      <td>Intent Topic_Targeting_Display_PGP_BABI_Bangalore_Performance</td>\n",
       "      <td>1</td>\n",
       "      <td>0.001248</td>\n",
       "    </tr>\n",
       "    <tr>\n",
       "      <td>816817389</td>\n",
       "      <td>1</td>\n",
       "      <td>0.001248</td>\n",
       "    </tr>\n",
       "    <tr>\n",
       "      <td>PGP-EX_PPC-BMM_Search_Executive_MBA_Gurgaon</td>\n",
       "      <td>1</td>\n",
       "      <td>0.001248</td>\n",
       "    </tr>\n",
       "    <tr>\n",
       "      <td>dse_Chennai</td>\n",
       "      <td>1</td>\n",
       "      <td>0.001248</td>\n",
       "    </tr>\n",
       "  </tbody>\n",
       "</table>\n",
       "<p>358 rows × 2 columns</p>\n",
       "</div>"
      ],
      "text/plain": [
       "                                                                   Freq  \\\n",
       "ProspectStage  Lead Called                                          454   \n",
       "               Rejected                                             353   \n",
       "               Lead                                                 121   \n",
       "               Pending Applicant                                     36   \n",
       "               Enrolled                                              15   \n",
       "...                                                                 ...   \n",
       "SourceCampaign aiml-unified-Bangalore                                 1   \n",
       "               Intent Topic_Targeting_Display_PGP_BABI_Bangalo...     1   \n",
       "               816817389                                              1   \n",
       "               PGP-EX_PPC-BMM_Search_Executive_MBA_Gurgaon            1   \n",
       "               dse_Chennai                                            1   \n",
       "\n",
       "                                                                   Freq_percentage  \n",
       "ProspectStage  Lead Called                                                0.454000  \n",
       "               Rejected                                                   0.353000  \n",
       "               Lead                                                       0.121000  \n",
       "               Pending Applicant                                          0.036000  \n",
       "               Enrolled                                                   0.015000  \n",
       "...                                                                            ...  \n",
       "SourceCampaign aiml-unified-Bangalore                                     0.001248  \n",
       "               Intent Topic_Targeting_Display_PGP_BABI_Bangalo...         0.001248  \n",
       "               816817389                                                  0.001248  \n",
       "               PGP-EX_PPC-BMM_Search_Executive_MBA_Gurgaon                0.001248  \n",
       "               dse_Chennai                                                0.001248  \n",
       "\n",
       "[358 rows x 2 columns]"
      ]
     },
     "execution_count": 617,
     "metadata": {},
     "output_type": "execute_result"
    }
   ],
   "source": [
    "cat_cols_latest = ['ProspectStage', 'DoNotCall', 'DoNotEmail', 'mx_Preferred_Campus', 'mx_Exp_In_Years', \n",
    "            'mx_Current_Interested_Program', 'SourceCampaign']\n",
    "\n",
    "make_categorical_freq_table(cat_cols_latest, latest_use)"
   ]
  },
  {
   "cell_type": "markdown",
   "metadata": {},
   "source": [
    "### Table two: DataFrame: trails"
   ]
  },
  {
   "cell_type": "code",
   "execution_count": 618,
   "metadata": {},
   "outputs": [
    {
     "data": {
      "text/html": [
       "<div>\n",
       "<style scoped>\n",
       "    .dataframe tbody tr th:only-of-type {\n",
       "        vertical-align: middle;\n",
       "    }\n",
       "\n",
       "    .dataframe tbody tr th {\n",
       "        vertical-align: top;\n",
       "    }\n",
       "\n",
       "    .dataframe thead th {\n",
       "        text-align: right;\n",
       "    }\n",
       "</style>\n",
       "<table border=\"1\" class=\"dataframe\">\n",
       "  <thead>\n",
       "    <tr style=\"text-align: right;\">\n",
       "      <th></th>\n",
       "      <th></th>\n",
       "      <th>Freq</th>\n",
       "      <th>Freq_percentage</th>\n",
       "    </tr>\n",
       "  </thead>\n",
       "  <tbody>\n",
       "    <tr>\n",
       "      <td rowspan=\"5\" valign=\"top\">ActivityName</td>\n",
       "      <td>Unique Page Visit</td>\n",
       "      <td>2211</td>\n",
       "      <td>0.322491</td>\n",
       "    </tr>\n",
       "    <tr>\n",
       "      <td>0.Called at Lead Stage</td>\n",
       "      <td>1184</td>\n",
       "      <td>0.172695</td>\n",
       "    </tr>\n",
       "    <tr>\n",
       "      <td>Outbound Phone Call Activity</td>\n",
       "      <td>1000</td>\n",
       "      <td>0.145858</td>\n",
       "    </tr>\n",
       "    <tr>\n",
       "      <td>lead_capture</td>\n",
       "      <td>935</td>\n",
       "      <td>0.136377</td>\n",
       "    </tr>\n",
       "    <tr>\n",
       "      <td>91. Change Owner</td>\n",
       "      <td>733</td>\n",
       "      <td>0.106914</td>\n",
       "    </tr>\n",
       "    <tr>\n",
       "      <td>...</td>\n",
       "      <td>...</td>\n",
       "      <td>...</td>\n",
       "      <td>...</td>\n",
       "    </tr>\n",
       "    <tr>\n",
       "      <td rowspan=\"5\" valign=\"top\">mx_Current_Interested_Program_Post</td>\n",
       "      <td>ACSP</td>\n",
       "      <td>23</td>\n",
       "      <td>0.003369</td>\n",
       "    </tr>\n",
       "    <tr>\n",
       "      <td>ACSP-International</td>\n",
       "      <td>10</td>\n",
       "      <td>0.001465</td>\n",
       "    </tr>\n",
       "    <tr>\n",
       "      <td>PGPM-Ex</td>\n",
       "      <td>9</td>\n",
       "      <td>0.001318</td>\n",
       "    </tr>\n",
       "    <tr>\n",
       "      <td>PGPSDM</td>\n",
       "      <td>6</td>\n",
       "      <td>0.000879</td>\n",
       "    </tr>\n",
       "    <tr>\n",
       "      <td>MLCP</td>\n",
       "      <td>2</td>\n",
       "      <td>0.000293</td>\n",
       "    </tr>\n",
       "  </tbody>\n",
       "</table>\n",
       "<p>99 rows × 2 columns</p>\n",
       "</div>"
      ],
      "text/plain": [
       "                                                                 Freq  \\\n",
       "ActivityName                       Unique Page Visit             2211   \n",
       "                                   0.Called at Lead Stage        1184   \n",
       "                                   Outbound Phone Call Activity  1000   \n",
       "                                   lead_capture                   935   \n",
       "                                   91. Change Owner               733   \n",
       "...                                                               ...   \n",
       "mx_Current_Interested_Program_Post ACSP                            23   \n",
       "                                   ACSP-International              10   \n",
       "                                   PGPM-Ex                          9   \n",
       "                                   PGPSDM                           6   \n",
       "                                   MLCP                             2   \n",
       "\n",
       "                                                                 Freq_percentage  \n",
       "ActivityName                       Unique Page Visit                    0.322491  \n",
       "                                   0.Called at Lead Stage               0.172695  \n",
       "                                   Outbound Phone Call Activity         0.145858  \n",
       "                                   lead_capture                         0.136377  \n",
       "                                   91. Change Owner                     0.106914  \n",
       "...                                                                          ...  \n",
       "mx_Current_Interested_Program_Post ACSP                                 0.003369  \n",
       "                                   ACSP-International                   0.001465  \n",
       "                                   PGPM-Ex                              0.001318  \n",
       "                                   PGPSDM                               0.000879  \n",
       "                                   MLCP                                 0.000293  \n",
       "\n",
       "[99 rows x 2 columns]"
      ]
     },
     "execution_count": 618,
     "metadata": {},
     "output_type": "execute_result"
    }
   ],
   "source": [
    "cat_cols_trail = ['ActivityName', 'mx_Preferred_Campus_Post', 'ProspectStage_Pre', 'ProspectStage_Post', \n",
    "                   'mx_Current_Interested_Program_Pre', 'mx_Current_Interested_Program_Post']\n",
    "\n",
    "make_categorical_freq_table(cat_cols_trail, trail_use)"
   ]
  },
  {
   "cell_type": "markdown",
   "metadata": {},
   "source": [
    "## Cleaning Data for Univariate analysis:\n",
    "\n",
    "We shall here clean the 'max experience in years' column and convert it into float, so that they can be interpreted. "
   ]
  },
  {
   "cell_type": "code",
   "execution_count": 619,
   "metadata": {},
   "outputs": [],
   "source": [
    "def na_patch(func): \n",
    "    '''\n",
    "    Patch function to handle NaN exception\n",
    "    \n",
    "    parameters:\n",
    "    -----------\n",
    "    func : any function on which exception is to be handled\n",
    "    '''\n",
    "    def modfunc(x, *args, **kwargs):\n",
    "        try:\n",
    "            return func(x, *args, **kwargs)\n",
    "        except Exception:\n",
    "            return x\n",
    "        \n",
    "    return modfunc"
   ]
  },
  {
   "cell_type": "code",
   "execution_count": 620,
   "metadata": {},
   "outputs": [],
   "source": [
    "@na_patch\n",
    "def get_numerical_exp(exp_str):\n",
    "    '''\n",
    "    Operations:\n",
    "    1. '<1': returns the lower value experience\n",
    "    2. '> 15': returns the lower value\n",
    "    3. value bins: returns the average of the two numbers\n",
    "    4. single digit strings: returns numerical \n",
    "    \n",
    "    parameters:\n",
    "    ----------------\n",
    "    exp_str: any string expression\n",
    "    \n",
    "    '''\n",
    "    try: \n",
    "        exp_num = float(exp_str)\n",
    "        return exp_num\n",
    "    except ValueError:\n",
    "        pass\n",
    "            \n",
    "    if(exp_str == '<1'):\n",
    "        exp_num = 0\n",
    "    elif(exp_str == '>15'):\n",
    "        exp_num = 15\n",
    "    elif('-' in exp_str):\n",
    "        lower, upper = exp_str.split('-')\n",
    "        lower = int(lower)\n",
    "        upper = int(upper)\n",
    "        exp_num = (lower + upper)/2\n",
    "    else:\n",
    "        exp_num = np.nan\n",
    "        \n",
    "    return exp_num"
   ]
  },
  {
   "cell_type": "code",
   "execution_count": 621,
   "metadata": {},
   "outputs": [],
   "source": [
    "def transform_bins_to_numeric(col):\n",
    "    '''\n",
    "    returns the transformed float column of any object column with bins\n",
    "    \n",
    "    parameter:\n",
    "    -------------\n",
    "    col : any DataFrame object type columns\n",
    "    '''\n",
    "    original = pd.Series(col.value_counts().index)\n",
    "    transformed = pd.Series(col.value_counts().index)\n",
    "    transformed = transformed.str.replace(' Years','')\n",
    "    transformed = transformed.str.replace(' Year','').str.replace(' ', '')\n",
    "    transformed = transformed.apply(get_numerical_exp)\n",
    "    exp_mapdict = dict(zip(original, transformed))\n",
    "    \n",
    "    return col.map(exp_mapdict)\n"
   ]
  },
  {
   "cell_type": "code",
   "execution_count": 622,
   "metadata": {},
   "outputs": [
    {
     "name": "stderr",
     "output_type": "stream",
     "text": [
      "C:\\Users\\Anurima\\AppData\\Local\\Continuum\\anaconda3\\lib\\site-packages\\ipykernel_launcher.py:1: SettingWithCopyWarning: \n",
      "A value is trying to be set on a copy of a slice from a DataFrame.\n",
      "Try using .loc[row_indexer,col_indexer] = value instead\n",
      "\n",
      "See the caveats in the documentation: http://pandas.pydata.org/pandas-docs/stable/user_guide/indexing.html#returning-a-view-versus-a-copy\n",
      "  \"\"\"Entry point for launching an IPython kernel.\n"
     ]
    }
   ],
   "source": [
    "latest_use['mx_Exp_In_Years'] = transform_bins_to_numeric(latest_use['mx_Exp_In_Years'])"
   ]
  },
  {
   "cell_type": "code",
   "execution_count": 624,
   "metadata": {},
   "outputs": [
    {
     "data": {
      "text/plain": [
       "count    835.000000\n",
       "mean       5.283832\n",
       "std        4.897662\n",
       "min        0.000000\n",
       "25%        1.500000\n",
       "50%        3.500000\n",
       "75%       10.000000\n",
       "max       15.000000\n",
       "Name: mx_Exp_In_Years, dtype: float64"
      ]
     },
     "execution_count": 624,
     "metadata": {},
     "output_type": "execute_result"
    }
   ],
   "source": [
    "latest_use['mx_Exp_In_Years'].describe()"
   ]
  },
  {
   "cell_type": "markdown",
   "metadata": {},
   "source": [
    "## Univariate Analysis on the data Latest"
   ]
  },
  {
   "cell_type": "code",
   "execution_count": 625,
   "metadata": {},
   "outputs": [
    {
     "name": "stdout",
     "output_type": "stream",
     "text": [
      "<class 'pandas.core.frame.DataFrame'>\n",
      "RangeIndex: 1000 entries, 0 to 999\n",
      "Data columns (total 13 columns):\n",
      "ProspectID                       1000 non-null object\n",
      "CreatedOn                        1000 non-null datetime64[ns]\n",
      "mx_Preferred_Campus              914 non-null object\n",
      "mx_Exp_In_Years                  835 non-null float64\n",
      "DoNotCall                        1000 non-null int64\n",
      "DoNotEmail                       1000 non-null int64\n",
      "Source                           754 non-null object\n",
      "SourceMedium                     868 non-null object\n",
      "SourceCampaign                   801 non-null object\n",
      "ProspectStage                    1000 non-null object\n",
      "Score                            997 non-null float64\n",
      "EngagementScore                  997 non-null float64\n",
      "mx_Current_Interested_Program    993 non-null object\n",
      "dtypes: datetime64[ns](1), float64(3), int64(2), object(7)\n",
      "memory usage: 101.7+ KB\n"
     ]
    }
   ],
   "source": [
    "latest_use.info()"
   ]
  },
  {
   "cell_type": "markdown",
   "metadata": {},
   "source": [
    "### For quantitative variable in order: \n",
    "\n",
    "The graphs are self explainatory. \n",
    "1. Max years of experience: boxplot\n",
    "2. Score : histogram\n",
    "3. Engagement Score: histogram"
   ]
  },
  {
   "cell_type": "markdown",
   "metadata": {},
   "source": [
    "1. __Experience in years__ provides an idea that the people registering into the Great Learning website has a mean work experience of 2-4 years. \n",
    "\n",
    "    Higher chances of registration increaces the chances of enrollment, so the target customer can be people with lower work experience than that of higher work experience."
   ]
  },
  {
   "cell_type": "code",
   "execution_count": 626,
   "metadata": {},
   "outputs": [
    {
     "data": {
      "image/png": "[encoded data removed]",
      "text/plain": [
       "<Figure size 1080x360 with 1 Axes>"
      ]
     },
     "metadata": {},
     "output_type": "display_data"
    }
   ],
   "source": [
    "latest_use['mx_Exp_In_Years'].plot(kind = 'box')\n",
    "plt.title('Experience in years: Boxplot');"
   ]
  },
  {
   "cell_type": "markdown",
   "metadata": {},
   "source": [
    "2. __Score__ probably is system assigned, and it typically ranges between 0 to 300."
   ]
  },
  {
   "cell_type": "code",
   "execution_count": 627,
   "metadata": {},
   "outputs": [
    {
     "data": {
      "image/png": "[encoded data removed]",
      "text/plain": [
       "<Figure size 1080x360 with 1 Axes>"
      ]
     },
     "metadata": {},
     "output_type": "display_data"
    }
   ],
   "source": [
    "latest_use['Score'].plot(kind = 'hist')\n",
    "plt.title('Score: Histogram');"
   ]
  },
  {
   "cell_type": "markdown",
   "metadata": {},
   "source": [
    "3. __Engagement Score__ typically lies between 0 to 140, furthur information can be obtained in bivariate analysis, later."
   ]
  },
  {
   "cell_type": "code",
   "execution_count": 628,
   "metadata": {},
   "outputs": [
    {
     "data": {
      "image/png": "[encoded data removed]",
      "text/plain": [
       "<Figure size 1080x360 with 1 Axes>"
      ]
     },
     "metadata": {},
     "output_type": "display_data"
    }
   ],
   "source": [
    "latest_use['EngagementScore'].plot(kind = 'hist')\n",
    "plt.title('Max Experience in years: Histogram');"
   ]
  },
  {
   "cell_type": "markdown",
   "metadata": {},
   "source": [
    "### For quantitative variables in order: \n",
    "\n",
    "The graphs are self explainatory with key points mentioned.\n",
    "For quantitative variables we shall mainly plot top factors affecting the particular variable\n",
    "1. mx_Preferred_Campus\n",
    "2. DoNotCall\n",
    "3. DoNotEmail\n",
    "4. Source  \n",
    "5. SourceMedium \n",
    "6. SourceCampaign  \n",
    "7. ProspectStage  \n",
    "8. mx_Current_Interested_Program"
   ]
  },
  {
   "cell_type": "code",
   "execution_count": 629,
   "metadata": {},
   "outputs": [],
   "source": [
    "def plot_top_n(s, n=5):\n",
    "    '''\n",
    "    returns a plot of top n factors for univariate analysis\n",
    "    \n",
    "    parameters:\n",
    "    --------------\n",
    "    s: pd.Series\n",
    "    n: number of factors of the plot required\n",
    "    '''\n",
    "    counts = s.str.lower().str.capitalize().value_counts()\n",
    "    top_counts = counts[:n]\n",
    "    top_counts.plot(kind='bar', color = 'blue')\n",
    "    \n",
    "    return counts[:n]"
   ]
  },
  {
   "cell_type": "markdown",
   "metadata": {},
   "source": [
    "1. __Top 7 prefered campus by registered candidates__"
   ]
  },
  {
   "cell_type": "code",
   "execution_count": 630,
   "metadata": {},
   "outputs": [
    {
     "data": {
      "image/png": "[encoded data removed]",
      "text/plain": [
       "<Figure size 1080x360 with 1 Axes>"
      ]
     },
     "metadata": {},
     "output_type": "display_data"
    }
   ],
   "source": [
    "plot_top_n(latest_use['mx_Preferred_Campus'], 7)\n",
    "plt.title('Top seven Campuses candidates are interested in');"
   ]
  },
  {
   "cell_type": "markdown",
   "metadata": {},
   "source": [
    "#### 2. Distribution of candidates who have asked not to call\n",
    "\n",
    "Only a small percentage of applicants chose not to be called."
   ]
  },
  {
   "cell_type": "code",
   "execution_count": 631,
   "metadata": {},
   "outputs": [
    {
     "data": {
      "image/png": "[encoded data removed]",
      "text/plain": [
       "<Figure size 1080x360 with 1 Axes>"
      ]
     },
     "metadata": {},
     "output_type": "display_data"
    }
   ],
   "source": [
    "latest_use['DoNotCall'].value_counts().plot(kind = 'bar')\n",
    "plt.title('Do Not Call: Frequency');"
   ]
  },
  {
   "cell_type": "markdown",
   "metadata": {},
   "source": [
    "#### 3. Distribution of candidates who have asked not to Email "
   ]
  },
  {
   "cell_type": "code",
   "execution_count": 632,
   "metadata": {},
   "outputs": [
    {
     "data": {
      "image/png": "[encoded data removed]",
      "text/plain": [
       "<Figure size 1080x360 with 1 Axes>"
      ]
     },
     "metadata": {},
     "output_type": "display_data"
    }
   ],
   "source": [
    "latest_use['DoNotEmail'].value_counts().plot(kind = 'bar')\n",
    "plt.title('DoNotEmail: Frequency');"
   ]
  },
  {
   "cell_type": "markdown",
   "metadata": {},
   "source": [
    "#### 4. Sources of information for the candidates\n",
    "\n",
    "Most applicants got to know about greatlearning programmes from Facebook or from google search/ads. Very few people actually visited the site and applied (~ 25)"
   ]
  },
  {
   "cell_type": "code",
   "execution_count": 633,
   "metadata": {},
   "outputs": [
    {
     "data": {
      "text/plain": [
       "Text(0.5, 1.0, 'Top seven Sources candidates got to know about Great Learning')"
      ]
     },
     "execution_count": 633,
     "metadata": {},
     "output_type": "execute_result"
    },
    {
     "data": {
      "image/png": "[encoded data removed]",
      "text/plain": [
       "<Figure size 1080x360 with 1 Axes>"
      ]
     },
     "metadata": {},
     "output_type": "display_data"
    }
   ],
   "source": [
    "plot_top_n(latest_use['Source'], 7)\n",
    "plt.title('Top seven Sources candidates got to know about Great Learning')"
   ]
  },
  {
   "cell_type": "markdown",
   "metadata": {},
   "source": [
    "#### 5. Top seven sourcesMedian for the candidates"
   ]
  },
  {
   "cell_type": "code",
   "execution_count": 634,
   "metadata": {},
   "outputs": [
    {
     "data": {
      "image/png": "[encoded data removed]",
      "text/plain": [
       "<Figure size 1080x360 with 1 Axes>"
      ]
     },
     "metadata": {},
     "output_type": "display_data"
    }
   ],
   "source": [
    "plot_top_n(latest_use['SourceMedium'], 7)\n",
    "plt.title('Top seven sourcesMedium for the candidates');"
   ]
  },
  {
   "cell_type": "markdown",
   "metadata": {},
   "source": [
    "#### 6. Top seven Sources Campaigns"
   ]
  },
  {
   "cell_type": "code",
   "execution_count": 635,
   "metadata": {},
   "outputs": [
    {
     "data": {
      "image/png": "[encoded data removed]",
      "text/plain": [
       "<Figure size 1080x360 with 1 Axes>"
      ]
     },
     "metadata": {},
     "output_type": "display_data"
    }
   ],
   "source": [
    "plot_top_n(latest_use['SourceCampaign'], 7)\n",
    "plt.title('Top seven Sources Campaigns');"
   ]
  },
  {
   "cell_type": "markdown",
   "metadata": {},
   "source": [
    "#### 7. Various Prospect Stages of the candidate\n",
    "\n",
    "There are very few applicants in the Latest data who have Enrolled for the course (~ 15). "
   ]
  },
  {
   "cell_type": "code",
   "execution_count": 636,
   "metadata": {},
   "outputs": [
    {
     "data": {
      "image/png": "[encoded data removed]",
      "text/plain": [
       "<Figure size 1080x360 with 1 Axes>"
      ]
     },
     "metadata": {},
     "output_type": "display_data"
    }
   ],
   "source": [
    "plot_top_n(latest_use['ProspectStage'], 10)\n",
    "plt.title('Various Prospect Stages');"
   ]
  },
  {
   "cell_type": "markdown",
   "metadata": {},
   "source": [
    "#### 8. Top five programs candidates are interested in"
   ]
  },
  {
   "cell_type": "code",
   "execution_count": 637,
   "metadata": {},
   "outputs": [
    {
     "data": {
      "image/png": "[encoded data removed]",
      "text/plain": [
       "<Figure size 1080x360 with 1 Axes>"
      ]
     },
     "metadata": {},
     "output_type": "display_data"
    }
   ],
   "source": [
    "n = 5\n",
    "plot_top_n(latest_use['mx_Current_Interested_Program'], n)\n",
    "plt.title(f'Top {n} programs candidates are interested in');"
   ]
  },
  {
   "cell_type": "markdown",
   "metadata": {},
   "source": [
    "## Merge the two DataFrames: latest, trails\n",
    "\n",
    "Due to merging a lot of columns are duplicated, thus the size has increased.\n",
    "So, for analysis part we shall only take in consideration the merged DataFrame if some findings require data from both DataFrames, else for all other cases we shall use only the respective dataFrames"
   ]
  },
  {
   "cell_type": "code",
   "execution_count": 638,
   "metadata": {},
   "outputs": [],
   "source": [
    "latest_trail = pd.merge(latest_use, trail_use, how = 'inner', \n",
    "                        left_on = 'ProspectID', \n",
    "                        right_on = 'RelatedProspectId')"
   ]
  },
  {
   "cell_type": "markdown",
   "metadata": {},
   "source": [
    "### Exploring the merged DataFrame\n",
    "\n",
    "1. Drop related columns\n",
    "2. Removing duplicates\n",
    "3. find info, summary etc"
   ]
  },
  {
   "cell_type": "code",
   "execution_count": 639,
   "metadata": {},
   "outputs": [],
   "source": [
    "#removing duplicates\n",
    "\n",
    "latest_trail.drop_duplicates(inplace = True)"
   ]
  },
  {
   "cell_type": "code",
   "execution_count": 640,
   "metadata": {},
   "outputs": [
    {
     "name": "stdout",
     "output_type": "stream",
     "text": [
      "<class 'pandas.core.frame.DataFrame'>\n",
      "Int64Index: 6799 entries, 0 to 6855\n",
      "Data columns (total 21 columns):\n",
      "ProspectID                            6799 non-null object\n",
      "CreatedOn_x                           6799 non-null datetime64[ns]\n",
      "mx_Preferred_Campus                   6491 non-null object\n",
      "mx_Exp_In_Years                       6470 non-null float64\n",
      "DoNotCall                             6799 non-null int64\n",
      "DoNotEmail                            6799 non-null int64\n",
      "Source                                6407 non-null object\n",
      "SourceMedium                          6485 non-null object\n",
      "SourceCampaign                        5357 non-null object\n",
      "ProspectStage                         6799 non-null object\n",
      "Score                                 6792 non-null float64\n",
      "EngagementScore                       6792 non-null float64\n",
      "mx_Current_Interested_Program         6792 non-null object\n",
      "RelatedProspectId                     6799 non-null object\n",
      "ActivityName                          6799 non-null object\n",
      "CreatedOn_y                           6799 non-null datetime64[ns]\n",
      "mx_Preferred_Campus_Post              6430 non-null object\n",
      "ProspectStage_Pre                     6260 non-null object\n",
      "ProspectStage_Post                    6778 non-null object\n",
      "mx_Current_Interested_Program_Pre     6228 non-null object\n",
      "mx_Current_Interested_Program_Post    6770 non-null object\n",
      "dtypes: datetime64[ns](2), float64(3), int64(2), object(14)\n",
      "memory usage: 1.1+ MB\n"
     ]
    }
   ],
   "source": [
    "latest_trail.info()"
   ]
  },
  {
   "cell_type": "code",
   "execution_count": 641,
   "metadata": {},
   "outputs": [],
   "source": [
    "# Dropping unnecessary columns\n",
    "\n",
    "latest_trail.drop('RelatedProspectId', axis = 1, inplace= True)"
   ]
  },
  {
   "cell_type": "code",
   "execution_count": 642,
   "metadata": {},
   "outputs": [
    {
     "name": "stderr",
     "output_type": "stream",
     "text": [
      "C:\\Users\\Anurima\\AppData\\Local\\Continuum\\anaconda3\\lib\\site-packages\\ipykernel_launcher.py:3: SettingWithCopyWarning: \n",
      "A value is trying to be set on a copy of a slice from a DataFrame.\n",
      "Try using .loc[row_indexer,col_indexer] = value instead\n",
      "\n",
      "See the caveats in the documentation: http://pandas.pydata.org/pandas-docs/stable/user_guide/indexing.html#returning-a-view-versus-a-copy\n",
      "  This is separate from the ipykernel package so we can avoid doing imports until\n"
     ]
    }
   ],
   "source": [
    "# changing the name of the source in a proper way\n",
    "\n",
    "latest_use['Source'] = latest_use['Source'].str.lower().str.capitalize()"
   ]
  },
  {
   "cell_type": "code",
   "execution_count": 643,
   "metadata": {},
   "outputs": [
    {
     "name": "stdout",
     "output_type": "stream",
     "text": [
      "<class 'pandas.core.frame.DataFrame'>\n",
      "Int64Index: 6799 entries, 0 to 6855\n",
      "Data columns (total 20 columns):\n",
      "ProspectID                            6799 non-null object\n",
      "CreatedOn_x                           6799 non-null datetime64[ns]\n",
      "mx_Preferred_Campus                   6491 non-null object\n",
      "mx_Exp_In_Years                       6470 non-null float64\n",
      "DoNotCall                             6799 non-null int64\n",
      "DoNotEmail                            6799 non-null int64\n",
      "Source                                6407 non-null object\n",
      "SourceMedium                          6485 non-null object\n",
      "SourceCampaign                        5357 non-null object\n",
      "ProspectStage                         6799 non-null object\n",
      "Score                                 6792 non-null float64\n",
      "EngagementScore                       6792 non-null float64\n",
      "mx_Current_Interested_Program         6792 non-null object\n",
      "ActivityName                          6799 non-null object\n",
      "CreatedOn_y                           6799 non-null datetime64[ns]\n",
      "mx_Preferred_Campus_Post              6430 non-null object\n",
      "ProspectStage_Pre                     6260 non-null object\n",
      "ProspectStage_Post                    6778 non-null object\n",
      "mx_Current_Interested_Program_Pre     6228 non-null object\n",
      "mx_Current_Interested_Program_Post    6770 non-null object\n",
      "dtypes: datetime64[ns](2), float64(3), int64(2), object(13)\n",
      "memory usage: 1.1+ MB\n"
     ]
    }
   ],
   "source": [
    "latest_trail.info()"
   ]
  },
  {
   "cell_type": "code",
   "execution_count": 644,
   "metadata": {},
   "outputs": [
    {
     "data": {
      "text/plain": [
       "array(['Google', 'Facebook', 'Zopim chat', 'Email', nan, 'Main url',\n",
       "       'Organic/direct', 'Website', 'Chat', 'Glw', 'Brochuremail', 'Aim',\n",
       "       'Linkedin', 'Quora', 'Zirca', 'Brochuremail-bacp', 'Sms',\n",
       "       'Outbound phone call', 'Customer referral', 'Naukri',\n",
       "       'Collegedunia', 'Great lakes website', 'Direct', 'Bing',\n",
       "       'Inshorts', 'Freshersworld', 'Organic search', 'Cdb',\n",
       "       'Inbound phone call', 'Organic', 'Demail', 'Olp', 'Direct traffic',\n",
       "       'Timesjob', 'Youtube', 'Website-contactus', 'Website-popup',\n",
       "       'Zirca-cloud', 'Jobsforher', 'Taboola', 'Avm'], dtype=object)"
      ]
     },
     "execution_count": 644,
     "metadata": {},
     "output_type": "execute_result"
    }
   ],
   "source": [
    "latest_use['Source'].unique()"
   ]
  },
  {
   "cell_type": "markdown",
   "metadata": {},
   "source": [
    "### non na values in each group"
   ]
  },
  {
   "cell_type": "code",
   "execution_count": 645,
   "metadata": {},
   "outputs": [
    {
     "data": {
      "text/plain": [
       "Text(0.5, 1.0, 'Score Vs. Engagement Score')"
      ]
     },
     "execution_count": 645,
     "metadata": {},
     "output_type": "execute_result"
    },
    {
     "data": {
      "image/png": "[encoded data removed]",
      "text/plain": [
       "<Figure size 1080x360 with 1 Axes>"
      ]
     },
     "metadata": {},
     "output_type": "display_data"
    }
   ],
   "source": [
    "plt.scatter(x= latest['Score'], y=latest['EngagementScore'])\n",
    "plt.xlabel('Score')\n",
    "plt.ylabel('Engagement Score')\n",
    "plt.title('Score Vs. Engagement Score')"
   ]
  },
  {
   "cell_type": "code",
   "execution_count": 646,
   "metadata": {},
   "outputs": [
    {
     "data": {
      "text/plain": [
       "0.0     1642\n",
       "10.0     991\n",
       "6.5      886\n",
       "1.5      742\n",
       "3.5      538\n",
       "        ... \n",
       "13.5     442\n",
       "4.0      423\n",
       "2.5      318\n",
       "1.0        2\n",
       "7.0        2\n",
       "Name: mx_Exp_In_Years, Length: 11, dtype: int64"
      ]
     },
     "execution_count": 646,
     "metadata": {},
     "output_type": "execute_result"
    }
   ],
   "source": [
    "latest_trail['mx_Exp_In_Years'].value_counts()"
   ]
  },
  {
   "cell_type": "code",
   "execution_count": 647,
   "metadata": {},
   "outputs": [
    {
     "data": {
      "text/plain": [
       "Lead                 2189\n",
       "Lead Called          1978\n",
       "Applicant             837\n",
       "Rejected              449\n",
       "Pending Applicant     367\n",
       "                     ... \n",
       "Offer Expired          33\n",
       "Offer Accepted          4\n",
       "Graduated               2\n",
       "Invalid                 2\n",
       "Junk Lead               2\n",
       "Name: ProspectStage_Pre, Length: 13, dtype: int64"
      ]
     },
     "execution_count": 647,
     "metadata": {},
     "output_type": "execute_result"
    }
   ],
   "source": [
    "latest_trail['ProspectStage_Pre'].value_counts()"
   ]
  },
  {
   "cell_type": "markdown",
   "metadata": {},
   "source": [
    "## Bivariate Analysis on latest focussing on Prospect Stage = 'Enrollment'"
   ]
  },
  {
   "cell_type": "markdown",
   "metadata": {},
   "source": [
    "Plottinga and other univariate and bivariate analysis"
   ]
  },
  {
   "cell_type": "code",
   "execution_count": 648,
   "metadata": {},
   "outputs": [],
   "source": [
    "def make_boxplot(x, y, data, showfliers=False):\n",
    "    '''\n",
    "    A simple plot function with customised titles\n",
    "    \n",
    "    parameters:\n",
    "    ------------\n",
    "    x: pd.Series\n",
    "    y: pd.Series\n",
    "    data: the corrresponding data frame\n",
    "    showfliers: default = False\n",
    "    \n",
    "    returns:\n",
    "    ----------\n",
    "    A plot with title\n",
    "    \n",
    "    '''\n",
    "    fig, ax = plt.subplots(figsize = (15,7))\n",
    "    sns.boxplot(x= x, y = y, data = data, ax = ax, showfliers=showfliers)\n",
    "    plt.title(f'{y} for different {x}')"
   ]
  },
  {
   "cell_type": "markdown",
   "metadata": {},
   "source": [
    "#### 1. Experience in years of the various ProspectStages\n",
    "\n",
    "The plot clearly shows that the people who have __enrolled__ have a average experience of 2-4 years"
   ]
  },
  {
   "cell_type": "code",
   "execution_count": 649,
   "metadata": {},
   "outputs": [
    {
     "data": {
      "image/png": "[encoded data removed]",
      "text/plain": [
       "<Figure size 1080x504 with 1 Axes>"
      ]
     },
     "metadata": {},
     "output_type": "display_data"
    }
   ],
   "source": [
    "make_boxplot(x= 'ProspectStage', y = 'mx_Exp_In_Years', data = latest_use)"
   ]
  },
  {
   "cell_type": "markdown",
   "metadata": {},
   "source": [
    "#### Prospect Stages vs various scores.\n",
    "\n",
    "This shows the people who have enrolled have a higher interquartile range of scores, which shows that they have probably visited the website more frequently"
   ]
  },
  {
   "cell_type": "code",
   "execution_count": 650,
   "metadata": {},
   "outputs": [
    {
     "data": {
      "image/png": "[encoded data removed]",
      "text/plain": [
       "<Figure size 1080x504 with 1 Axes>"
      ]
     },
     "metadata": {},
     "output_type": "display_data"
    }
   ],
   "source": [
    "make_boxplot(x= 'ProspectStage', y = 'Score', data = latest_use)"
   ]
  },
  {
   "cell_type": "markdown",
   "metadata": {},
   "source": [
    "#### Prospect State vs Engagement Score\n",
    "\n",
    "This shows that the engagement score is higher for candidates who have enrolled in the course, again showing their engagement with the website. "
   ]
  },
  {
   "cell_type": "code",
   "execution_count": 651,
   "metadata": {},
   "outputs": [
    {
     "data": {
      "image/png": "[encoded data removed]",
      "text/plain": [
       "<Figure size 1080x504 with 1 Axes>"
      ]
     },
     "metadata": {},
     "output_type": "display_data"
    }
   ],
   "source": [
    "make_boxplot(x= 'ProspectStage', y = 'EngagementScore', data = latest_use)"
   ]
  },
  {
   "cell_type": "code",
   "execution_count": 652,
   "metadata": {},
   "outputs": [],
   "source": [
    "grp_sizes = latest_use[['Source','Score']].dropna().groupby(['Source']).size()\n",
    "top_grps = grp_sizes.sort_values(ascending = False)[:5].index\n",
    "top_grps_dfs = latest_use.loc[np.isin(latest_use['Source'], top_grps)]"
   ]
  },
  {
   "cell_type": "markdown",
   "metadata": {},
   "source": [
    "#### How score depends on various Sources\n",
    "\n",
    "This shows that candidates who have visited website more times have more scores, and previously we have noticed that enrolled people have more score, so there is a chance that higher score depends on the number of time a candidate visits the website. "
   ]
  },
  {
   "cell_type": "code",
   "execution_count": 663,
   "metadata": {},
   "outputs": [
    {
     "data": {
      "image/png": "[encoded data removed]",
      "text/plain": [
       "<Figure size 864x576 with 1 Axes>"
      ]
     },
     "metadata": {},
     "output_type": "display_data"
    }
   ],
   "source": [
    "fig, ax = plt.subplots(figsize = (12,8))\n",
    "sns.boxplot(data = top_grps_dfs, x= 'Source', y = 'Score', ax = ax, showfliers = False);\n",
    "plt.title('Score for Various Scources');"
   ]
  },
  {
   "cell_type": "markdown",
   "metadata": {},
   "source": [
    "## Working on the trails dataframe to find out what variables help to change a lead into Enrollment"
   ]
  },
  {
   "cell_type": "markdown",
   "metadata": {},
   "source": [
    "### Prospects who changed their programme"
   ]
  },
  {
   "cell_type": "code",
   "execution_count": 664,
   "metadata": {},
   "outputs": [
    {
     "data": {
      "text/html": [
       "<div>\n",
       "<style scoped>\n",
       "    .dataframe tbody tr th:only-of-type {\n",
       "        vertical-align: middle;\n",
       "    }\n",
       "\n",
       "    .dataframe tbody tr th {\n",
       "        vertical-align: top;\n",
       "    }\n",
       "\n",
       "    .dataframe thead th {\n",
       "        text-align: right;\n",
       "    }\n",
       "</style>\n",
       "<table border=\"1\" class=\"dataframe\">\n",
       "  <thead>\n",
       "    <tr style=\"text-align: right;\">\n",
       "      <th></th>\n",
       "      <th>RelatedProspectId</th>\n",
       "      <th>ActivityName</th>\n",
       "      <th>Status</th>\n",
       "      <th>mx_Custom_1</th>\n",
       "      <th>mx_Custom_2</th>\n",
       "      <th>mx_Custom_3</th>\n",
       "      <th>mx_Custom_4</th>\n",
       "      <th>mx_Custom_5</th>\n",
       "      <th>mx_Custom_6</th>\n",
       "      <th>mx_Custom_7</th>\n",
       "      <th>mx_Custom_8</th>\n",
       "      <th>mx_Custom_9</th>\n",
       "      <th>mx_Custom_10</th>\n",
       "      <th>CreatedOn</th>\n",
       "      <th>mx_Country_Post</th>\n",
       "      <th>mx_Preferred_Campus_Post</th>\n",
       "      <th>ProspectStage_Pre</th>\n",
       "      <th>ProspectStage_Post</th>\n",
       "      <th>mx_Current_Interested_Program_Pre</th>\n",
       "      <th>mx_Current_Interested_Program_Post</th>\n",
       "    </tr>\n",
       "  </thead>\n",
       "  <tbody>\n",
       "    <tr>\n",
       "      <td>6</td>\n",
       "      <td>004d4ad9-c722-4fe4-906d-4db4362300d7</td>\n",
       "      <td>lead_capture</td>\n",
       "      <td>existing_lead</td>\n",
       "      <td>google</td>\n",
       "      <td>PGP_BABI_PPC_BMM_Search_Brand_Bangalore_Perfor...</td>\n",
       "      <td>search</td>\n",
       "      <td>website_landing_page</td>\n",
       "      <td>NaN</td>\n",
       "      <td>NaN</td>\n",
       "      <td>NaN</td>\n",
       "      <td>NaN</td>\n",
       "      <td>NaN</td>\n",
       "      <td>NaN</td>\n",
       "      <td>2019-02-04 11:57:18.406</td>\n",
       "      <td>NaN</td>\n",
       "      <td>Online</td>\n",
       "      <td>Lead Called</td>\n",
       "      <td>Lead</td>\n",
       "      <td>PGPBA</td>\n",
       "      <td>PGPBABI-Online</td>\n",
       "    </tr>\n",
       "    <tr>\n",
       "      <td>15</td>\n",
       "      <td>007e8363-531b-44f4-a9bf-26a9debea2b1</td>\n",
       "      <td>lead_capture</td>\n",
       "      <td>existing_lead</td>\n",
       "      <td>Facebook</td>\n",
       "      <td>BABI - Hyderabad</td>\n",
       "      <td>LAC- 1%</td>\n",
       "      <td>website_landing_page</td>\n",
       "      <td>NaN</td>\n",
       "      <td>NaN</td>\n",
       "      <td>NaN</td>\n",
       "      <td>NaN</td>\n",
       "      <td>NaN</td>\n",
       "      <td>NaN</td>\n",
       "      <td>2019-01-18 03:14:13.113</td>\n",
       "      <td>India</td>\n",
       "      <td>Hyderabad</td>\n",
       "      <td>Rejected</td>\n",
       "      <td>Lead</td>\n",
       "      <td>Cloud</td>\n",
       "      <td>PGPBA-Short-Term</td>\n",
       "    </tr>\n",
       "    <tr>\n",
       "      <td>114</td>\n",
       "      <td>06dec2ad-8152-479e-8ab0-038a3496e51c</td>\n",
       "      <td>lead_capture</td>\n",
       "      <td>existing_lead</td>\n",
       "      <td>Facebook</td>\n",
       "      <td>BABI - Gurgaon</td>\n",
       "      <td>Remarketing</td>\n",
       "      <td>website_landing_page</td>\n",
       "      <td>NaN</td>\n",
       "      <td>NaN</td>\n",
       "      <td>NaN</td>\n",
       "      <td>NaN</td>\n",
       "      <td>NaN</td>\n",
       "      <td>NaN</td>\n",
       "      <td>2019-04-18 11:15:11.473</td>\n",
       "      <td>NaN</td>\n",
       "      <td>Delhi</td>\n",
       "      <td>Lead</td>\n",
       "      <td>Lead</td>\n",
       "      <td>BACP</td>\n",
       "      <td>PGPBA</td>\n",
       "    </tr>\n",
       "    <tr>\n",
       "      <td>137</td>\n",
       "      <td>0834eade-76e8-47fd-a32f-9c4ed012c714</td>\n",
       "      <td>lead_capture</td>\n",
       "      <td>existing_lead</td>\n",
       "      <td>Facebook</td>\n",
       "      <td>BABI - Hyderabad</td>\n",
       "      <td>LAE-LTV1</td>\n",
       "      <td>website_landing_page</td>\n",
       "      <td>NaN</td>\n",
       "      <td>NaN</td>\n",
       "      <td>NaN</td>\n",
       "      <td>NaN</td>\n",
       "      <td>NaN</td>\n",
       "      <td>NaN</td>\n",
       "      <td>2019-05-04 05:48:59.142</td>\n",
       "      <td>NaN</td>\n",
       "      <td>Hyderabad</td>\n",
       "      <td>Lead</td>\n",
       "      <td>Lead</td>\n",
       "      <td>PGPM-Ex</td>\n",
       "      <td>PGPBA-Short-Term</td>\n",
       "    </tr>\n",
       "    <tr>\n",
       "      <td>154</td>\n",
       "      <td>08978cfc-f85c-4d2f-a6f2-711103b5f757</td>\n",
       "      <td>8.Change Interested Program</td>\n",
       "      <td>NaN</td>\n",
       "      <td>PGPAIML-Online</td>\n",
       "      <td>NaN</td>\n",
       "      <td>NaN</td>\n",
       "      <td>NaN</td>\n",
       "      <td>NaN</td>\n",
       "      <td>NaN</td>\n",
       "      <td>NaN</td>\n",
       "      <td>NaN</td>\n",
       "      <td>NaN</td>\n",
       "      <td>NaN</td>\n",
       "      <td>2019-02-27 07:08:00.000</td>\n",
       "      <td>NaN</td>\n",
       "      <td>Mumbai</td>\n",
       "      <td>Lead Called</td>\n",
       "      <td>Lead Called</td>\n",
       "      <td>AIML</td>\n",
       "      <td>PGPAIML-Online</td>\n",
       "    </tr>\n",
       "  </tbody>\n",
       "</table>\n",
       "</div>"
      ],
      "text/plain": [
       "                        RelatedProspectId                 ActivityName  \\\n",
       "6    004d4ad9-c722-4fe4-906d-4db4362300d7                 lead_capture   \n",
       "15   007e8363-531b-44f4-a9bf-26a9debea2b1                 lead_capture   \n",
       "114  06dec2ad-8152-479e-8ab0-038a3496e51c                 lead_capture   \n",
       "137  0834eade-76e8-47fd-a32f-9c4ed012c714                 lead_capture   \n",
       "154  08978cfc-f85c-4d2f-a6f2-711103b5f757  8.Change Interested Program   \n",
       "\n",
       "            Status     mx_Custom_1  \\\n",
       "6    existing_lead          google   \n",
       "15   existing_lead        Facebook   \n",
       "114  existing_lead        Facebook   \n",
       "137  existing_lead        Facebook   \n",
       "154            NaN  PGPAIML-Online   \n",
       "\n",
       "                                           mx_Custom_2  mx_Custom_3  \\\n",
       "6    PGP_BABI_PPC_BMM_Search_Brand_Bangalore_Perfor...       search   \n",
       "15                                    BABI - Hyderabad      LAC- 1%   \n",
       "114                                     BABI - Gurgaon  Remarketing   \n",
       "137                                   BABI - Hyderabad     LAE-LTV1   \n",
       "154                                                NaN          NaN   \n",
       "\n",
       "              mx_Custom_4 mx_Custom_5 mx_Custom_6 mx_Custom_7 mx_Custom_8  \\\n",
       "6    website_landing_page         NaN         NaN         NaN         NaN   \n",
       "15   website_landing_page         NaN         NaN         NaN         NaN   \n",
       "114  website_landing_page         NaN         NaN         NaN         NaN   \n",
       "137  website_landing_page         NaN         NaN         NaN         NaN   \n",
       "154                   NaN         NaN         NaN         NaN         NaN   \n",
       "\n",
       "    mx_Custom_9  mx_Custom_10               CreatedOn mx_Country_Post  \\\n",
       "6           NaN           NaN 2019-02-04 11:57:18.406             NaN   \n",
       "15          NaN           NaN 2019-01-18 03:14:13.113           India   \n",
       "114         NaN           NaN 2019-04-18 11:15:11.473             NaN   \n",
       "137         NaN           NaN 2019-05-04 05:48:59.142             NaN   \n",
       "154         NaN           NaN 2019-02-27 07:08:00.000             NaN   \n",
       "\n",
       "    mx_Preferred_Campus_Post ProspectStage_Pre ProspectStage_Post  \\\n",
       "6                     Online       Lead Called               Lead   \n",
       "15                 Hyderabad          Rejected               Lead   \n",
       "114                    Delhi              Lead               Lead   \n",
       "137                Hyderabad              Lead               Lead   \n",
       "154                   Mumbai       Lead Called        Lead Called   \n",
       "\n",
       "    mx_Current_Interested_Program_Pre mx_Current_Interested_Program_Post  \n",
       "6                               PGPBA                     PGPBABI-Online  \n",
       "15                              Cloud                   PGPBA-Short-Term  \n",
       "114                              BACP                              PGPBA  \n",
       "137                           PGPM-Ex                   PGPBA-Short-Term  \n",
       "154                              AIML                     PGPAIML-Online  "
      ]
     },
     "execution_count": 664,
     "metadata": {},
     "output_type": "execute_result"
    }
   ],
   "source": [
    "pre, post = 'mx_Current_Interested_Program_Pre', 'mx_Current_Interested_Program_Post'\n",
    "mismatch = trails[pre] != trails[post]\n",
    "na_prog_choice = trails[[pre, post]].isna().any(axis=1)\n",
    "\n",
    "trails.loc[mismatch &  ~na_prog_choice].head()"
   ]
  },
  {
   "cell_type": "markdown",
   "metadata": {},
   "source": [
    "#### Was there a change in preferance of programme applicant was interested in? (pre vs post)"
   ]
  },
  {
   "cell_type": "code",
   "execution_count": 678,
   "metadata": {},
   "outputs": [],
   "source": [
    "def plot_comp_barplot(c1, c2, data):\n",
    "    c1_c2_comp = make_categorical_freq_table([c1, c2], trails).reset_index()\n",
    "    c1_c2_comp.rename(columns={'level_0': 'Stage', 'level_1': 'Programme'}, inplace=True)\n",
    "    \n",
    "    fig, ax = plt.subplots(figsize=(24, 12))\n",
    "    sns.barplot(x='Programme', y='Freq_percentage', hue='Stage', data=c1_c2_comp)\n",
    "    plt.xticks(rotation=45);\n",
    "    \n",
    "    return fig, c1_c2_comp"
   ]
  },
  {
   "cell_type": "code",
   "execution_count": 679,
   "metadata": {},
   "outputs": [
    {
     "data": {
      "image/png": "[encoded data removed]",
      "text/plain": [
       "<Figure size 1728x864 with 1 Axes>"
      ]
     },
     "metadata": {},
     "output_type": "display_data"
    }
   ],
   "source": [
    "pre, post = 'mx_Current_Interested_Program_Pre', 'mx_Current_Interested_Program_Post'\n",
    "fig, pre_post_comp = plot_comp_barplot(pre, post, trails)"
   ]
  },
  {
   "cell_type": "markdown",
   "metadata": {},
   "source": [
    "The above graph shows that, at the pre and the post stage people have chnaged their programes. "
   ]
  },
  {
   "cell_type": "markdown",
   "metadata": {},
   "source": [
    "#### Was there a change in ProspectStage?"
   ]
  },
  {
   "cell_type": "code",
   "execution_count": 680,
   "metadata": {},
   "outputs": [
    {
     "data": {
      "image/png": "[encoded data removed]",
      "text/plain": [
       "<Figure size 1728x864 with 1 Axes>"
      ]
     },
     "metadata": {},
     "output_type": "display_data"
    }
   ],
   "source": [
    "fig, pre_post_comp = plot_comp_barplot('ProspectStage_Pre', 'ProspectStage_Post', trails)"
   ]
  },
  {
   "cell_type": "markdown",
   "metadata": {},
   "source": [
    "This above graph shows the percentage of changes of the prospect stage.\n",
    "1. for lead, the change percentage is significant showing that a lead is followed up after their first time, so a decrease\n",
    "2. There is not much significant change in the 'Enrolled' part"
   ]
  },
  {
   "cell_type": "markdown",
   "metadata": {},
   "source": [
    "#### Top ten activity of the candidates"
   ]
  },
  {
   "cell_type": "code",
   "execution_count": 682,
   "metadata": {},
   "outputs": [
    {
     "data": {
      "image/png": "[encoded data removed]",
      "text/plain": [
       "<Figure size 1080x360 with 1 Axes>"
      ]
     },
     "metadata": {},
     "output_type": "display_data"
    }
   ],
   "source": [
    "plot_top_n(trails['ActivityName'], 10);"
   ]
  },
  {
   "cell_type": "markdown",
   "metadata": {},
   "source": [
    "#### The various status, top 10"
   ]
  },
  {
   "cell_type": "code",
   "execution_count": 683,
   "metadata": {},
   "outputs": [
    {
     "data": {
      "image/png": "[encoded data removed]",
      "text/plain": [
       "<Figure size 1080x360 with 1 Axes>"
      ]
     },
     "metadata": {},
     "output_type": "display_data"
    }
   ],
   "source": [
    "plot_top_n(trails['Status'], 10);"
   ]
  },
  {
   "cell_type": "markdown",
   "metadata": {},
   "source": [
    "#### Top ten post prospects"
   ]
  },
  {
   "cell_type": "code",
   "execution_count": 684,
   "metadata": {},
   "outputs": [
    {
     "data": {
      "image/png": "[encoded data removed]",
      "text/plain": [
       "<Figure size 1080x360 with 1 Axes>"
      ]
     },
     "metadata": {},
     "output_type": "display_data"
    }
   ],
   "source": [
    "plot_top_n(trails['ProspectStage_Post'], 10);"
   ]
  },
  {
   "cell_type": "markdown",
   "metadata": {},
   "source": [
    "#### Enrolled DataFrame\n",
    "\n",
    "* We not create a seperate DataFrame for those candidates for whom the pre stage was not 'enrolled' while the post stage was 'enrolled' \n",
    "* Out of 15 enrolled cases among 1000 prospects, only 11 has been confirmed in the post stage \n",
    "* This data frame should give us the intuition or the que to find out the variables"
   ]
  },
  {
   "cell_type": "code",
   "execution_count": 685,
   "metadata": {},
   "outputs": [
    {
     "data": {
      "text/html": [
       "<div>\n",
       "<style scoped>\n",
       "    .dataframe tbody tr th:only-of-type {\n",
       "        vertical-align: middle;\n",
       "    }\n",
       "\n",
       "    .dataframe tbody tr th {\n",
       "        vertical-align: top;\n",
       "    }\n",
       "\n",
       "    .dataframe thead th {\n",
       "        text-align: right;\n",
       "    }\n",
       "</style>\n",
       "<table border=\"1\" class=\"dataframe\">\n",
       "  <thead>\n",
       "    <tr style=\"text-align: right;\">\n",
       "      <th></th>\n",
       "      <th>RelatedProspectId</th>\n",
       "      <th>ActivityName</th>\n",
       "      <th>Status</th>\n",
       "      <th>mx_Custom_1</th>\n",
       "      <th>mx_Custom_2</th>\n",
       "      <th>mx_Custom_3</th>\n",
       "      <th>mx_Custom_4</th>\n",
       "      <th>mx_Custom_5</th>\n",
       "      <th>mx_Custom_6</th>\n",
       "      <th>mx_Custom_7</th>\n",
       "      <th>mx_Custom_8</th>\n",
       "      <th>mx_Custom_9</th>\n",
       "      <th>mx_Custom_10</th>\n",
       "      <th>CreatedOn</th>\n",
       "      <th>mx_Country_Post</th>\n",
       "      <th>mx_Preferred_Campus_Post</th>\n",
       "      <th>ProspectStage_Pre</th>\n",
       "      <th>ProspectStage_Post</th>\n",
       "      <th>mx_Current_Interested_Program_Pre</th>\n",
       "      <th>mx_Current_Interested_Program_Post</th>\n",
       "    </tr>\n",
       "  </thead>\n",
       "  <tbody>\n",
       "    <tr>\n",
       "      <td>1837</td>\n",
       "      <td>556ee2ae-a615-4859-84aa-b9cfee8cc52c</td>\n",
       "      <td>9.Offer Sent/Revised/Extended/Expired</td>\n",
       "      <td>Fees paid</td>\n",
       "      <td>NaN</td>\n",
       "      <td>NaN</td>\n",
       "      <td>PGPDSE-FT.B.May19</td>\n",
       "      <td>pgpdse-ft-b-bangalore</td>\n",
       "      <td>NaN</td>\n",
       "      <td>NaN</td>\n",
       "      <td>Fully Paid</td>\n",
       "      <td>25000</td>\n",
       "      <td>NaN</td>\n",
       "      <td>NaN</td>\n",
       "      <td>2019-03-20 11:12:48</td>\n",
       "      <td>India</td>\n",
       "      <td>Bangalore</td>\n",
       "      <td>Offered</td>\n",
       "      <td>Enrolled</td>\n",
       "      <td>DSEFT</td>\n",
       "      <td>DSEFT</td>\n",
       "    </tr>\n",
       "    <tr>\n",
       "      <td>2121</td>\n",
       "      <td>5d814d31-8ea0-4536-8e09-b1dbc09a990d</td>\n",
       "      <td>9.Offer Sent/Revised/Extended/Expired</td>\n",
       "      <td>Fees paid</td>\n",
       "      <td>NaN</td>\n",
       "      <td>NaN</td>\n",
       "      <td>PGP-AIML-Online.Mar19</td>\n",
       "      <td>pgp-aiml-online</td>\n",
       "      <td>NaN</td>\n",
       "      <td>NaN</td>\n",
       "      <td>Fully Paid</td>\n",
       "      <td>25000</td>\n",
       "      <td>NaN</td>\n",
       "      <td>NaN</td>\n",
       "      <td>2019-03-08 01:49:00</td>\n",
       "      <td>India</td>\n",
       "      <td>Online</td>\n",
       "      <td>Offered</td>\n",
       "      <td>Enrolled</td>\n",
       "      <td>PGPAIML-Online</td>\n",
       "      <td>PGPAIML-Online</td>\n",
       "    </tr>\n",
       "    <tr>\n",
       "      <td>3086</td>\n",
       "      <td>7fcb9582-f781-4d7e-adab-453de685cbae</td>\n",
       "      <td>9.Offer Sent/Revised/Extended/Expired</td>\n",
       "      <td>Fees paid</td>\n",
       "      <td>NaN</td>\n",
       "      <td>NaN</td>\n",
       "      <td>PGP-BABI-Online.Apr19</td>\n",
       "      <td>pgp-babi-online</td>\n",
       "      <td>NaN</td>\n",
       "      <td>NaN</td>\n",
       "      <td>Fully Paid</td>\n",
       "      <td>25000</td>\n",
       "      <td>NaN</td>\n",
       "      <td>NaN</td>\n",
       "      <td>2019-03-22 12:21:45</td>\n",
       "      <td>India</td>\n",
       "      <td>Online</td>\n",
       "      <td>Offer Accepted</td>\n",
       "      <td>Enrolled</td>\n",
       "      <td>PGPBABI-Online</td>\n",
       "      <td>PGPBABI-Online</td>\n",
       "    </tr>\n",
       "    <tr>\n",
       "      <td>5023</td>\n",
       "      <td>c03d902f-f221-4c07-adb1-b0b807a1b913</td>\n",
       "      <td>9.Offer Sent/Revised/Extended/Expired</td>\n",
       "      <td>Fees paid</td>\n",
       "      <td>NaN</td>\n",
       "      <td>NaN</td>\n",
       "      <td>2018-10-01 00:00:00</td>\n",
       "      <td>pgpdse-ft-b-bangalore</td>\n",
       "      <td>NaN</td>\n",
       "      <td>NaN</td>\n",
       "      <td>Fully Paid</td>\n",
       "      <td>265000</td>\n",
       "      <td>NaN</td>\n",
       "      <td>NaN</td>\n",
       "      <td>2019-01-18 05:50:08</td>\n",
       "      <td>NaN</td>\n",
       "      <td>Bangalore</td>\n",
       "      <td>Applicant</td>\n",
       "      <td>Enrolled</td>\n",
       "      <td>DSEFT</td>\n",
       "      <td>DSEFT</td>\n",
       "    </tr>\n",
       "    <tr>\n",
       "      <td>5302</td>\n",
       "      <td>c945b7a2-b4ec-406f-bf1a-58b78df27797</td>\n",
       "      <td>9.Offer Sent/Revised/Extended/Expired</td>\n",
       "      <td>Fees paid</td>\n",
       "      <td>NaN</td>\n",
       "      <td>NaN</td>\n",
       "      <td>PGP-BABI-Online.Feb19</td>\n",
       "      <td>pgp-babi-online</td>\n",
       "      <td>NaN</td>\n",
       "      <td>NaN</td>\n",
       "      <td>Fully Paid</td>\n",
       "      <td>160000</td>\n",
       "      <td>NaN</td>\n",
       "      <td>NaN</td>\n",
       "      <td>2019-01-25 12:21:11</td>\n",
       "      <td>India</td>\n",
       "      <td>Online</td>\n",
       "      <td>Offered</td>\n",
       "      <td>Enrolled</td>\n",
       "      <td>PGPBABI-Online</td>\n",
       "      <td>PGPBABI-Online</td>\n",
       "    </tr>\n",
       "    <tr>\n",
       "      <td>...</td>\n",
       "      <td>...</td>\n",
       "      <td>...</td>\n",
       "      <td>...</td>\n",
       "      <td>...</td>\n",
       "      <td>...</td>\n",
       "      <td>...</td>\n",
       "      <td>...</td>\n",
       "      <td>...</td>\n",
       "      <td>...</td>\n",
       "      <td>...</td>\n",
       "      <td>...</td>\n",
       "      <td>...</td>\n",
       "      <td>...</td>\n",
       "      <td>...</td>\n",
       "      <td>...</td>\n",
       "      <td>...</td>\n",
       "      <td>...</td>\n",
       "      <td>...</td>\n",
       "      <td>...</td>\n",
       "      <td>...</td>\n",
       "    </tr>\n",
       "    <tr>\n",
       "      <td>5504</td>\n",
       "      <td>d0c8bf8c-ac97-4ab1-ac52-2c2a125fc984</td>\n",
       "      <td>9.Offer Sent/Revised/Extended/Expired</td>\n",
       "      <td>Fees paid</td>\n",
       "      <td>NaN</td>\n",
       "      <td>NaN</td>\n",
       "      <td>NaN</td>\n",
       "      <td>NaN</td>\n",
       "      <td>NaN</td>\n",
       "      <td>NaN</td>\n",
       "      <td>Fully Paid</td>\n",
       "      <td>NaN</td>\n",
       "      <td>NaN</td>\n",
       "      <td>NaN</td>\n",
       "      <td>2018-12-26 16:09:12</td>\n",
       "      <td>India</td>\n",
       "      <td>Online</td>\n",
       "      <td>Offer Expired</td>\n",
       "      <td>Enrolled</td>\n",
       "      <td>PGPAIML-Online</td>\n",
       "      <td>PGPAIML-Online</td>\n",
       "    </tr>\n",
       "    <tr>\n",
       "      <td>5527</td>\n",
       "      <td>d0d12797-405f-41d3-8a88-96c62d4bfa0e</td>\n",
       "      <td>9.Offer Sent/Revised/Extended/Expired</td>\n",
       "      <td>Fees paid</td>\n",
       "      <td>NaN</td>\n",
       "      <td>NaN</td>\n",
       "      <td>PGP-BABI-Online.Mar19</td>\n",
       "      <td>pgp-babi-online</td>\n",
       "      <td>NaN</td>\n",
       "      <td>NaN</td>\n",
       "      <td>Fully Paid</td>\n",
       "      <td>25000</td>\n",
       "      <td>NaN</td>\n",
       "      <td>NaN</td>\n",
       "      <td>2019-02-24 14:16:07</td>\n",
       "      <td>India</td>\n",
       "      <td>Online</td>\n",
       "      <td>Offered</td>\n",
       "      <td>Enrolled</td>\n",
       "      <td>PGPBABI-Online</td>\n",
       "      <td>PGPBABI-Online</td>\n",
       "    </tr>\n",
       "    <tr>\n",
       "      <td>5744</td>\n",
       "      <td>d968a55d-bf58-4bb1-b9ee-564861559519</td>\n",
       "      <td>9.Offer Sent/Revised/Extended/Expired</td>\n",
       "      <td>Fees paid</td>\n",
       "      <td>NaN</td>\n",
       "      <td>NaN</td>\n",
       "      <td>PGP-BABI-Online.Jan19</td>\n",
       "      <td>pgp-babi-online</td>\n",
       "      <td>NaN</td>\n",
       "      <td>NaN</td>\n",
       "      <td>Fully Paid</td>\n",
       "      <td>NaN</td>\n",
       "      <td>NaN</td>\n",
       "      <td>NaN</td>\n",
       "      <td>2019-01-06 08:01:58</td>\n",
       "      <td>India</td>\n",
       "      <td>Online</td>\n",
       "      <td>Offered</td>\n",
       "      <td>Enrolled</td>\n",
       "      <td>PGPBABI-Online</td>\n",
       "      <td>PGPBABI-Online</td>\n",
       "    </tr>\n",
       "    <tr>\n",
       "      <td>6097</td>\n",
       "      <td>e41b9873-7e88-4f97-90ad-e2661231441e</td>\n",
       "      <td>9.Offer Sent/Revised/Extended/Expired</td>\n",
       "      <td>Fees paid</td>\n",
       "      <td>NaN</td>\n",
       "      <td>NaN</td>\n",
       "      <td>PGP-AIML.B.Jun19</td>\n",
       "      <td>pgpaiml-b-bangalore1</td>\n",
       "      <td>NaN</td>\n",
       "      <td>NaN</td>\n",
       "      <td>Fully Paid</td>\n",
       "      <td>50000</td>\n",
       "      <td>NaN</td>\n",
       "      <td>NaN</td>\n",
       "      <td>2019-05-17 16:05:17</td>\n",
       "      <td>India</td>\n",
       "      <td>Bangalore</td>\n",
       "      <td>Offer Accepted</td>\n",
       "      <td>Enrolled</td>\n",
       "      <td>AIML</td>\n",
       "      <td>AIML</td>\n",
       "    </tr>\n",
       "    <tr>\n",
       "      <td>6501</td>\n",
       "      <td>f40771bd-b640-4c26-8f41-1489d452d4fa</td>\n",
       "      <td>9.Offer Sent/Revised/Extended/Expired</td>\n",
       "      <td>Fees paid</td>\n",
       "      <td>NaN</td>\n",
       "      <td>NaN</td>\n",
       "      <td>PGP-BABI-Online.Apr19</td>\n",
       "      <td>pgp-babi-online</td>\n",
       "      <td>NaN</td>\n",
       "      <td>NaN</td>\n",
       "      <td>Fully Paid</td>\n",
       "      <td>25000</td>\n",
       "      <td>NaN</td>\n",
       "      <td>NaN</td>\n",
       "      <td>2019-03-31 05:49:45</td>\n",
       "      <td>India</td>\n",
       "      <td>Online</td>\n",
       "      <td>Offered</td>\n",
       "      <td>Enrolled</td>\n",
       "      <td>PGPBABI-Online</td>\n",
       "      <td>PGPBABI-Online</td>\n",
       "    </tr>\n",
       "  </tbody>\n",
       "</table>\n",
       "<p>11 rows × 20 columns</p>\n",
       "</div>"
      ],
      "text/plain": [
       "                         RelatedProspectId  \\\n",
       "1837  556ee2ae-a615-4859-84aa-b9cfee8cc52c   \n",
       "2121  5d814d31-8ea0-4536-8e09-b1dbc09a990d   \n",
       "3086  7fcb9582-f781-4d7e-adab-453de685cbae   \n",
       "5023  c03d902f-f221-4c07-adb1-b0b807a1b913   \n",
       "5302  c945b7a2-b4ec-406f-bf1a-58b78df27797   \n",
       "...                                    ...   \n",
       "5504  d0c8bf8c-ac97-4ab1-ac52-2c2a125fc984   \n",
       "5527  d0d12797-405f-41d3-8a88-96c62d4bfa0e   \n",
       "5744  d968a55d-bf58-4bb1-b9ee-564861559519   \n",
       "6097  e41b9873-7e88-4f97-90ad-e2661231441e   \n",
       "6501  f40771bd-b640-4c26-8f41-1489d452d4fa   \n",
       "\n",
       "                               ActivityName     Status mx_Custom_1  \\\n",
       "1837  9.Offer Sent/Revised/Extended/Expired  Fees paid         NaN   \n",
       "2121  9.Offer Sent/Revised/Extended/Expired  Fees paid         NaN   \n",
       "3086  9.Offer Sent/Revised/Extended/Expired  Fees paid         NaN   \n",
       "5023  9.Offer Sent/Revised/Extended/Expired  Fees paid         NaN   \n",
       "5302  9.Offer Sent/Revised/Extended/Expired  Fees paid         NaN   \n",
       "...                                     ...        ...         ...   \n",
       "5504  9.Offer Sent/Revised/Extended/Expired  Fees paid         NaN   \n",
       "5527  9.Offer Sent/Revised/Extended/Expired  Fees paid         NaN   \n",
       "5744  9.Offer Sent/Revised/Extended/Expired  Fees paid         NaN   \n",
       "6097  9.Offer Sent/Revised/Extended/Expired  Fees paid         NaN   \n",
       "6501  9.Offer Sent/Revised/Extended/Expired  Fees paid         NaN   \n",
       "\n",
       "     mx_Custom_2            mx_Custom_3            mx_Custom_4 mx_Custom_5  \\\n",
       "1837         NaN      PGPDSE-FT.B.May19  pgpdse-ft-b-bangalore         NaN   \n",
       "2121         NaN  PGP-AIML-Online.Mar19        pgp-aiml-online         NaN   \n",
       "3086         NaN  PGP-BABI-Online.Apr19        pgp-babi-online         NaN   \n",
       "5023         NaN    2018-10-01 00:00:00  pgpdse-ft-b-bangalore         NaN   \n",
       "5302         NaN  PGP-BABI-Online.Feb19        pgp-babi-online         NaN   \n",
       "...          ...                    ...                    ...         ...   \n",
       "5504         NaN                    NaN                    NaN         NaN   \n",
       "5527         NaN  PGP-BABI-Online.Mar19        pgp-babi-online         NaN   \n",
       "5744         NaN  PGP-BABI-Online.Jan19        pgp-babi-online         NaN   \n",
       "6097         NaN       PGP-AIML.B.Jun19   pgpaiml-b-bangalore1         NaN   \n",
       "6501         NaN  PGP-BABI-Online.Apr19        pgp-babi-online         NaN   \n",
       "\n",
       "     mx_Custom_6 mx_Custom_7 mx_Custom_8 mx_Custom_9  mx_Custom_10  \\\n",
       "1837         NaN  Fully Paid       25000         NaN           NaN   \n",
       "2121         NaN  Fully Paid       25000         NaN           NaN   \n",
       "3086         NaN  Fully Paid       25000         NaN           NaN   \n",
       "5023         NaN  Fully Paid      265000         NaN           NaN   \n",
       "5302         NaN  Fully Paid      160000         NaN           NaN   \n",
       "...          ...         ...         ...         ...           ...   \n",
       "5504         NaN  Fully Paid         NaN         NaN           NaN   \n",
       "5527         NaN  Fully Paid       25000         NaN           NaN   \n",
       "5744         NaN  Fully Paid         NaN         NaN           NaN   \n",
       "6097         NaN  Fully Paid       50000         NaN           NaN   \n",
       "6501         NaN  Fully Paid       25000         NaN           NaN   \n",
       "\n",
       "               CreatedOn mx_Country_Post mx_Preferred_Campus_Post  \\\n",
       "1837 2019-03-20 11:12:48           India                Bangalore   \n",
       "2121 2019-03-08 01:49:00           India                   Online   \n",
       "3086 2019-03-22 12:21:45           India                   Online   \n",
       "5023 2019-01-18 05:50:08             NaN                Bangalore   \n",
       "5302 2019-01-25 12:21:11           India                   Online   \n",
       "...                  ...             ...                      ...   \n",
       "5504 2018-12-26 16:09:12           India                   Online   \n",
       "5527 2019-02-24 14:16:07           India                   Online   \n",
       "5744 2019-01-06 08:01:58           India                   Online   \n",
       "6097 2019-05-17 16:05:17           India                Bangalore   \n",
       "6501 2019-03-31 05:49:45           India                   Online   \n",
       "\n",
       "     ProspectStage_Pre ProspectStage_Post mx_Current_Interested_Program_Pre  \\\n",
       "1837           Offered           Enrolled                             DSEFT   \n",
       "2121           Offered           Enrolled                    PGPAIML-Online   \n",
       "3086    Offer Accepted           Enrolled                    PGPBABI-Online   \n",
       "5023         Applicant           Enrolled                             DSEFT   \n",
       "5302           Offered           Enrolled                    PGPBABI-Online   \n",
       "...                ...                ...                               ...   \n",
       "5504     Offer Expired           Enrolled                    PGPAIML-Online   \n",
       "5527           Offered           Enrolled                    PGPBABI-Online   \n",
       "5744           Offered           Enrolled                    PGPBABI-Online   \n",
       "6097    Offer Accepted           Enrolled                              AIML   \n",
       "6501           Offered           Enrolled                    PGPBABI-Online   \n",
       "\n",
       "     mx_Current_Interested_Program_Post  \n",
       "1837                              DSEFT  \n",
       "2121                     PGPAIML-Online  \n",
       "3086                     PGPBABI-Online  \n",
       "5023                              DSEFT  \n",
       "5302                     PGPBABI-Online  \n",
       "...                                 ...  \n",
       "5504                     PGPAIML-Online  \n",
       "5527                     PGPBABI-Online  \n",
       "5744                     PGPBABI-Online  \n",
       "6097                               AIML  \n",
       "6501                     PGPBABI-Online  \n",
       "\n",
       "[11 rows x 20 columns]"
      ]
     },
     "execution_count": 685,
     "metadata": {},
     "output_type": "execute_result"
    }
   ],
   "source": [
    "enrolled = trails.loc[(trails['ProspectStage_Pre'] != 'Enrolled') & (trails['ProspectStage_Post'] == 'Enrolled')]\n",
    "enrolled"
   ]
  },
  {
   "cell_type": "code",
   "execution_count": 686,
   "metadata": {},
   "outputs": [
    {
     "data": {
      "text/plain": [
       "11"
      ]
     },
     "execution_count": 686,
     "metadata": {},
     "output_type": "execute_result"
    }
   ],
   "source": [
    "#Unique enrolled whose state has changed\n",
    "\n",
    "enrolled['RelatedProspectId'].nunique()"
   ]
  },
  {
   "cell_type": "code",
   "execution_count": 687,
   "metadata": {},
   "outputs": [
    {
     "data": {
      "text/plain": [
       "array(['Lead Called', 'Lead', 'Rejected', 'Pending Applicant',\n",
       "       'Applicant', 'Selected', 'Offered', 'Offer Expired', 'Invalid',\n",
       "       nan, 'Enrolled', 'Graduated', 'Offer Accepted', 'Junk Lead'],\n",
       "      dtype=object)"
      ]
     },
     "execution_count": 687,
     "metadata": {},
     "output_type": "execute_result"
    }
   ],
   "source": [
    "trails['ProspectStage_Post'].unique()"
   ]
  },
  {
   "cell_type": "code",
   "execution_count": 697,
   "metadata": {},
   "outputs": [
    {
     "data": {
      "text/html": [
       "<div>\n",
       "<style scoped>\n",
       "    .dataframe tbody tr th:only-of-type {\n",
       "        vertical-align: middle;\n",
       "    }\n",
       "\n",
       "    .dataframe tbody tr th {\n",
       "        vertical-align: top;\n",
       "    }\n",
       "\n",
       "    .dataframe thead th {\n",
       "        text-align: right;\n",
       "    }\n",
       "</style>\n",
       "<table border=\"1\" class=\"dataframe\">\n",
       "  <thead>\n",
       "    <tr style=\"text-align: right;\">\n",
       "      <th></th>\n",
       "      <th>ProspectID</th>\n",
       "      <th>CreatedOn_x</th>\n",
       "      <th>mx_Country</th>\n",
       "      <th>mx_Preferred_Campus</th>\n",
       "      <th>mx_Exp_In_Years</th>\n",
       "      <th>DoNotCall</th>\n",
       "      <th>DoNotEmail</th>\n",
       "      <th>mx_Mode_of_Instruction</th>\n",
       "      <th>Source</th>\n",
       "      <th>SourceMedium</th>\n",
       "      <th>...</th>\n",
       "      <th>mx_Custom_8</th>\n",
       "      <th>mx_Custom_9</th>\n",
       "      <th>mx_Custom_10</th>\n",
       "      <th>CreatedOn_y</th>\n",
       "      <th>mx_Country_Post</th>\n",
       "      <th>mx_Preferred_Campus_Post</th>\n",
       "      <th>ProspectStage_Pre</th>\n",
       "      <th>ProspectStage_Post</th>\n",
       "      <th>mx_Current_Interested_Program_Pre</th>\n",
       "      <th>mx_Current_Interested_Program_Post</th>\n",
       "    </tr>\n",
       "  </thead>\n",
       "  <tbody>\n",
       "    <tr>\n",
       "      <td>0</td>\n",
       "      <td>d968a55d-bf58-4bb1-b9ee-564861559519</td>\n",
       "      <td>2019-01-01 15:02:23</td>\n",
       "      <td>India</td>\n",
       "      <td>Online</td>\n",
       "      <td>8-12 Years</td>\n",
       "      <td>0</td>\n",
       "      <td>0</td>\n",
       "      <td>NaN</td>\n",
       "      <td>brochuremail</td>\n",
       "      <td>button</td>\n",
       "      <td>...</td>\n",
       "      <td>NaN</td>\n",
       "      <td>NaN</td>\n",
       "      <td>NaN</td>\n",
       "      <td>2019-01-06 08:01:58</td>\n",
       "      <td>India</td>\n",
       "      <td>Online</td>\n",
       "      <td>Offered</td>\n",
       "      <td>Enrolled</td>\n",
       "      <td>PGPBABI-Online</td>\n",
       "      <td>PGPBABI-Online</td>\n",
       "    </tr>\n",
       "    <tr>\n",
       "      <td>1</td>\n",
       "      <td>f40771bd-b640-4c26-8f41-1489d452d4fa</td>\n",
       "      <td>2019-03-26 12:14:24</td>\n",
       "      <td>India</td>\n",
       "      <td>Online</td>\n",
       "      <td>5-8 Years</td>\n",
       "      <td>0</td>\n",
       "      <td>0</td>\n",
       "      <td>NaN</td>\n",
       "      <td>Customer Referral</td>\n",
       "      <td>Browser</td>\n",
       "      <td>...</td>\n",
       "      <td>25000</td>\n",
       "      <td>NaN</td>\n",
       "      <td>NaN</td>\n",
       "      <td>2019-03-31 05:49:45</td>\n",
       "      <td>India</td>\n",
       "      <td>Online</td>\n",
       "      <td>Offered</td>\n",
       "      <td>Enrolled</td>\n",
       "      <td>PGPBABI-Online</td>\n",
       "      <td>PGPBABI-Online</td>\n",
       "    </tr>\n",
       "    <tr>\n",
       "      <td>2</td>\n",
       "      <td>c945b7a2-b4ec-406f-bf1a-58b78df27797</td>\n",
       "      <td>2019-01-21 17:13:05</td>\n",
       "      <td>India</td>\n",
       "      <td>Online</td>\n",
       "      <td>8-12 Years</td>\n",
       "      <td>0</td>\n",
       "      <td>0</td>\n",
       "      <td>NaN</td>\n",
       "      <td>google</td>\n",
       "      <td>search</td>\n",
       "      <td>...</td>\n",
       "      <td>160000</td>\n",
       "      <td>NaN</td>\n",
       "      <td>NaN</td>\n",
       "      <td>2019-01-25 12:21:11</td>\n",
       "      <td>India</td>\n",
       "      <td>Online</td>\n",
       "      <td>Offered</td>\n",
       "      <td>Enrolled</td>\n",
       "      <td>PGPBABI-Online</td>\n",
       "      <td>PGPBABI-Online</td>\n",
       "    </tr>\n",
       "    <tr>\n",
       "      <td>3</td>\n",
       "      <td>e41b9873-7e88-4f97-90ad-e2661231441e</td>\n",
       "      <td>2019-05-12 11:12:23</td>\n",
       "      <td>India</td>\n",
       "      <td>Bangalore</td>\n",
       "      <td>3-5 Years</td>\n",
       "      <td>0</td>\n",
       "      <td>0</td>\n",
       "      <td>NaN</td>\n",
       "      <td>demail</td>\n",
       "      <td>earticle</td>\n",
       "      <td>...</td>\n",
       "      <td>50000</td>\n",
       "      <td>NaN</td>\n",
       "      <td>NaN</td>\n",
       "      <td>2019-05-17 16:05:17</td>\n",
       "      <td>India</td>\n",
       "      <td>Bangalore</td>\n",
       "      <td>Offer Accepted</td>\n",
       "      <td>Enrolled</td>\n",
       "      <td>AIML</td>\n",
       "      <td>AIML</td>\n",
       "    </tr>\n",
       "    <tr>\n",
       "      <td>4</td>\n",
       "      <td>d0d12797-405f-41d3-8a88-96c62d4bfa0e</td>\n",
       "      <td>2019-02-20 14:41:51</td>\n",
       "      <td>India</td>\n",
       "      <td>Online</td>\n",
       "      <td>8-12 Years</td>\n",
       "      <td>0</td>\n",
       "      <td>0</td>\n",
       "      <td>NaN</td>\n",
       "      <td>google</td>\n",
       "      <td>search</td>\n",
       "      <td>...</td>\n",
       "      <td>25000</td>\n",
       "      <td>NaN</td>\n",
       "      <td>NaN</td>\n",
       "      <td>2019-02-24 14:16:07</td>\n",
       "      <td>India</td>\n",
       "      <td>Online</td>\n",
       "      <td>Offered</td>\n",
       "      <td>Enrolled</td>\n",
       "      <td>PGPBABI-Online</td>\n",
       "      <td>PGPBABI-Online</td>\n",
       "    </tr>\n",
       "  </tbody>\n",
       "</table>\n",
       "<p>5 rows × 44 columns</p>\n",
       "</div>"
      ],
      "text/plain": [
       "                             ProspectID         CreatedOn_x mx_Country  \\\n",
       "0  d968a55d-bf58-4bb1-b9ee-564861559519 2019-01-01 15:02:23      India   \n",
       "1  f40771bd-b640-4c26-8f41-1489d452d4fa 2019-03-26 12:14:24      India   \n",
       "2  c945b7a2-b4ec-406f-bf1a-58b78df27797 2019-01-21 17:13:05      India   \n",
       "3  e41b9873-7e88-4f97-90ad-e2661231441e 2019-05-12 11:12:23      India   \n",
       "4  d0d12797-405f-41d3-8a88-96c62d4bfa0e 2019-02-20 14:41:51      India   \n",
       "\n",
       "  mx_Preferred_Campus mx_Exp_In_Years  DoNotCall  DoNotEmail  \\\n",
       "0              Online      8-12 Years          0           0   \n",
       "1              Online       5-8 Years          0           0   \n",
       "2              Online      8-12 Years          0           0   \n",
       "3           Bangalore       3-5 Years          0           0   \n",
       "4              Online      8-12 Years          0           0   \n",
       "\n",
       "  mx_Mode_of_Instruction             Source SourceMedium  ... mx_Custom_8  \\\n",
       "0                    NaN       brochuremail       button  ...         NaN   \n",
       "1                    NaN  Customer Referral      Browser  ...       25000   \n",
       "2                    NaN             google       search  ...      160000   \n",
       "3                    NaN             demail     earticle  ...       50000   \n",
       "4                    NaN             google       search  ...       25000   \n",
       "\n",
       "  mx_Custom_9  mx_Custom_10         CreatedOn_y mx_Country_Post  \\\n",
       "0         NaN           NaN 2019-01-06 08:01:58           India   \n",
       "1         NaN           NaN 2019-03-31 05:49:45           India   \n",
       "2         NaN           NaN 2019-01-25 12:21:11           India   \n",
       "3         NaN           NaN 2019-05-17 16:05:17           India   \n",
       "4         NaN           NaN 2019-02-24 14:16:07           India   \n",
       "\n",
       "  mx_Preferred_Campus_Post ProspectStage_Pre ProspectStage_Post  \\\n",
       "0                   Online           Offered           Enrolled   \n",
       "1                   Online           Offered           Enrolled   \n",
       "2                   Online           Offered           Enrolled   \n",
       "3                Bangalore    Offer Accepted           Enrolled   \n",
       "4                   Online           Offered           Enrolled   \n",
       "\n",
       "   mx_Current_Interested_Program_Pre mx_Current_Interested_Program_Post  \n",
       "0                     PGPBABI-Online                     PGPBABI-Online  \n",
       "1                     PGPBABI-Online                     PGPBABI-Online  \n",
       "2                     PGPBABI-Online                     PGPBABI-Online  \n",
       "3                               AIML                               AIML  \n",
       "4                     PGPBABI-Online                     PGPBABI-Online  \n",
       "\n",
       "[5 rows x 44 columns]"
      ]
     },
     "execution_count": 697,
     "metadata": {},
     "output_type": "execute_result"
    }
   ],
   "source": [
    "# we are now merging the two enrolled data parts from the two data frame latest, trails\n",
    "\n",
    "enrolled_mrgd = pd.merge(latest, enrolled, how='inner', left_on='ProspectID', right_on='RelatedProspectId')\n",
    "enrolled_mrgd.head()"
   ]
  },
  {
   "cell_type": "markdown",
   "metadata": {},
   "source": [
    "num_assoc: how many times each lead were associated either through visiting the webpage, or they were called or sent an email for offer etc"
   ]
  },
  {
   "cell_type": "code",
   "execution_count": 698,
   "metadata": {},
   "outputs": [
    {
     "data": {
      "text/html": [
       "<div>\n",
       "<style scoped>\n",
       "    .dataframe tbody tr th:only-of-type {\n",
       "        vertical-align: middle;\n",
       "    }\n",
       "\n",
       "    .dataframe tbody tr th {\n",
       "        vertical-align: top;\n",
       "    }\n",
       "\n",
       "    .dataframe thead th {\n",
       "        text-align: right;\n",
       "    }\n",
       "</style>\n",
       "<table border=\"1\" class=\"dataframe\">\n",
       "  <thead>\n",
       "    <tr style=\"text-align: right;\">\n",
       "      <th></th>\n",
       "      <th>ProspectID</th>\n",
       "      <th>num_assoc</th>\n",
       "    </tr>\n",
       "  </thead>\n",
       "  <tbody>\n",
       "    <tr>\n",
       "      <td>0</td>\n",
       "      <td>c945b7a2-b4ec-406f-bf1a-58b78df27797</td>\n",
       "      <td>174</td>\n",
       "    </tr>\n",
       "    <tr>\n",
       "      <td>1</td>\n",
       "      <td>8ce417c9-db72-4f75-a7a0-f6d327a658a0</td>\n",
       "      <td>83</td>\n",
       "    </tr>\n",
       "    <tr>\n",
       "      <td>2</td>\n",
       "      <td>744d0317-0207-40b1-bc6a-c0b8814af774</td>\n",
       "      <td>68</td>\n",
       "    </tr>\n",
       "    <tr>\n",
       "      <td>3</td>\n",
       "      <td>f40771bd-b640-4c26-8f41-1489d452d4fa</td>\n",
       "      <td>65</td>\n",
       "    </tr>\n",
       "    <tr>\n",
       "      <td>4</td>\n",
       "      <td>d0d12797-405f-41d3-8a88-96c62d4bfa0e</td>\n",
       "      <td>60</td>\n",
       "    </tr>\n",
       "    <tr>\n",
       "      <td>...</td>\n",
       "      <td>...</td>\n",
       "      <td>...</td>\n",
       "    </tr>\n",
       "    <tr>\n",
       "      <td>995</td>\n",
       "      <td>49991a5e-5629-49c5-a3fb-b822420e055a</td>\n",
       "      <td>1</td>\n",
       "    </tr>\n",
       "    <tr>\n",
       "      <td>996</td>\n",
       "      <td>7e3038d1-19ec-4d86-947a-2a5332a90253</td>\n",
       "      <td>1</td>\n",
       "    </tr>\n",
       "    <tr>\n",
       "      <td>997</td>\n",
       "      <td>eb922704-ac5b-4556-ad69-559cd67f2ef6</td>\n",
       "      <td>1</td>\n",
       "    </tr>\n",
       "    <tr>\n",
       "      <td>998</td>\n",
       "      <td>c3d70f62-0846-4964-a45f-1832d3343637</td>\n",
       "      <td>1</td>\n",
       "    </tr>\n",
       "    <tr>\n",
       "      <td>999</td>\n",
       "      <td>c643088a-1568-48be-97cf-271d7e69570b</td>\n",
       "      <td>1</td>\n",
       "    </tr>\n",
       "  </tbody>\n",
       "</table>\n",
       "<p>1000 rows × 2 columns</p>\n",
       "</div>"
      ],
      "text/plain": [
       "                               ProspectID  num_assoc\n",
       "0    c945b7a2-b4ec-406f-bf1a-58b78df27797        174\n",
       "1    8ce417c9-db72-4f75-a7a0-f6d327a658a0         83\n",
       "2    744d0317-0207-40b1-bc6a-c0b8814af774         68\n",
       "3    f40771bd-b640-4c26-8f41-1489d452d4fa         65\n",
       "4    d0d12797-405f-41d3-8a88-96c62d4bfa0e         60\n",
       "..                                    ...        ...\n",
       "995  49991a5e-5629-49c5-a3fb-b822420e055a          1\n",
       "996  7e3038d1-19ec-4d86-947a-2a5332a90253          1\n",
       "997  eb922704-ac5b-4556-ad69-559cd67f2ef6          1\n",
       "998  c3d70f62-0846-4964-a45f-1832d3343637          1\n",
       "999  c643088a-1568-48be-97cf-271d7e69570b          1\n",
       "\n",
       "[1000 rows x 2 columns]"
      ]
     },
     "execution_count": 698,
     "metadata": {},
     "output_type": "execute_result"
    }
   ],
   "source": [
    "num_assoc = trails['RelatedProspectId'].value_counts()\n",
    "num_assoc.name = 'num_assoc'\n",
    "num_assoc = pd.DataFrame(num_assoc)\n",
    "num_assoc = num_assoc.reset_index()\n",
    "num_assoc.rename(columns={'index': 'ProspectID'}, inplace=True)\n",
    "num_assoc"
   ]
  },
  {
   "cell_type": "markdown",
   "metadata": {},
   "source": [
    "This DataFrame d shows how many times the candidates have visited the website, their engagementscore, score, and year of experiences"
   ]
  },
  {
   "cell_type": "code",
   "execution_count": 699,
   "metadata": {},
   "outputs": [
    {
     "data": {
      "text/html": [
       "<div>\n",
       "<style scoped>\n",
       "    .dataframe tbody tr th:only-of-type {\n",
       "        vertical-align: middle;\n",
       "    }\n",
       "\n",
       "    .dataframe tbody tr th {\n",
       "        vertical-align: top;\n",
       "    }\n",
       "\n",
       "    .dataframe thead th {\n",
       "        text-align: right;\n",
       "    }\n",
       "</style>\n",
       "<table border=\"1\" class=\"dataframe\">\n",
       "  <thead>\n",
       "    <tr style=\"text-align: right;\">\n",
       "      <th></th>\n",
       "      <th>ProspectID</th>\n",
       "      <th>num_assoc</th>\n",
       "      <th>EngagementScore</th>\n",
       "      <th>Score</th>\n",
       "      <th>mx_Exp_In_Years</th>\n",
       "    </tr>\n",
       "  </thead>\n",
       "  <tbody>\n",
       "    <tr>\n",
       "      <td>0</td>\n",
       "      <td>c945b7a2-b4ec-406f-bf1a-58b78df27797</td>\n",
       "      <td>174</td>\n",
       "      <td>141.0</td>\n",
       "      <td>376.0</td>\n",
       "      <td>10.0</td>\n",
       "    </tr>\n",
       "    <tr>\n",
       "      <td>1</td>\n",
       "      <td>8ce417c9-db72-4f75-a7a0-f6d327a658a0</td>\n",
       "      <td>83</td>\n",
       "      <td>77.0</td>\n",
       "      <td>208.0</td>\n",
       "      <td>1.5</td>\n",
       "    </tr>\n",
       "    <tr>\n",
       "      <td>2</td>\n",
       "      <td>744d0317-0207-40b1-bc6a-c0b8814af774</td>\n",
       "      <td>68</td>\n",
       "      <td>24.0</td>\n",
       "      <td>94.0</td>\n",
       "      <td>0.0</td>\n",
       "    </tr>\n",
       "    <tr>\n",
       "      <td>3</td>\n",
       "      <td>f40771bd-b640-4c26-8f41-1489d452d4fa</td>\n",
       "      <td>65</td>\n",
       "      <td>132.0</td>\n",
       "      <td>175.0</td>\n",
       "      <td>6.5</td>\n",
       "    </tr>\n",
       "    <tr>\n",
       "      <td>4</td>\n",
       "      <td>d0d12797-405f-41d3-8a88-96c62d4bfa0e</td>\n",
       "      <td>60</td>\n",
       "      <td>56.0</td>\n",
       "      <td>126.0</td>\n",
       "      <td>10.0</td>\n",
       "    </tr>\n",
       "    <tr>\n",
       "      <td>...</td>\n",
       "      <td>...</td>\n",
       "      <td>...</td>\n",
       "      <td>...</td>\n",
       "      <td>...</td>\n",
       "      <td>...</td>\n",
       "    </tr>\n",
       "    <tr>\n",
       "      <td>995</td>\n",
       "      <td>49991a5e-5629-49c5-a3fb-b822420e055a</td>\n",
       "      <td>1</td>\n",
       "      <td>2.0</td>\n",
       "      <td>9.0</td>\n",
       "      <td>6.5</td>\n",
       "    </tr>\n",
       "    <tr>\n",
       "      <td>996</td>\n",
       "      <td>7e3038d1-19ec-4d86-947a-2a5332a90253</td>\n",
       "      <td>1</td>\n",
       "      <td>0.0</td>\n",
       "      <td>0.0</td>\n",
       "      <td>3.5</td>\n",
       "    </tr>\n",
       "    <tr>\n",
       "      <td>997</td>\n",
       "      <td>eb922704-ac5b-4556-ad69-559cd67f2ef6</td>\n",
       "      <td>1</td>\n",
       "      <td>0.0</td>\n",
       "      <td>0.0</td>\n",
       "      <td>NaN</td>\n",
       "    </tr>\n",
       "    <tr>\n",
       "      <td>998</td>\n",
       "      <td>c3d70f62-0846-4964-a45f-1832d3343637</td>\n",
       "      <td>1</td>\n",
       "      <td>0.0</td>\n",
       "      <td>0.0</td>\n",
       "      <td>NaN</td>\n",
       "    </tr>\n",
       "    <tr>\n",
       "      <td>999</td>\n",
       "      <td>c643088a-1568-48be-97cf-271d7e69570b</td>\n",
       "      <td>1</td>\n",
       "      <td>0.0</td>\n",
       "      <td>2.0</td>\n",
       "      <td>0.0</td>\n",
       "    </tr>\n",
       "  </tbody>\n",
       "</table>\n",
       "<p>1000 rows × 5 columns</p>\n",
       "</div>"
      ],
      "text/plain": [
       "                               ProspectID  num_assoc  EngagementScore  Score  \\\n",
       "0    c945b7a2-b4ec-406f-bf1a-58b78df27797        174            141.0  376.0   \n",
       "1    8ce417c9-db72-4f75-a7a0-f6d327a658a0         83             77.0  208.0   \n",
       "2    744d0317-0207-40b1-bc6a-c0b8814af774         68             24.0   94.0   \n",
       "3    f40771bd-b640-4c26-8f41-1489d452d4fa         65            132.0  175.0   \n",
       "4    d0d12797-405f-41d3-8a88-96c62d4bfa0e         60             56.0  126.0   \n",
       "..                                    ...        ...              ...    ...   \n",
       "995  49991a5e-5629-49c5-a3fb-b822420e055a          1              2.0    9.0   \n",
       "996  7e3038d1-19ec-4d86-947a-2a5332a90253          1              0.0    0.0   \n",
       "997  eb922704-ac5b-4556-ad69-559cd67f2ef6          1              0.0    0.0   \n",
       "998  c3d70f62-0846-4964-a45f-1832d3343637          1              0.0    0.0   \n",
       "999  c643088a-1568-48be-97cf-271d7e69570b          1              0.0    2.0   \n",
       "\n",
       "     mx_Exp_In_Years  \n",
       "0               10.0  \n",
       "1                1.5  \n",
       "2                0.0  \n",
       "3                6.5  \n",
       "4               10.0  \n",
       "..               ...  \n",
       "995              6.5  \n",
       "996              3.5  \n",
       "997              NaN  \n",
       "998              NaN  \n",
       "999              0.0  \n",
       "\n",
       "[1000 rows x 5 columns]"
      ]
     },
     "execution_count": 699,
     "metadata": {},
     "output_type": "execute_result"
    }
   ],
   "source": [
    "d = pd.merge(num_assoc, latest_use[['ProspectID', 'EngagementScore', 'Score', 'mx_Exp_In_Years']])\n",
    "d"
   ]
  },
  {
   "cell_type": "markdown",
   "metadata": {},
   "source": [
    "#### The correlation between the associated numbers and the engagement score, score, years of exp\n",
    "\n",
    "> more than 0.5 can be considered as a high correlation"
   ]
  },
  {
   "cell_type": "code",
   "execution_count": 691,
   "metadata": {},
   "outputs": [
    {
     "data": {
      "text/html": [
       "<div>\n",
       "<style scoped>\n",
       "    .dataframe tbody tr th:only-of-type {\n",
       "        vertical-align: middle;\n",
       "    }\n",
       "\n",
       "    .dataframe tbody tr th {\n",
       "        vertical-align: top;\n",
       "    }\n",
       "\n",
       "    .dataframe thead th {\n",
       "        text-align: right;\n",
       "    }\n",
       "</style>\n",
       "<table border=\"1\" class=\"dataframe\">\n",
       "  <thead>\n",
       "    <tr style=\"text-align: right;\">\n",
       "      <th></th>\n",
       "      <th>num_assoc</th>\n",
       "      <th>EngagementScore</th>\n",
       "      <th>Score</th>\n",
       "      <th>mx_Exp_In_Years</th>\n",
       "    </tr>\n",
       "  </thead>\n",
       "  <tbody>\n",
       "    <tr>\n",
       "      <td>num_assoc</td>\n",
       "      <td>1.000000</td>\n",
       "      <td>0.671228</td>\n",
       "      <td>0.385731</td>\n",
       "      <td>0.003847</td>\n",
       "    </tr>\n",
       "    <tr>\n",
       "      <td>EngagementScore</td>\n",
       "      <td>0.671228</td>\n",
       "      <td>1.000000</td>\n",
       "      <td>0.324604</td>\n",
       "      <td>-0.033588</td>\n",
       "    </tr>\n",
       "    <tr>\n",
       "      <td>Score</td>\n",
       "      <td>0.385731</td>\n",
       "      <td>0.324604</td>\n",
       "      <td>1.000000</td>\n",
       "      <td>0.022977</td>\n",
       "    </tr>\n",
       "    <tr>\n",
       "      <td>mx_Exp_In_Years</td>\n",
       "      <td>0.003847</td>\n",
       "      <td>-0.033588</td>\n",
       "      <td>0.022977</td>\n",
       "      <td>1.000000</td>\n",
       "    </tr>\n",
       "  </tbody>\n",
       "</table>\n",
       "</div>"
      ],
      "text/plain": [
       "                 num_assoc  EngagementScore     Score  mx_Exp_In_Years\n",
       "num_assoc         1.000000         0.671228  0.385731         0.003847\n",
       "EngagementScore   0.671228         1.000000  0.324604        -0.033588\n",
       "Score             0.385731         0.324604  1.000000         0.022977\n",
       "mx_Exp_In_Years   0.003847        -0.033588  0.022977         1.000000"
      ]
     },
     "execution_count": 691,
     "metadata": {},
     "output_type": "execute_result"
    }
   ],
   "source": [
    "d.corr()"
   ]
  },
  {
   "cell_type": "code",
   "execution_count": 700,
   "metadata": {},
   "outputs": [
    {
     "data": {
      "text/plain": [
       "Index(['ProspectID', 'CreatedOn', 'mx_Country', 'mx_Preferred_Campus',\n",
       "       'mx_Exp_In_Years', 'DoNotCall', 'DoNotEmail', 'mx_Mode_of_Instruction',\n",
       "       'Source', 'SourceMedium', 'SourceCampaign', 'ProspectStage', 'Score',\n",
       "       'EngagementScore', 'mx_Current_Interested_Program',\n",
       "       'mx_Application_Date', 'mx_Industry', 'mx_UG_Degree',\n",
       "       'mx_UG_Passing_Year', 'mx_PG_Degree', 'mx_PG_Passing_Year',\n",
       "       'mx_Batch_Code', 'mx_City', 'mx_Device_details'],\n",
       "      dtype='object')"
      ]
     },
     "execution_count": 700,
     "metadata": {},
     "output_type": "execute_result"
    }
   ],
   "source": [
    "latest.columns"
   ]
  },
  {
   "cell_type": "code",
   "execution_count": 701,
   "metadata": {},
   "outputs": [
    {
     "data": {
      "text/plain": [
       "Aiml                                              2\n",
       "Exact_search_application_bangalore_performance    1\n",
       "Pgpba                                             1\n",
       "Pt                                                1\n",
       "Lms                                               1\n",
       "Name: SourceCampaign, dtype: int64"
      ]
     },
     "execution_count": 701,
     "metadata": {},
     "output_type": "execute_result"
    },
    {
     "data": {
      "image/png": "[encoded data removed]",
      "text/plain": [
       "<Figure size 1080x360 with 1 Axes>"
      ]
     },
     "metadata": {},
     "output_type": "display_data"
    }
   ],
   "source": [
    "plot_top_n(enrolled_mrgd['SourceCampaign'])"
   ]
  },
  {
   "cell_type": "code",
   "execution_count": 702,
   "metadata": {},
   "outputs": [
    {
     "data": {
      "text/plain": [
       "Organic/direct         3\n",
       "Google                 2\n",
       "Customer referral      2\n",
       "Website                1\n",
       "Outbound phone call    1\n",
       "Name: Source, dtype: int64"
      ]
     },
     "execution_count": 702,
     "metadata": {},
     "output_type": "execute_result"
    },
    {
     "data": {
      "image/png": "[encoded data removed]",
      "text/plain": [
       "<Figure size 1080x360 with 1 Axes>"
      ]
     },
     "metadata": {},
     "output_type": "display_data"
    }
   ],
   "source": [
    "plot_top_n(enrolled_mrgd['Source'])"
   ]
  },
  {
   "cell_type": "code",
   "execution_count": 703,
   "metadata": {},
   "outputs": [
    {
     "data": {
      "text/plain": [
       "Online       7\n",
       "Bangalore    3\n",
       "Mumbai       1\n",
       "Name: mx_Preferred_Campus, dtype: int64"
      ]
     },
     "execution_count": 703,
     "metadata": {},
     "output_type": "execute_result"
    },
    {
     "data": {
      "image/png": "[encoded data removed]",
      "text/plain": [
       "<Figure size 1080x360 with 1 Axes>"
      ]
     },
     "metadata": {},
     "output_type": "display_data"
    }
   ],
   "source": [
    "plot_top_n(enrolled_mrgd['mx_Preferred_Campus'])"
   ]
  },
  {
   "cell_type": "code",
   "execution_count": 704,
   "metadata": {},
   "outputs": [
    {
     "data": {
      "text/plain": [
       "It & technology    4\n",
       "Energy             2\n",
       "Bfsi               1\n",
       "Automobile         1\n",
       "Manufacturing      1\n",
       "Name: mx_Industry, dtype: int64"
      ]
     },
     "execution_count": 704,
     "metadata": {},
     "output_type": "execute_result"
    },
    {
     "data": {
      "image/png": "[encoded data removed]",
      "text/plain": [
       "<Figure size 1080x360 with 1 Axes>"
      ]
     },
     "metadata": {},
     "output_type": "display_data"
    }
   ],
   "source": [
    "plot_top_n(enrolled_mrgd['mx_Industry'])"
   ]
  },
  {
   "cell_type": "code",
   "execution_count": 706,
   "metadata": {},
   "outputs": [
    {
     "data": {
      "text/plain": [
       "Pgpbabi-online    5\n",
       "Dseft             3\n",
       "Pgpaiml-online    2\n",
       "Aiml              1\n",
       "Name: mx_Current_Interested_Program, dtype: int64"
      ]
     },
     "execution_count": 706,
     "metadata": {},
     "output_type": "execute_result"
    },
    {
     "data": {
      "image/png": "[encoded data removed]",
      "text/plain": [
       "<Figure size 1080x360 with 1 Axes>"
      ]
     },
     "metadata": {},
     "output_type": "display_data"
    }
   ],
   "source": [
    " plot_top_n(enrolled_mrgd['mx_Current_Interested_Program'])"
   ]
  },
  {
   "cell_type": "code",
   "execution_count": 705,
   "metadata": {},
   "outputs": [
    {
     "data": {
      "text/plain": [
       "8-12 years    3\n",
       "0 years       2\n",
       "1-2 years     2\n",
       "3-5 years     2\n",
       "2-3 years     1\n",
       "Name: mx_Exp_In_Years, dtype: int64"
      ]
     },
     "execution_count": 705,
     "metadata": {},
     "output_type": "execute_result"
    },
    {
     "data": {
      "image/png": "[encoded data removed]",
      "text/plain": [
       "<Figure size 1080x360 with 1 Axes>"
      ]
     },
     "metadata": {},
     "output_type": "display_data"
    }
   ],
   "source": [
    " plot_top_n(enrolled_mrgd['mx_Exp_In_Years'])"
   ]
  },
  {
   "cell_type": "markdown",
   "metadata": {},
   "source": [
    "In the Latest table, there are unique PrsopectIds of 1000 candidates among whom only 15 people enrolled. Trails contains information who were repeatedly contacted a number of times at various stages till they enrolled. There are 11 people who have bought the course in the post stage, also num_assoc and engagement score has a high correlation, this shows that the number of times the candidate visit the website, their enrollment have increased. This somewhat shows that people who have bought the course did have genuine interest in GreatLearnings. \n",
    "\n",
    "Since the data is very limited, only 11 data points are available for people who have changed their status to 'enrolled' from pre Prospect Stage to post Prospect stage so the inferences will have a high tendency of biasness. However, an intuitive, or a hunch that can be considered from the above graphs are as follows:\n",
    "\n",
    "The previous graphs shows that most enrolled poeple have a \n",
    "1. Year of exp: 8-12 years\n",
    "2. from It and technology industry, showing that It and Technology industry can be a good place to advertise for the courses\n",
    "3. They prefer online mode, so online mode can be improved to increase sell\n",
    "4. They have maximum come from direct referral.\n",
    "5. They have mainly arrived fro, source campaign 'Amil'\n",
    "6. They are interested in teh course 'Pgpbabi'\n",
    "\n",
    "\n",
    "This was all the details that the data was describing. \n",
    "Thank you"
   ]
  }
 ],
 "metadata": {
  "kernelspec": {
   "display_name": "Python 3",
   "language": "python",
   "name": "python3"
  },
  "language_info": {
   "codemirror_mode": {
    "name": "ipython",
    "version": 3
   },
   "file_extension": ".py",
   "mimetype": "text/x-python",
   "name": "python",
   "nbconvert_exporter": "python",
   "pygments_lexer": "ipython3",
   "version": "3.7.4"
  }
 },
 "nbformat": 4,
 "nbformat_minor": 2
}
