{
 "cells": [
  {
   "cell_type": "code",
   "execution_count": 10,
   "metadata": {},
   "outputs": [],
   "source": [
    "import numpy as np\n",
    "import time"
   ]
  },
  {
   "cell_type": "code",
   "execution_count": 11,
   "metadata": {},
   "outputs": [],
   "source": [
    "def my_vectorize(func):\n",
    "    def vecfunc(*args, **kwargs):\n",
    "        \n",
    "        return [func(a, *args[1:], **kwargs) for a in args[0]]\n",
    "    \n",
    "    return vecfunc"
   ]
  },
  {
   "cell_type": "code",
   "execution_count": 12,
   "metadata": {},
   "outputs": [],
   "source": [
    "import time"
   ]
  },
  {
   "cell_type": "code",
   "execution_count": 28,
   "metadata": {},
   "outputs": [],
   "source": [
    "def timeit(func):\n",
    "    def modfunc(*args, **kwargs):\n",
    "        start = time.time()\n",
    "        ret_val = func(*args, **kwargs)\n",
    "        end = time.time()\n",
    "        print(f'Time elapsed: {end-start:.2f}s')\n",
    "        \n",
    "        return ret_val\n",
    "    \n",
    "    return modfunc"
   ]
  },
  {
   "cell_type": "code",
   "execution_count": 14,
   "metadata": {},
   "outputs": [],
   "source": [
    "def na_patch(exception_return='first'):\n",
    "    def middle(func):\n",
    "        def modfunc(*args, **kwargs):\n",
    "            try:\n",
    "                return func(*args, **kwargs)\n",
    "        \n",
    "            except Exception:\n",
    "                if exception_return == 'first':\n",
    "                    return args[0]\n",
    "                \n",
    "                elif callable(exception_return):\n",
    "                    return exception_return(*args, **kwargs)\n",
    "                \n",
    "                else:\n",
    "                    return exception_return\n",
    "                    \n",
    "        return modfunc\n",
    "        \n",
    "    return middle"
   ]
  },
  {
   "cell_type": "code",
   "execution_count": 15,
   "metadata": {},
   "outputs": [],
   "source": [
    "\n",
    "@na_patch(exception_return=lambda x: x**2 if type(x) is int else np.nan)\n",
    "def strip_wspace(s):\n",
    "    # Do something more here\n",
    "    return s.strip()\n"
   ]
  },
  {
   "cell_type": "code",
   "execution_count": 30,
   "metadata": {},
   "outputs": [],
   "source": [
    "@timeit\n",
    "def calculate_function(vals, method, base_func):\n",
    "    if method == 'list_comp':\n",
    "        return np.array([base_func(v) for v in vals])\n",
    "    \n",
    "    if method == 'map':\n",
    "        return np.array(list(map(base_func, vals)))\n",
    "    \n",
    "    if method == 'np_vec':\n",
    "        func_vectorized = np.vectorize(base_func)\n",
    "        return func_vectorized(vals)\n",
    "    \n",
    "    if method == 'generate_map':\n",
    "        uniq = np.unique(vals)\n",
    "        uniq_comp = calculate_function(uniq, 'list_comp', base_func)\n",
    "        map_dict = dict(zip(uniq, uniq_comp))\n",
    "        lookup =  np.vectorize(lambda x: map_dict[x])\n",
    "    \n",
    "        return lookup(vals)\n",
    "        \n",
    "    "
   ]
  },
  {
   "cell_type": "code",
   "execution_count": 31,
   "metadata": {},
   "outputs": [],
   "source": [
    "vals = np.random.randint(1, 100, 1000000)"
   ]
  },
  {
   "cell_type": "code",
   "execution_count": 32,
   "metadata": {},
   "outputs": [],
   "source": [
    "def func(x):\n",
    "    if x >5 :\n",
    "        return x**2\n",
    "    else:\n",
    "        return 3*x + np.sin(x)"
   ]
  },
  {
   "cell_type": "code",
   "execution_count": 33,
   "metadata": {},
   "outputs": [
    {
     "name": "stdout",
     "output_type": "stream",
     "text": [
      "Time elapsed: 0.49s\n"
     ]
    }
   ],
   "source": [
    "# %%time\n",
    "v1 = calculate_function(vals, 'np_vec', func);"
   ]
  },
  {
   "cell_type": "code",
   "execution_count": 34,
   "metadata": {},
   "outputs": [
    {
     "name": "stdout",
     "output_type": "stream",
     "text": [
      "Time elapsed: 0.97s\n"
     ]
    }
   ],
   "source": [
    "v2 = calculate_function(vals, 'list_comp', func )"
   ]
  },
  {
   "cell_type": "code",
   "execution_count": 35,
   "metadata": {},
   "outputs": [
    {
     "name": "stdout",
     "output_type": "stream",
     "text": [
      "Time elapsed: 0.00s\n",
      "Time elapsed: 0.35s\n"
     ]
    }
   ],
   "source": [
    "v3 = calculate_function(vals, 'generate_map', func)"
   ]
  },
  {
   "cell_type": "code",
   "execution_count": 37,
   "metadata": {},
   "outputs": [
    {
     "name": "stdout",
     "output_type": "stream",
     "text": [
      "Time elapsed: 1.62s\n"
     ]
    }
   ],
   "source": [
    "v4 = calculate_function(vals, 'map', func)"
   ]
  },
  {
   "cell_type": "code",
   "execution_count": 40,
   "metadata": {},
   "outputs": [
    {
     "name": "stdout",
     "output_type": "stream",
     "text": [
      "Wall time: 171 ms\n"
     ]
    }
   ],
   "source": [
    "%%time\n",
    "sign_lookup = np.vectorize(lambda x: 1 if x > 0 else 0)\n",
    "v5 = sign_lookup(vals-5)*(vals**2) + 3*vals + np.sin(vals)"
   ]
  }
 ],
 "metadata": {
  "kernelspec": {
   "display_name": "Python 3",
   "language": "python",
   "name": "python3"
  },
  "language_info": {
   "codemirror_mode": {
    "name": "ipython",
    "version": 3
   },
   "file_extension": ".py",
   "mimetype": "text/x-python",
   "name": "python",
   "nbconvert_exporter": "python",
   "pygments_lexer": "ipython3",
   "version": "3.8.6"
  }
 },
 "nbformat": 4,
 "nbformat_minor": 4
}
